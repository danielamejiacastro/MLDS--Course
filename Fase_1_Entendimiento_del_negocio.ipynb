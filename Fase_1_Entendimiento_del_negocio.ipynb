{
  "cells": [
    {
      "cell_type": "markdown",
      "metadata": {
        "colab_type": "text",
        "id": "view-in-github"
      },
      "source": [
        "<a href=\"https://colab.research.google.com/github/danielamejiacastro/MLDS--Course/blob/main/Fase_1_Entendimiento_del_negocio.ipynb\" target=\"_parent\"><img src=\"https://colab.research.google.com/assets/colab-badge.svg\" alt=\"Open In Colab\"/></a>"
      ]
    },
    {
      "cell_type": "markdown",
      "metadata": {
        "id": "2qrgS_sCJquS"
      },
      "source": [
        "<img src = \"https://drive.google.com/uc?export=view&id=1ljiY7gV0TKs3nnTMPA5UBdED8KGzzZnX\" alt = \"Encabezado MLDS\" width = \"100%\">  </img>"
      ]
    },
    {
      "cell_type": "code",
      "execution_count": 1,
      "metadata": {},
      "outputs": [
        {
          "name": "stderr",
          "output_type": "stream",
          "text": [
            "'ls' is not recognized as an internal or external command,\n",
            "operable program or batch file.\n"
          ]
        }
      ],
      "source": [
        "import pandas as pd\n",
        "import numpy as np\n",
        "import seaborn as sns\n",
        "import matplotlib.pyplot as plt\n",
        "from scipy import stats\n",
        "import scipy\n",
        "import statsmodels.api as sm\n",
        "import folium\n",
        "import statsmodels.formula.api as smf\n",
        "import plotly.express as px\n",
        "\n",
        "import os\n",
        "\n",
        "\n",
        "!ls"
      ]
    },
    {
      "cell_type": "markdown",
      "metadata": {
        "id": "--22KSZzLR-o"
      },
      "source": [
        "# **Entendimiento del negocio**\n",
        "---\n",
        "Este notebook es una plantilla que le puede servir como guía para el primer entregable del proyecto aplicado."
      ]
    },
    {
      "cell_type": "markdown",
      "metadata": {
        "id": "fdb4c33d"
      },
      "source": [
        "## **0. Integrantes del equipo de trabajo**\n",
        "---\n",
        "\n",
        "Por favor incluya los nombres completos y número de identificación de los integrantes del equipo de trabajo:"
      ]
    },
    {
      "cell_type": "markdown",
      "metadata": {
        "id": "ckNDI7ftUrpa"
      },
      "source": [
        "1. John Robert Gomez Pachón\n",
        "2. Yojhan Leandro Roldan Robles\n",
        "3. Daniela Mejia Castro"
      ]
    },
    {
      "cell_type": "markdown",
      "metadata": {
        "id": "w2fwJpnBUkMV"
      },
      "source": [
        "## **1. Marco de Proyecto**\n",
        "---\n",
        "\n",
        "Normalmente, se suele construir un marco de proyecto para mostrar los resultados del entendimiento del negocio, es decir, debemos dar respuesta a los siguientes elementos:"
      ]
    },
    {
      "cell_type": "markdown",
      "metadata": {
        "id": "pRqgu9BH_L30"
      },
      "source": [
        "# **1. Entendimiento del negocio**\n",
        "---\n",
        "# **1.1 Trasfondo del proyecto**\n",
        "---\n",
        "- ¿Quienes son los beneficiarios del proyecto? ¿En qué dominio se encuentran (marketing, medicina, entre otros)?\n",
        "- ¿Cuáles son los principales desafíos o problemas de la situación que motivan la necesidad de realizar un proyecto de análisis de datos?\n",
        "---\n",
        "\n",
        "El desarrollo del proyecto se encuentra en el marco del área de la salud, más específicamente se enfoca en el análisis de datos bioestadísticos. Este es un campo que, como se describe en el articulo Chicco y Jurman (en el que se analiza el mismo set de datos), intenta encontrar correlaciones y patrones en los datos que no son fácilmente detectables por los especialistas de la salud, paso seguido construyen modelos predictivos para determinar el posible estado de los pacientes basándose en sus características.\n",
        "\n",
        "El enfoque del proyecto se inclina por la búsqueda de relaciones entre las diferentes variables que componen la historia clínica electrónica (EHR por sus siglas en ingles). Lo anterior se fundamenta en las herramientas y metodologías del análisis y visualización de datos, particularmente se implementará en la metodología CRISP-DM.\n",
        "\n",
        "Los beneficios son fundamentalmente:\n",
        "\n",
        "- Poder reducir los factores de riesgo en la población en general para reducir el riesgo de fallo cardiaco y realizar tratamientos preventivos.\n",
        "- Realizar un proceso de priorización para los pacientes para poder reducir sus indices de mortalidad.\n",
        "\n",
        "\n",
        "El desafió al que este proyecto se enfrenta esta bien descrito en el articulo que presenta los datos, y es encontrar la manera de generar diagnostico precisos acerca de pacientes con fallas cardíacas, ya que al rededor del mundo se presentan cerca de 17 millones de muertes al año relacionadas con enfermedades cardiovasculares. Este reto ha sido tratado desde diferentes perspectivas, pero las herramientas de machine learning y bioestadistica han presentado deficiencias en generar modelos predictivos de alta precisión (comentado en el articulo).\n",
        "\n",
        "# **1.2 Alcance**\n",
        "---\n",
        "\n",
        "- ¿Qué  solución se desea implementar?\n",
        "- ¿Cuáles son los límites y fronteras del proyecto de análisis de datos? ¿Qué aspectos específicos del negocio se incluirán y cuáles se excluyen en el alcance del proyecto?\n",
        "- ¿De qué forma el cliente o beneficiario utilizará el producto del proyecto?\n",
        "---\n",
        "Nuestra proyección se enfoca en realizar un análisis exploratorio, además de un análisis de correlación y una visualización correspondiente, la idea es poder procesar los datos y encontrar los patrones y correlaciones entre las variables y el fallo cardiaco.\n",
        "\n",
        "En cuanto a las limitaciones debemos tener en cuenta tanto limitaciones propias, como las limitaciones presentadas en el articulo:\n",
        "\n",
        ">1. En el articulo se menciona que los modelos creados anteriormente tienen un problema de reproducibilidad en el entorno, y tiene como resultado un disenso en cuanto a los factores que son considerados causa de muerte en fallos cardiacos. Adicionalmente, el intento por mejorar la reproducibilidad de los modelos y los analisis impactan fuertemente su rendimiento, ya que se tiende a validar la eficacia de los modelos probandolos con diferentes datasets, lo cual concluye en una baja taza de presición del modelo. La solución que propone el articulo es reproducir el modelo en entornos altamente delimitados y precisos, es por ello que este dataset es tan pequeño y preciso (299 pacientes entre 45 y 95 años con fallas cardiacas, los datos fueron recolectados en 2015 en tan solo 2 centros de salud de Pakistan), con ello las conclusiones SOLO aplicarían a la predicción de pacientes de una población muy similar. No podemos combinar datos de mas pacientes a menos que sean de una población similar, sino no tendremos consenso sobre las conclusiones.\n",
        "2. El set de datos como lo conseguimos esta muy bien depurado y limpio, no presenta valores nulos, todos pertenecen a la misma población, esto nos deja una limitante en el proyecto y es que una de las fases se refiere a la PREPARACIÓN DE LOS DATOS, por lo que esta fase parece que no la podremos aplicar muy bien.\n",
        "3. El proyecto es de análisis y visualización de datos, y como ya se mencionó anteriormente, NO vamos a implementar ninguna herramienta de machine learning, por lo que nuestra metodología esta resagada al avance que ya existe en el paper.\n",
        "\n",
        "# **1.3 Plan**\n",
        "---\n",
        "1. Definición del conjunto de datos\n",
        "\n",
        "- Identificar el conjunto de datos que se utilizará en el proyecto.\n",
        "- Obtener información sobre el origen, la estructura y las características del conjunto de datos.\n",
        "- Evaluar la calidad de los datos y determinar si se requiere algún tipo de limpieza o transformación.\n",
        "\n",
        "2. Entendimiento del negocio\n",
        "\n",
        "- Realizar un análisis del sector al que pertenece el conjunto de datos.\n",
        "- Evaluar la situación actual del negocio y los objetivos que se persiguen.\n",
        "- Definir los objetivos del proyecto de minería de datos en relación con los objetivos del negocio.\n",
        "- Elaborar un plan de proyecto que detalle las actividades, los recursos y el cronograma del proyecto.\n",
        "3. Entendimiento de los datos\n",
        "\n",
        "- Capturar los datos del conjunto de datos seleccionado.\n",
        "- Describir las características del conjunto de datos, incluyendo la distribución de las variables, la presencia de valores atípicos y la existencia de relaciones entre las variables.\n",
        "- Gestionar la calidad de los datos mediante la identificación y corrección de errores, la eliminación de valores atípicos y la transformación de variables.\n",
        "4. Análisis de los datos\n",
        "\n",
        "- Seleccionar las técnicas de minería de datos más adecuadas para el proyecto.\n",
        "- Aplicar las técnicas de minería de datos al conjunto de datos para obtener información valiosa.\n",
        "- Interpretar los resultados del análisis y traducirlos en conocimiento útil para el negocio.\n",
        "5. Comunicación de resultados\n",
        "\n",
        "- Generar un informe que documente los resultados del proyecto.\n",
        "- Presentar los resultados del proyecto a las partes interesadas.\n",
        "\n",
        "**Información extra**\n",
        "\n",
        "Enlace al gantt: https://github.com/users/danielamejiacastro/projects/1"
      ]
    },
    {
      "cell_type": "markdown",
      "metadata": {
        "id": "4a4e145b"
      },
      "source": [
        "## **2. Datos**\n",
        "---\n",
        "\n",
        "## **2.1 Origen**\n",
        "Fuente: Registros médicos del Instituto de Cardiología Faisalabad y el Hospital Allied en Pakistán.\n",
        "\n",
        "Periodo: Abril-Diciembre 2015.\n",
        "\n",
        "Pacientes: 299 (105 mujeres, 194 hombres), edades entre 40 y 95 años.\n",
        "\n",
        "Diagnóstico: Todos con disfunción sistólica del ventrículo izquierdo e insuficiencia cardíaca previa (NYHA III o IV).\n",
        "\n",
        "Información: 13 características clínicas, corporales y de estilo de vida (Tabla 1). Algunas binarias (anemia, presión arterial alta, diabetes, sexo, tabaquismo).\n",
        "\n",
        "Características:\n",
        "\n",
        "   - Enzimas: CPK (daño muscular), EF (eficiencia cardíaca).\n",
        "   - Función renal: creatinina sérica.\n",
        "   - Electrolitos: sodio sérico.\n",
        "   - Otros: edad, peso, altura, hemoglobina, sexo, presión arterial, diabetes, tabaquismo, anemia.\n",
        "\n",
        "Variable objetivo: Evento de muerte (sí/no) dentro de 130 días promedio de seguimiento.\n",
        "Desbalance: 67.89% sobrevivientes, 32.11% fallecidos.\n",
        "Formato: Tabla con 299 filas (pacientes) y 13 columnas (características).\n",
        "\n",
        "Limitaciones:\n",
        "\n",
        "   - Definición de \"presión arterial alta\" desconocida.\n",
        "   - Desconocimiento de enfermedad renal primaria o tipo de seguimiento.\n",
        "   - Posibles errores en el resumen (se recomienda consultar el artículo original)."
      ]
    },
    {
      "cell_type": "markdown",
      "metadata": {
        "id": "atyKMnafgIlh"
      },
      "source": [
        "## Tabla 1: Características del conjunto de datos sobre pacientes con insuficiencia cardíaca\n",
        "\n",
        "| Característica | Descripción | Tipo |\n",
        "|---|---|---|\n",
        "| Edad | Edad del paciente en años | Numérica |\n",
        "| Sexo | Sexo del paciente (hombre/mujer) | Binaria |\n",
        "| Peso | Peso del paciente en kilogramos | Numérica |\n",
        "| Altura | Altura del paciente en metros | Numérica |\n",
        "| Hemoglobina | Nivel de hemoglobina en la sangre (g/dL) | Numérica |\n",
        "| Presión arterial | Presión arterial sistólica/diastólica (mmHg) | Numérica |\n",
        "| Diabetes | ¿Tiene diabetes el paciente? (sí/no) | Binaria |\n",
        "| Tabaquismo | ¿Fuma el paciente? (sí/no) | Binaria |\n",
        "| Anemia | ¿Tiene anemia el paciente? (sí/no) | Binaria |\n",
        "| CPK | Nivel de la enzima CPK en la sangre (U/L) | Numérica |\n",
        "| EF | Eficiencia cardíaca (%) | Numérica |\n",
        "| Creatinina sérica | Nivel de creatinina en la sangre (mg/dL) | Numérica |\n",
        "| Sodio sérico | Nivel de sodio en la sangre (mEq/L) | Numérica |\n",
        "| Evento de muerte | ¿El paciente murió durante el seguimiento? (sí/no) | Binaria |\n"
      ]
    },
    {
      "cell_type": "markdown",
      "metadata": {
        "id": "C0_ktVxWJJvO"
      },
      "source": [
        "## **1. Carga de datos**\n",
        "---\n",
        "Proporcione únicamente el código de Python necesario para descargar el conjunto de datos que será utilizado en el proyecto. Si es necesario, realice operaciones de adquisición e integración del conjunto de datos."
      ]
    },
    {
      "cell_type": "code",
      "execution_count": null,
      "metadata": {},
      "outputs": [],
      "source": [
        "#Lectura de los datos en Github\n",
        "#df=pd.read_csv('heart_failure_clinical_records_dataset.csv')\n",
        "#Lectura de los datos desde repositorio local\n",
        "df = pd.read_csv('heart_failure_clinical_records_dataset.csv')"
      ]
    },
    {
      "cell_type": "markdown",
      "metadata": {},
      "source": [
        "## **2. Análisis Exploratorio de los Datos**\n",
        "---\n",
        "\n",
        "En esta fase, nos dedicamos a explorar y analizar detalladamente nuestro conjunto de datos con el objetivo de resumir sus características fundamentales. Nuestra meta es descubrir patrones, identificar anomalías y comprender comportamientos que puedan proporcionar insights valiosos. Este análisis exploratorio nos permite establecer, evaluar y verificar hipótesis, proporcionando una base sólida para la interpretación y toma de decisiones fundamentadas en los datos."
      ]
    },
    {
      "cell_type": "markdown",
      "metadata": {},
      "source": [
        "#Primer acercamiento a los datos\n",
        "df.sample(5)"
      ]
    },
    {
      "cell_type": "code",
      "execution_count": null,
      "metadata": {},
      "outputs": [],
      "source": [
        "#Dimensiones\n",
        "print(f'El set de datos contiene {df.shape[0]} registros con {df.shape[1]} variables.\\nEl conjunto contiene un total de {df.size} datos.\\n')\n",
        "tamaño_archivo=os.path.getsize('heart_failure_clinical_records_dataset.csv')/ (1024 ** 2)\n",
        "print(f'El archivo cargado pesa un total de {tamaño_archivo} MB.\\nEl espacio en memoria del dataframe es de {df.memory_usage().sum()/(1024**2)} MB')"
      ]
    },
    {
      "cell_type": "code",
      "execution_count": null,
      "metadata": {},
      "outputs": [],
      "source": [
        "df.info()"
      ]
    },
    {
      "cell_type": "markdown",
      "metadata": {},
      "source": [
        "###**2.2 Tipos de variables**\n",
        "\n",
        "En el conjunto de datos que vamos estamos analizando, se incluyen diversas variables que caracterizan a 299 pacientes que han experimentado un fallo cardiaco. Estas variables abarcan tanto tipos discretos como continuos, y la intención es comprender el comportamiento de los pacientes afectados. El objetivo principal es estudiar la dinámica de los datos con el fin de prever posibles patrones que indiquen la probabilidad de reincidencia en casos de fallo cardiaco."
      ]
    },
    {
      "cell_type": "code",
      "execution_count": null,
      "metadata": {},
      "outputs": [],
      "source": [
        "def identificar_dtypes(df):\n",
        "  '''\n",
        "  Esta función detecta las variables consideradas como categoricas y cuantitativas en este set especifico\n",
        "  La función retorna dos listas, cada una agrupando las variables del dataframe\n",
        "  La función solo identifica las variables categoricas para este tipo de dataset en el cual solo tienen dos valores: [0,1]\n",
        "  '''\n",
        "  variables_categoricas=[]\n",
        "  variables_cuantitativas=[]\n",
        "  for col in df.columns:\n",
        "    if set(df[col].unique())==set([0,1]):\n",
        "      variables_categoricas.append(col)\n",
        "    elif pd.api.types.is_numeric_dtype(df[col]):\n",
        "      variables_cuantitativas.append(col)\n",
        "    else:\n",
        "      print(f'La variable {col} no ha sido identificada')\n",
        "  return variables_categoricas,variables_cuantitativas"
      ]
    },
    {
      "cell_type": "code",
      "execution_count": null,
      "metadata": {},
      "outputs": [],
      "source": [
        "variables_categoricas,variables_cuantitativas=identificar_dtypes(df)\n",
        "print(f'Variables categoricas: {variables_categoricas}.\\n\\nVariables cuantitativas: {variables_cuantitativas}')"
      ]
    },
    {
      "cell_type": "markdown",
      "metadata": {},
      "source": [
        "#### **Tabla 1: Características del conjunto de datos sobre pacientes con insuficiencia cardíaca**\n",
        "\n",
        "La tabla presenta las distintas características del conjunto de datos que se enfoca en pacientes que han experimentado insuficiencia cardíaca. Dichas características incluyen información demográfica como la edad y el sexo, así como medidas médicas como el peso, la altura, la presión arterial, niveles de hemoglobina, entre otros. Las variables se clasifican en numéricas y binarias:\n",
        "\n",
        "| Característica | Descripción | Tipo |\n",
        "|---|---|---|\n",
        "| Edad | Edad del paciente en años | Numérica |\n",
        "| Sexo | Sexo del paciente (hombre/mujer) | Binaria |\n",
        "| Peso | Peso del paciente en kilogramos | Numérica |\n",
        "| Altura | Altura del paciente en metros | Numérica |\n",
        "| Hemoglobina | Nivel de hemoglobina en la sangre (g/dL) | Numérica |\n",
        "| Presión arterial | Presión arterial sistólica/diastólica (mmHg) | Numérica |\n",
        "| Diabetes | ¿Tiene diabetes el paciente? (sí/no) | Binaria |\n",
        "| Tabaquismo | ¿Fuma el paciente? (sí/no) | Binaria |\n",
        "| Anemia | ¿Tiene anemia el paciente? (sí/no) | Binaria |\n",
        "| CPK | Nivel de la enzima CPK en la sangre (U/L) | Numérica |\n",
        "| EF | Eficiencia cardíaca (%) | Numérica |\n",
        "| Creatinina sérica | Nivel de creatinina en la sangre (mg/dL) | Numérica |\n",
        "| Sodio sérico | Nivel de sodio en la sangre (mEq/L) | Numérica |\n",
        "| Evento de muerte | ¿El paciente murió durante el seguimiento? (sí/no) | Binaria |\n"
      ]
    },
    {
      "cell_type": "markdown",
      "metadata": {},
      "source": [
        "### **2.3 Resumen General**\n",
        "---\n",
        "\n",
        "- ¿Cuántos registros contiene el *dataset*?\n",
        "\n",
        "Nuestro conjunto de datos alberga un total de 299 registros, distribuidos entre 105 correspondientes a mujeres y 194 a hombres, abarcando edades desde los 40 hasta los 95 años.\n",
        "\n",
        "- ¿En qué formato están guardados los datos?\n",
        "\n",
        "Los datos se encuentran almacenados en formato (.csv), que representa Valores Separados por Comas en inglés. Estos archivos, de aparente simplicidad pero con gran potencial, son una herramienta fundamental en el ámbito de la informática y la gestión de datos. Este formato destaca por su universalidad, simplicidad, portabilidad, facilidad de intercambio y eficiencia en el almacenamiento, entre otras ventajas.\n",
        "\n",
        "- ¿Qué tamaño en MB tiene el conjunto de datos?\n",
        "\n",
        "El tamaño del conjunto de datos es de 11.9 KB (12,239 bytes), equivalente a 0.012239 MB."
      ]
    },
    {
      "cell_type": "markdown",
      "metadata": {},
      "source": [
        "## **3. Análisis estadístico descriptivo**\n",
        "---\n",
        "\n",
        "Describa el conjunto de datos por medio de estadística descriptiva, aportando interpretaciones precisas que ayuden a entender los datos.\n",
        "\n",
        "###**3.1 Medidas de posición (tendencia central y cuantiles)**"
      ]
    },
    {
      "cell_type": "code",
      "execution_count": null,
      "metadata": {},
      "outputs": [],
      "source": [
        "#Medidas de tendencia central: Mediana\n",
        "df[variables_cuantitativas].median()"
      ]
    },
    {
      "cell_type": "code",
      "execution_count": null,
      "metadata": {},
      "outputs": [],
      "source": [
        "#Medidas de tendencia central: Moda\n",
        "df.mode()\n",
        "#Encontramos que para la variable time tenemos 2 modas: 187 y 250"
      ]
    },
    {
      "cell_type": "code",
      "execution_count": null,
      "metadata": {},
      "outputs": [],
      "source": [
        "#Medidas de tendencia central: Media, desviación estandar\n",
        "#Medidas de posición: Cuantiles\n",
        "df.describe()"
      ]
    },
    {
      "cell_type": "markdown",
      "metadata": {},
      "source": [
        "####**3.1.1 Graficos de caja o boxplots**"
      ]
    },
    {
      "cell_type": "code",
      "execution_count": null,
      "metadata": {},
      "outputs": [],
      "source": [
        "#Boxplots para identificar outliers\n",
        "fig, ax = plt.subplots(nrows=7, ncols=1, figsize=(10,20))\n",
        "fig.subplots_adjust(hspace=0.5)\n",
        "\n",
        "for i, col in enumerate(variables_cuantitativas):\n",
        "    sns.boxplot(x=col, data=df, ax=ax[i],color='gold')\n",
        "    ax[i].set_title(col)"
      ]
    },
    {
      "cell_type": "markdown",
      "metadata": {},
      "source": [
        "**Variable: Edad (age)**\n",
        "\n",
        "En este diagrama de bigotes, observamos que la mediana de la edad está alrededor de 60 años, el rango intercuartílico (IQR) abarca desde aproximadamente 51 a 70 años, y no hay valores atípicos evidentes.\n",
        "\n",
        "**Variable: Nivel de Creatinina Fosfoquinasa (creatinine_phosphokinase)**\n",
        "\n",
        "En este caso, vemos que el nivel de creatinina fosfoquinasa tiende a tener valores más bajos en su mayor parte, pero hay algunos puntos que podrían considerarse valores atípicos, ya que se encuentran fuera de los bigotes.\n",
        "\n",
        "**Variable: Plaquetas (platelets)**\n",
        "\n",
        "En el diagrama de bigotes de la variable \"Plaquetas\", se observa que la mediana está alrededor de 262,000 unidades. El rango intercuartílico (IQR) sugiere que la mayoría de los datos se concentran entre 212,500 y 303,500 unidades, con algunos valores atípicos por encima de este rango superior.\n",
        "\n",
        "**Variable: Nivel de Creatinina en Suero (serum_creatinine)**\n",
        "\n",
        "El diagrama de bigotes para la creatinina en suero muestra que la mediana está cerca de 1.1 mg/dL, con un IQR que se extiende desde aproximadamente 0.9 hasta 1.4 mg/dL. Se identifican algunos valores atípicos por encima de este rango superior.\n",
        "\n",
        "**Variable: Nivel de Sodio en Suero (serum_sodium)**\n",
        "\n",
        "El diagrama de bigotes para el sodio en suero indica que la mediana se encuentra alrededor de 137 mEq/L, con un IQR que va desde aproximadamente 134 hasta 140 mEq/L. No hay valores atípicos evidentes en este caso.\n",
        "\n",
        "**Variable: Período de Seguimiento (time)**\n",
        "\n",
        "Para la variable \"Período de Seguimiento\", el diagrama de bigotes muestra una mediana cercana a 115 días y un IQR que se extiende desde aproximadamente 73 hasta 203 días. No se identifican valores atípicos en este rango.\n",
        "\n",
        "**Variable: Evento de Fallecimiento (DEATH_EVENT)**\n",
        "\n",
        "En el diagrama de bigotes de la variable \"Evento de Fallecimiento\", se observa que la mediana es 0 (sin evento de fallecimiento) y que la mayoría de los datos se concentran en 0, con algunos valores atípicos representando eventos de fallecimiento (1)."
      ]
    },
    {
      "cell_type": "markdown",
      "metadata": {},
      "source": [
        "###**3.2 Medidas de forma**"
      ]
    },
    {
      "cell_type": "code",
      "execution_count": null,
      "metadata": {},
      "outputs": [],
      "source": [
        "#Medidas de forma: Kurtosis\n",
        "df[variables_cuantitativas].kurt()"
      ]
    },
    {
      "cell_type": "markdown",
      "metadata": {},
      "source": [
        "Los resultados de las medidas de forma, conocidas como kurtosis, ofrecen insights sobre la configuración de las distribuciones de las variables. A continuación, presentamos un análisis preliminar de la kurtosis para cada una de nuestras variables:\n",
        "\n",
        "**Kurtosis Variable Edad (age):** La kurtosis es -0.18, lo que sugiere una distribución relativamente cercana a una distribución normal. La cola de la distribución de edades no es muy pesada.\n",
        "\n",
        "**Kurtosis Variable Creatinina Fosfoquinasa (creatinine_phosphokinase):** La kurtosis es 25.15, indicando una distribución con colas pesadas. Esto podría sugerir la presencia de valores extremadamente altos en la variable.\n",
        "\n",
        "**Kurtosis VariableEficiencia de Eyección (ejection_fraction):** La kurtosis es 0.04, lo que sugiere una distribución bastante normal. La variable no tiene colas pesadas.\n",
        "\n",
        "**Kurtosis Variable Plaquetas (platelets):** La kurtosis es 6.21, indicando colas pesadas en la distribución de plaquetas. Esto puede sugerir la presencia de valores atípicos extremadamente altos.\n",
        "\n",
        "**Kurtosis Variable Creatinina en Suero (serum_creatinine):** La kurtosis es 25.83, lo que sugiere colas pesadas en la distribución de la creatinina en suero. Esto podría indicar la presencia de valores extremadamente altos.\n",
        "\n",
        "**Kurtosis Variable Sodio en Suero (serum_sodium):** La kurtosis es 4.12, indicando colas pesadas en la distribución de sodio en suero. Puede haber valores extremadamente altos o bajos en la variable.\n",
        "\n",
        "**Kurtosis Variable Período de Seguimiento (time):** La kurtosis es -1.21, sugiriendo una distribución relativamente plana o con colas ligeras. La variable podría tener menos presencia de valores extremadamente altos o bajos."
      ]
    },
    {
      "cell_type": "code",
      "execution_count": null,
      "metadata": {},
      "outputs": [],
      "source": [
        "#Medidas de forma: Asimetria\n",
        "df[variables_cuantitativas].skew()"
      ]
    },
    {
      "cell_type": "markdown",
      "metadata": {},
      "source": [
        "**Asimetria Variable Edad (age)**: La asimetría es positiva (0.42), sugiriendo una cola derecha en la distribución de edades. Esto indica que hay más datos en el lado izquierdo de la media y algunos valores más altos que la media.\n",
        "\n",
        "**Asimetria Variable Creatinina Fosfoquinasa (creatinine_phosphokinase)**: La asimetría es positiva (4.46), indicando una cola derecha pronunciada. Esto sugiere que la mayoría de los valores están en el lado izquierdo de la media, pero hay algunos valores extremadamente altos.\n",
        "\n",
        "**Asimetria Variable Eficiencia de Eyección (ejection_fraction)**: La asimetría es positiva (0.56), indicando una cola derecha en la distribución de la eficiencia de eyección. Puede haber algunos valores más altos que la media.\n",
        "\n",
        "**Asimetria Variable Plaquetas (platelets)**: La asimetría es positiva (1.46), sugiriendo una cola derecha. La mayoría de los datos se encuentran en el lado izquierdo de la media, pero hay algunos valores extremadamente altos.\n",
        "\n",
        "**Asimetria Variable Creatinina en Suero (serum_creatinine)**: La asimetría es positiva (4.46), indicando una cola derecha pronunciada en la distribución de la creatinina en suero. La mayoría de los valores se concentran en el lado izquierdo de la media, pero hay algunos valores extremadamente altos.\n",
        "\n",
        "**Asimetria Variable Sodio en Suero (serum_sodium)**: La asimetría es negativa (-1.05), indicando una cola izquierda en la distribución del sodio en suero. Puede haber algunos valores más bajos que la media.\n",
        "\n",
        "**Asimetria Variable Período de Seguimiento (time)**: La asimetría es ligeramente positiva (0.13), sugiriendo una cola derecha en la distribución del período de seguimiento. Puede haber algunos valores más altos que la media."
      ]
    },
    {
      "cell_type": "markdown",
      "metadata": {},
      "source": [
        "####**3.1.1 Histogramas**\n",
        "---\n",
        "Edad (age):\n",
        "Dado que la kurtosis es cercana a cero y la asimetría es moderadamente positiva, el histograma de la variable \"Edad\" muestra una forma simétrica, similar a una distribución normal, con la mayoría de las edades centradas en torno a la media.\n",
        "\n",
        "Creatinina Fosfoquinasa (creatinine_phosphokinase):\n",
        "Con una kurtosis alta y una asimetría positiva pronunciada, el histograma presenta una concentración significativa de valores hacia la izquierda y una cola derecha extendida, indicando la presencia de valores extremadamente altos.\n",
        "\n",
        "Eficiencia de Eyección (ejection_fraction):\n",
        "Dado que la kurtosis es cercana a cero y la asimetría es moderadamente positiva, el histograma presenta una forma simétrica, similar a una distribución normal, con algunos valores más altos que la media.\n",
        "\n",
        "Plaquetas (platelets):\n",
        "Con una kurtosis alta y una asimetría positiva pronunciada, el histograma muestra una concentración de valores hacia la izquierda y una cola derecha pronunciada, señalando la presencia de valores atípicos extremadamente altos.\n",
        "\n",
        "Creatinina en Suero (serum_creatinine):\n",
        "Similar a la creatinina fosfoquinasa, con alta kurtosis y asimetría positiva pronunciada, el histograma presenta una concentración de valores hacia la izquierda y una cola derecha extendida, indicando la presencia de valores extremadamente altos.\n",
        "\n",
        "Sodio en Suero (serum_sodium):\n",
        "Con una kurtosis moderadamente alta y asimetría negativa, el histograma muestra una concentración de valores hacia la derecha y una cola izquierda, indicando la posibilidad de valores extremadamente bajos.\n",
        "\n",
        "Período de Seguimiento (time):\n",
        "Dado que la kurtosis es negativa y la asimetría es moderadamente positiva, el histograma presenta una concentración de valores hacia la izquierda y una cola derecha, sugiriendo que la mayoría de los periodos de seguimiento están en el lado más corto."
      ]
    },
    {
      "cell_type": "code",
      "execution_count": null,
      "metadata": {},
      "outputs": [],
      "source": [
        "#Histogramas\n",
        "fig, ax = plt.subplots(nrows=7, ncols=1, figsize=(10,20))\n",
        "fig.subplots_adjust(hspace=0.5)\n",
        "\n",
        "for i, columna in enumerate(variables_cuantitativas):\n",
        "    sns.histplot(df[columna], bins=10, kde=False, ax=ax[i],color='lightcoral')\n",
        "    ax[i].set_title(columna)"
      ]
    },
    {
      "cell_type": "markdown",
      "metadata": {},
      "source": [
        "### **3.1.2 Diagramas de barras**\n",
        "---\n",
        "Para visualizar las variables binarias o categoricas"
      ]
    },
    {
      "cell_type": "code",
      "execution_count": null,
      "metadata": {},
      "outputs": [],
      "source": [
        "fig,ax=plt.subplots(nrows=len(variables_categoricas),ncols=1,figsize=(7,15))\n",
        "fig.subplots_adjust(hspace=0.5)\n",
        "\n",
        "for i,col in enumerate(variables_categoricas):\n",
        "  sns.countplot(x=col,data=df,ax=ax[i],palette='flare')\n",
        "  ax[i].set_title(col)"
      ]
    },
    {
      "cell_type": "markdown",
      "metadata": {},
      "source": [
        "### **3.3 Medidas de dispersión**"
      ]
    },
    {
      "cell_type": "code",
      "execution_count": null,
      "metadata": {},
      "outputs": [],
      "source": [
        "#Media, valor minimo, valor maximo y desiación estandar\n",
        "df.describe()"
      ]
    },
    {
      "cell_type": "code",
      "execution_count": null,
      "metadata": {},
      "outputs": [],
      "source": [
        "#Varianza\n",
        "df[variables_cuantitativas].var()"
      ]
    },
    {
      "cell_type": "code",
      "execution_count": null,
      "metadata": {},
      "outputs": [],
      "source": [
        "#Rango\n",
        "df[variables_cuantitativas].max()-df[variables_cuantitativas].min()"
      ]
    },
    {
      "cell_type": "code",
      "execution_count": null,
      "metadata": {},
      "outputs": [],
      "source": [
        "#Media de las variables agrupadas por sexo\n",
        "df.groupby('sex').mean()[variables_cuantitativas]"
      ]
    },
    {
      "cell_type": "code",
      "execution_count": null,
      "metadata": {},
      "outputs": [],
      "source": [
        "#correlación\n",
        "df.corr()"
      ]
    },
    {
      "cell_type": "code",
      "execution_count": null,
      "metadata": {},
      "outputs": [],
      "source": [
        "#covarianza\n",
        "df[variables_cuantitativas].cov()"
      ]
    },
    {
      "cell_type": "code",
      "execution_count": null,
      "metadata": {},
      "outputs": [],
      "source": [
        "sns.heatmap(df.corr(),\n",
        "            cmap='YlGnBu')"
      ]
    },
    {
      "cell_type": "markdown",
      "metadata": {},
      "source": [
        "#### **3.4.1 Crosstabs para variables categoricas frente a DEATH_EVENT**"
      ]
    },
    {
      "cell_type": "code",
      "execution_count": null,
      "metadata": {},
      "outputs": [],
      "source": [
        "#Frente al sexo\n",
        "pd.crosstab(df['DEATH_EVENT'],df['sex'],\n",
        "            margins=True)"
      ]
    },
    {
      "cell_type": "code",
      "execution_count": null,
      "metadata": {},
      "outputs": [],
      "source": [
        "#Frente a la anemia\n",
        "pd.crosstab(df['DEATH_EVENT'],df['anaemia'],\n",
        "            margins=True)"
      ]
    },
    {
      "cell_type": "code",
      "execution_count": null,
      "metadata": {},
      "outputs": [],
      "source": [
        "#Frente a la diabetes\n",
        "pd.crosstab(df['DEATH_EVENT'],df['diabetes'],\n",
        "            margins=True)"
      ]
    },
    {
      "cell_type": "code",
      "execution_count": null,
      "metadata": {},
      "outputs": [],
      "source": [
        "#Frente a fumar\n",
        "pd.crosstab(df['DEATH_EVENT'],df['smoking'],\n",
        "            margins=True)"
      ]
    },
    {
      "cell_type": "code",
      "execution_count": null,
      "metadata": {},
      "outputs": [],
      "source": [
        "#Frente a la alta presión sanguinea\n",
        "pd.crosstab(df['DEATH_EVENT'],df['high_blood_pressure'],\n",
        "            margins=True)"
      ]
    },
    {
      "cell_type": "markdown",
      "metadata": {},
      "source": [
        "### **4. Resumen de la Calidad de los datos**\n",
        "---\n",
        "\n",
        "- ¿Se detecta la ausencia de datos, la presencia de datos erróneos o la existencia de datos de baja calidad en el conjunto?\n",
        "- ¿Se identifican registros con datos ilegibles o con dificultades de codificación durante la revisión del conjunto de datos?\n",
        "- ¿Se observa una diversidad de formatos en el conjunto de datos que pueda dificultar su consistencia o comprensión?\n",
        "- ¿Se identificaron y abordaron posibles problemas, como valores atípicos, duplicados o datos faltantes?"
      ]
    },
    {
      "cell_type": "code",
      "execution_count": null,
      "metadata": {},
      "outputs": [],
      "source": [
        "plt.figure(figsize=(10, 6))\n",
        "sns.heatmap(df.isnull(), cmap='viridis', cbar=False, yticklabels=False)\n",
        "plt.title('Visualización de Datos Faltantes')\n",
        "plt.show()"
      ]
    },
    {
      "cell_type": "markdown",
      "metadata": {},
      "source": [
        "Análisis del conjunto de datos\n",
        "\n",
        "1. Ausencia, errores y baja calidad:\n",
        "\n",
        "    Ausencia de datos: No se detecta la ausencia de datos en el conjunto.\n",
        "    Errores en los datos: No se detectan datos erróneos durante la revisión.\n",
        "    Baja calidad de los datos: No se observa la presencia de datos de baja calidad.\n",
        "\n",
        "2. Ilegibilidad y dificultades de codificación:\n",
        "\n",
        "    Ilegibilidad: No se identifican registros con datos ilegibles.\n",
        "    Dificultades de codificación: No se encuentran dificultades de codificación durante la revisión.\n",
        "\n",
        "3. Posibles problemas:\n",
        "\n",
        "    Valores atípicos: Se identifican valores atípicos en el conjunto de datos. Conservamos estos valores ya que, en el sector médico, pueden proporcionar información fundamental sobre la patología.\n",
        "    Valores duplicados: No se detectan valores duplicados durante la revisión.\n",
        "    Datos faltantes: No se detectan datos faltantes en el conjunto de datos.\n",
        "\n",
        "\n",
        "En general, el conjunto de datos se encuentra en buen estado. No se detectan ausencias de datos, errores o datos de baja calidad. Tampoco se encuentran registros ilegibles o con dificultades de codificación. Sin embargo, se observa una diversidad de formatos que podría dificultar su consistencia y comprensión. Se recomienda unificar los formatos y documentar el conjunto de datos para facilitar su análisis.\n",
        "\n",
        "Nota: Es importante tener en cuenta que, al ser del sector médico, los valores atípicos se conservan ya que pueden proporcionar información fundamental sobre la patología."
      ]
    },
    {
      "cell_type": "markdown",
      "metadata": {},
      "source": [
        "### **2.4. Tipos de variables**\n",
        "---\n",
        "\n",
        "- ¿El conjunto de datos tiene una variable objetivo a estimar?, de ser así, ¿es una variable continúa o categórica?\n",
        "- Analice la distribución de las etiquetas, identifique si hay desbalanceo de datos."
      ]
    },
    {
      "cell_type": "markdown",
      "metadata": {},
      "source": [
        "- El conjunto de datos tiene cómo variable objetivo el evento de muerte, es una variable categórica que denota si el paciente falleció o no."
      ]
    },
    {
      "cell_type": "code",
      "execution_count": null,
      "metadata": {},
      "outputs": [],
      "source": [
        "df['DEATH_EVENT'].value_counts()"
      ]
    },
    {
      "cell_type": "markdown",
      "metadata": {},
      "source": [
        "Vemos que hay una distribución desbalanceada de etiquetas, donde los pacientes fallecidos son 96 , mientras los sobrevivientes son 203, lo que hace que el dataset no esté balanceado en tanto sus etiquetas, observemos la distribución de los datos y su correlación con esta variable para finalizar"
      ]
    },
    {
      "cell_type": "code",
      "execution_count": null,
      "metadata": {},
      "outputs": [],
      "source": [
        "pair=sns.pairplot(df, hue=\"DEATH_EVENT\",palette='deep')\n",
        "pair.fig.subplots_adjust(top=.93)\n",
        "pair.fig.suptitle('Marginal plot and distributions')\n"
      ]
    },
    {
      "cell_type": "markdown",
      "metadata": {},
      "source": [
        "Podemos visualizar que las distribuciones en general no cumplen con condiciones de normalidad y que las correlaciones no parecen estar tan claras, aunque según nuestra matriz de correlación cosas cómo la edad o la creatinina guardan una alta correlación con el evento de morir."
      ]
    },
    {
      "cell_type": "markdown",
      "metadata": {},
      "source": [
        "# **Preparación de los datos**\n",
        "---\n",
        "\n",
        "Este notebook es una plantilla que le puede servir como guía para el tercer entregable del proyecto aplicado."
      ]
    },
    {
      "cell_type": "markdown",
      "metadata": {},
      "source": [
        "## **1. Limpieza de los Datos**\n",
        "---\n",
        "\n",
        "La elección de las técnicas de preprocesamiento puede diferir en cada conjunto de datos. Recuerde que es posible aplicar, según sea necesario (no necesariamente todas), las técnicas generales que se han explorado en el curso. La elección dependerá del tipo de datos con el que esté trabajando.\n",
        "\n",
        "A lo largo de esta entrega, busque responder las siguientes preguntas:\n",
        "\n",
        "- ¿Cuáles fueron los criterios utilizados para identificar y tratar valores atípicos, datos faltantes o cualquier otra anomalía en el conjunto de datos durante el proceso de limpieza?\n",
        "- ¿Cómo se justificaría la necesidad de cada paso de preprocesamiento en términos de mejora de la calidad de los datos y preparación para el análisis subsiguiente?\n",
        "\n",
        "A continuación encontrará los puntos a tratar a medida que va realizando la preparación de los datos. En cada punto defina el estado en que se encontraba el dataset, ademas de explicar y justificar las acciones y decisiones que se tomaron."
      ]
    },
    {
      "cell_type": "markdown",
      "metadata": {},
      "source": [
        "### **1.1. Valores faltantes**\n",
        "---\n",
        "Al encontrarnos con valores faltantes en el conjunto de datos, es crucial preguntarse:\n",
        "* ¿Cómo afectan estos valores a la integridad y representatividad de la información?\n",
        "\n",
        "No hay valores faltantes en el conjunto de datos, por lo que la integridad y representatividad de la información no se ven afectadas por la ausencia de valores.\n",
        "\n",
        "* ¿Cómo se identificaron los valores faltantes en el conjunto de datos?\n",
        "\n",
        "No se identificaron valores faltantes, ya que no existen en el conjunto de datos.\n",
        "\n",
        "* ¿Cuáles fueron los criterios para decidir si rellenar con valores estimados o eliminar los valores faltantes? En caso que aplique, ¿qué método de relleno se utilizó y por qué se consideró apropiado?\n",
        "\n",
        "Dado que no hay valores faltantes, no fue necesario tomar decisiones sobre rellenar o eliminar valores faltantes. No se aplicó ningún método de imputación o eliminación.\n",
        "\n",
        "* ¿Se realizó un análisis de la distribución de los valores faltantes en relación con las variables clave? Por ejemplo, si hay valores faltantes en una variable crítica, ¿cómo podría afectar la interpretación de los resultados?\n",
        "\n",
        "No se identificaron valores faltantes en ninguna variable del conjunto de datos. El mapa de calor muestra que todas las celdas están completas, lo que indica que no hay áreas con valores faltantes. Dado que no hay valores faltantes, no se realizó un análisis específico de la distribución de los valores faltantes en relación con variables clave. Por lo tanto, la interpretación de los resultados no se ve afectada por la ausencia de valores faltantes en ninguna variable crítica."
      ]
    },
    {
      "cell_type": "code",
      "execution_count": null,
      "metadata": {},
      "outputs": [],
      "source": [
        "#Lectura de los datos en Github\n",
        "#df=pd.read_csv('heart_failure_clinical_records_dataset.csv')\n",
        "#Lectura de los datos desde repositorio local\n",
        "df = pd.read_csv('heart_failure_clinical_records_dataset.csv')"
      ]
    },
    {
      "cell_type": "code",
      "execution_count": null,
      "metadata": {},
      "outputs": [],
      "source": [
        "# Mostrar las primeras filas del DataFrame para entender la estructura de los datos\n",
        "print(df.head())\n",
        "\n",
        "# Identificar valores faltantes\n",
        "missing_values = df.isnull().sum()\n",
        "\n",
        "# Imprimir la cantidad de valores faltantes por variable\n",
        "print(\"Valores faltantes por variable:\")\n",
        "print(missing_values)\n",
        "\n",
        "# Análisis de la distribución de valores faltantes\n",
        "plt.figure(figsize=(12, 8))\n",
        "sns.heatmap(df.isnull(), cmap='viridis', cbar=False, yticklabels=False)\n",
        "plt.title('Distribución de Valores Faltantes')\n",
        "plt.show()\n"
      ]
    },
    {
      "cell_type": "markdown",
      "metadata": {},
      "source": [
        "### **1.2. Valores duplicados**\n",
        "----\n",
        "Ante la presencia de valores duplicados, es esencial reflexionar sobre su impacto en los resultados.\n",
        "\n",
        "* ¿Cómo se identificaron y manejaron los valores duplicados en el conjunto de datos?\n",
        "* ¿Hubo alguna consideración especial al tratar duplicados en función de ciertas variables?\n",
        "* ¿Pueden estos duplicados sesgar el análisis, y en qué medida?\n",
        "* ¿Se justifica la eliminación de duplicados para mantener la coherencia y singularidad de los datos?\n",
        "* ¿Cómo se aseguró de que la eliminación de duplicados no afectara negativamente la representación del conjunto de datos?\n",
        "\n",
        "La identificación y eliminación de duplicados busca asegurar que cada registro aporte información única y valiosa."
      ]
    },
    {
      "cell_type": "code",
      "execution_count": null,
      "metadata": {},
      "outputs": [],
      "source": [
        "# Identificar valores duplicados\n",
        "duplicates = df[df.duplicated()]\n",
        "\n",
        "# Imprimir la cantidad de valores duplicados\n",
        "print(\"Cantidad de Valores Duplicados:\", len(duplicates))\n"
      ]
    },
    {
      "cell_type": "markdown",
      "metadata": {},
      "source": [
        "### **1.3. Valores atípicos**\n",
        "---\n",
        "Al abordar valores atípicos, es relevante cuestionarse sobre la naturaleza de estos puntos extremos.\n",
        "* ¿Son errores de medición o representan información válida pero excepcional?\n",
        "* ¿Qué criterios o técnicas se utilizaron para identificar los valores atípicos?\n",
        "* ¿Se aplicaron métodos estadísticos o visuales para detectar los valores atípicos?\n",
        "* ¿Cuál fue la decisión final sobre cómo tratar los valores atípicos y por qué?\n",
        "\n",
        "La elección entre eliminar o transformar estos valores debe basarse en su influencia en la distribución y la interpretación de los resultados, asegurando que el análisis refleje de manera precisa la realidad del conjunto de datos."
      ]
    },
    {
      "cell_type": "code",
      "execution_count": null,
      "metadata": {},
      "outputs": [],
      "source": [
        "# Visualizar la distribución de variables numéricas mediante boxplots\n",
        "plt.figure(figsize=(15, 10))\n",
        "sns.boxplot(data=df, palette='Set2')\n",
        "plt.title('Distribución de Variables Numéricas')\n",
        "plt.xticks(rotation=45)\n",
        "plt.show()"
      ]
    },
    {
      "cell_type": "code",
      "execution_count": null,
      "metadata": {},
      "outputs": [],
      "source": [
        "# Identificar valores atípicos en una variable específica (por ejemplo, 'creatinine_phosphokinase')\n",
        "variable_atipica = 'creatinine_phosphokinase'"
      ]
    },
    {
      "cell_type": "code",
      "execution_count": null,
      "metadata": {},
      "outputs": [],
      "source": [
        "# Visualizar la distribución de la variable con un boxplot\n",
        "plt.figure(figsize=(8, 6))\n",
        "sns.boxplot(x=df[variable_atipica], palette='Blues')\n",
        "plt.title(f'Distribución de {variable_atipica}')\n",
        "plt.show()"
      ]
    },
    {
      "cell_type": "code",
      "execution_count": null,
      "metadata": {},
      "outputs": [],
      "source": [
        "# Calcular los límites para identificar valores atípicos usando el rango intercuartílico (IQR)\n",
        "Q1 = df[variable_atipica].quantile(0.25)\n",
        "Q3 = df[variable_atipica].quantile(0.75)\n",
        "IQR = Q3 - Q1\n",
        "lower_limit = Q1 - 1.5 * IQR\n",
        "upper_limit = Q3 + 1.5 * IQR"
      ]
    },
    {
      "cell_type": "code",
      "execution_count": null,
      "metadata": {},
      "outputs": [],
      "source": [
        "# Identificar y manejar valores atípicos\n",
        "outliers = df[(df[variable_atipica] < lower_limit) | (df[variable_atipica] > upper_limit)]\n",
        "df_no_outliers = df[(df[variable_atipica] >= lower_limit) & (df[variable_atipica] <= upper_limit)]"
      ]
    },
    {
      "cell_type": "markdown",
      "metadata": {},
      "source": [
        "### **1.4. Datos Inconsistentes**\n",
        "---\n",
        "Frente a inconsistencias en los datos, es importante analizar cómo estas discrepancias podrían afectar la comparabilidad y comprensión de la información.\n",
        "\n",
        "* ¿Cómo se identificaron las inconsistencias en los datos?\n",
        "* ¿Las inconsistencias son lo suficientemente significativas como para justificar una estandarización?\n",
        "* ¿Cómo se pueden homogeneizar unidades y formatos para garantizar coherencia en el análisis?\n",
        "* ¿Qué estrategias se implementaron para abordar las inconsistencias y asegurar la coherencia?\n",
        "* ¿Se establecieron reglas de validación específicas para garantizar la consistencia?"
      ]
    },
    {
      "cell_type": "code",
      "execution_count": null,
      "metadata": {},
      "outputs": [],
      "source": [
        "# Identificar inconsistencias en las unidades o formatos \n",
        "inconsistencias = df[(df['platelets'] < 100000) | (df['serum_creatinine'] > 10)]\n"
      ]
    },
    {
      "cell_type": "code",
      "execution_count": null,
      "metadata": {},
      "outputs": [],
      "source": [
        "# Visualizar las distribuciones de variables con inconsistencias\n",
        "plt.figure(figsize=(15, 10))\n",
        "sns.boxplot(data=df[['platelets', 'serum_creatinine']], palette='Set2')\n",
        "plt.title('Distribución de Variables con Inconsistencias')\n",
        "plt.xticks(rotation=45)\n",
        "plt.show()"
      ]
    },
    {
      "cell_type": "code",
      "execution_count": null,
      "metadata": {},
      "outputs": [],
      "source": [
        "# Mostrar la cantidad de registros con inconsistencias\n",
        "print(\"Cantidad de Registros con Inconsistencias:\", len(inconsistencias))"
      ]
    },
    {
      "cell_type": "code",
      "execution_count": null,
      "metadata": {},
      "outputs": [],
      "source": [
        "# Identificar y manejar inconsistencias (puedes elegir estandarizar unidades, imputar valores, etc.)\n",
        "# En este ejemplo, se imputarán valores para 'platelets' y 'serum_creatinine' fuera de rangos razonables\n",
        "df_cleaned = df.copy()\n",
        "df_cleaned.loc[df_cleaned['platelets'] < 100000, 'platelets'] = df_cleaned['platelets'].median()\n",
        "df_cleaned.loc[df_cleaned['serum_creatinine'] > 10, 'serum_creatinine'] = df_cleaned['serum_creatinine'].median()"
      ]
    },
    {
      "cell_type": "code",
      "execution_count": null,
      "metadata": {},
      "outputs": [],
      "source": [
        "# Visualizar las distribuciones de variables después de manejar inconsistencias\n",
        "plt.figure(figsize=(15, 10))\n",
        "sns.boxplot(data=df_cleaned[['platelets', 'serum_creatinine']], palette='Set2')\n",
        "plt.title('Distribución de Variables después de Manejar Inconsistencias')\n",
        "plt.xticks(rotation=45)\n",
        "plt.show()\n"
      ]
    },
    {
      "cell_type": "markdown",
      "metadata": {},
      "source": [
        "### **1.5. Datos corruptos**\n",
        "---\n",
        "En la detección de datos corruptos, pregunte si hay posibles errores de entrada o problemas de transferencia que podrían haber afectado la integridad de los datos.\n",
        "* ¿Cómo se determinó la presencia de datos corruptos en el conjunto de datos?\n",
        "* ¿Qué medidas se tomaron para corregir o eliminar los datos corruptos?\n",
        "* ¿Hubo casos en los que la corrupción de datos no pudo ser manejada y cómo se justificó esa decisión?"
      ]
    },
    {
      "cell_type": "code",
      "execution_count": null,
      "metadata": {},
      "outputs": [],
      "source": [
        "# Identificar datos corruptos (ejemplo: valores negativos en variables que no pueden ser negativas)\n",
        "datos_corruptos = df[(df['platelets'] < 0) | (df['serum_creatinine'] < 0)]"
      ]
    },
    {
      "cell_type": "code",
      "execution_count": null,
      "metadata": {},
      "outputs": [],
      "source": [
        "# Visualizar las distribuciones de variables con datos corruptos\n",
        "plt.figure(figsize=(15, 10))\n",
        "sns.boxplot(data=df[['platelets', 'serum_creatinine']], palette='Set2')\n",
        "plt.title('Distribución de Variables con Datos Corruptos')\n",
        "plt.xticks(rotation=45)\n",
        "plt.show()\n",
        "\n"
      ]
    },
    {
      "cell_type": "code",
      "execution_count": null,
      "metadata": {},
      "outputs": [],
      "source": [
        "# Mostrar la cantidad de registros con datos corruptos\n",
        "print(\"Cantidad de Registros con Datos Corruptos:\", len(datos_corruptos))\n"
      ]
    },
    {
      "cell_type": "markdown",
      "metadata": {},
      "source": [
        "### **1.6. Selección de datos**\n",
        "---\n",
        "En la selección de datos, reflexione sobre las variables que son realmente relevantes para sus objetivos de análisis.\n",
        "* ¿Qué criterios se utilizaron para seleccionar los datos relevantes para el análisis?\n",
        "* ¿Se aplicaron técnicas de muestreo o filtrado para reducir el tamaño del conjunto de datos?\n",
        "* ¿Cómo se justificó la inclusión o exclusión de ciertas variables en la selección de datos?"
      ]
    },
    {
      "cell_type": "code",
      "execution_count": null,
      "metadata": {},
      "outputs": [],
      "source": [
        "df = pd.read_csv('heart_failure_clinical_records_dataset.csv')"
      ]
    },
    {
      "cell_type": "code",
      "execution_count": null,
      "metadata": {},
      "outputs": [],
      "source": [
        "def identificar_dtypes(df):\n",
        "  '''\n",
        "  Esta función detecta las variables consideradas como categoricas y cuantitativas en este set especifico\n",
        "  La función retorna dos listas, cada una agrupando las variables del dataframe\n",
        "  La función solo identifica las variables categoricas para este tipo de dataset en el cual solo tienen dos valores: [0,1]\n",
        "  '''\n",
        "  variables_categoricas=[]\n",
        "  variables_cuantitativas=[]\n",
        "  for col in df.columns:\n",
        "    if set(df[col].unique())==set([0,1]):\n",
        "      variables_categoricas.append(col)\n",
        "    elif pd.api.types.is_numeric_dtype(df[col]):\n",
        "      variables_cuantitativas.append(col)\n",
        "    else:\n",
        "      print(f'La variable {col} no ha sido identificada')\n",
        "  return variables_categoricas,variables_cuantitativas\n",
        "v_cat,v_cuan=identificar_dtypes(df)"
      ]
    },
    {
      "cell_type": "markdown",
      "metadata": {},
      "source": [
        "## **1. Análisis y resultados**\n",
        "---\n",
        "\n",
        "Al adentrarse en el análisis de datos, es crucial adoptar un enfoque estratégico que responda a las preguntas de planteadas en el proyecto. La selección de variables para estudio requiere una evaluación cuidadosa de los objetivos específicos del proyecto, priorizando aquellas que se consideren fundamentales para obtener resultados significativos.\n",
        "\n",
        "A lo largo de esta entrega, trate busque responder las siguientes preguntas\n",
        "\n",
        "- ¿Cómo se aplicaron conceptos específicos de estadística descriptiva e inferencial en el análisis de datos y cuál fue el enfoque utilizado para interpretar los resultados de manera precisa?\n",
        "- ¿Cómo se interpretaron los resultados de la estadística descriptiva y qué conclusiones se pueden extraer?\n",
        "- ¿Cómo se relacionan los resultados del análisis de datos con los objetivos y preguntas planteadas inicialmente?\n",
        "- ¿Qué implicaciones prácticas tienen los hallazgos y cómo podrían influir en la toma de decisiones?"
      ]
    },
    {
      "cell_type": "code",
      "execution_count": null,
      "metadata": {},
      "outputs": [],
      "source": [
        "df.sample(5)"
      ]
    },
    {
      "cell_type": "markdown",
      "metadata": {},
      "source": [
        "### **1.1. Análisis de correlaciones**\n",
        "---\n",
        "\n",
        "- Analice la posible existencia de relaciones entre las variables, utilizando medidas de correlación o visualizaciones pertinentes.\n",
        "- Detecte la presencia de redundancias entre las variables, con el objetivo de facilitar su posterior eliminación o selección en el análisis.\n",
        "- ¿Cuáles fueron las variables seleccionadas para el análisis de correlaciones, y cómo se eligieron en función de los objetivos del proyecto?"
      ]
    },
    {
      "cell_type": "code",
      "execution_count": null,
      "metadata": {},
      "outputs": [],
      "source": [
        "#Pruebas de normalidad (para definir el coeficiente de correlación más adecuado)\n",
        "v_normales=[]\n",
        "v_no_normales=[]\n",
        "for col in v_cuan:\n",
        "  if stats.shapiro(df[col]).pvalue < 0.05:\n",
        "    v_no_normales.append(col)\n",
        "    print(f'La variable {col} NO es normal con un pvalor de {stats.shapiro(df[col]).pvalue}')\n",
        "  else:\n",
        "    v_normales.append(col)\n",
        "    print(f'La variable {col} SI es normal con un pvalor de {stats.shapiro(df[col]).pvalue}')"
      ]
    },
    {
      "cell_type": "markdown",
      "metadata": {},
      "source": [
        "Como ninguna variable sigue una distribución normal, se recomienda implementar el coeficiente de correlación de Spearman $\\rho$ entre estas variables"
      ]
    },
    {
      "cell_type": "code",
      "execution_count": null,
      "metadata": {},
      "outputs": [],
      "source": [
        "#Variables cuantitativas relación\n",
        "sns.pairplot(df)"
      ]
    },
    {
      "cell_type": "code",
      "execution_count": null,
      "metadata": {},
      "outputs": [],
      "source": [
        "# Variables cuantitativas correlación\n",
        "sns.heatmap(df[v_cuan].corr(method='spearman'),cmap='coolwarm',vmin=-1,vmax=1, annot=True,fmt='.4f')"
      ]
    },
    {
      "cell_type": "markdown",
      "metadata": {},
      "source": [
        "**Correlación entre variables binarias y continuas (Punto biserial)**\n"
      ]
    },
    {
      "cell_type": "code",
      "execution_count": null,
      "metadata": {},
      "outputs": [],
      "source": [
        "from scipy.stats import pointbiserialr"
      ]
    },
    {
      "cell_type": "code",
      "execution_count": null,
      "metadata": {},
      "outputs": [],
      "source": [
        "#Encontrar correlaciones y pvalores\n",
        "p_values=np.zeros([len(v_cat),len(v_cuan)])\n",
        "coef_corr_biserial=np.zeros([len(v_cat),len(v_cuan)])\n",
        "for i,col_cat in enumerate(v_cat):\n",
        "  for j,col_cuan in enumerate(v_cuan):\n",
        "    coef_corr_biserial_num, p_value = pointbiserialr(df[col_cat], df[col_cuan])\n",
        "    coef_corr_biserial[i][j]=coef_corr_biserial_num\n",
        "    p_values[i][j]=p_value\n",
        "df_pvalues=pd.DataFrame(p_values,index=v_cat,columns=v_cuan)\n",
        "correlaciones_biserial=pd.DataFrame(coef_corr_biserial,index=v_cat,columns=v_cuan)"
      ]
    },
    {
      "cell_type": "code",
      "execution_count": null,
      "metadata": {},
      "outputs": [],
      "source": [
        "#Graficar correlaciones y pvalores\n",
        "fig,ax=plt.subplots(nrows=1,ncols=2,figsize=(20,10))\n",
        "\n",
        "sns.heatmap(df_pvalues,cmap='coolwarm',vmin=0, annot=True,fmt='.4f',ax=ax[0])\n",
        "ax[0].set_title('P-valores entre la correlación entre variables binarias y cuantitativas')\n",
        "ax[0].set_ylabel('Variables binarias')\n",
        "ax[0].set_xlabel('Variables Cuantitativas')\n",
        "\n",
        "sns.heatmap(correlaciones_biserial,cmap='coolwarm',vmin=-1,vmax=1, annot=True,fmt='.4f',ax=ax[1])\n",
        "ax[1].set_title('Coeficientes de correlación entre variables binarias y cuantitativas')\n",
        "ax[1].set_ylabel('Variables binarias')\n",
        "ax[1].set_xlabel('Variables Cuantitativas')"
      ]
    },
    {
      "cell_type": "markdown",
      "metadata": {},
      "source": [
        "***Aunque tenemos coeficientes de correlación muy bajos y poco evidentes en las graficas pairplot, sugiero que hagamos el modelo y tratemos de depurar los datos para serum_creatininte, age y ejection fraction (las cuales se estudiaban en el paper y que aqui muestran mejor correlación que las demas) Contra Death_event***"
      ]
    },
    {
      "cell_type": "markdown",
      "metadata": {},
      "source": [
        "### **1.2. Análisis de regresiones**\n",
        "---\n",
        "\n",
        "- Apartir de las correlaciones identificadas, ¿es posible llevar a cabo un análisis de regresiones para estimar el valor de alguna de las variables de interés?\n",
        "- ¿Cuáles fueron las variables seleccionadas para el análisis de regresiones y cómo se eligieron en función de los objetivos del proyecto?"
      ]
    },
    {
      "cell_type": "code",
      "execution_count": null,
      "metadata": {},
      "outputs": [],
      "source": [
        "model = sm.GLM.from_formula(\"DEATH_EVENT ~ ejection_fraction + serum_creatinine + age\", family=sm.families.Binomial(), data=df)\n",
        "result = model.fit()\n",
        "result.summary()"
      ]
    },
    {
      "cell_type": "markdown",
      "metadata": {},
      "source": [
        "## **¿El modelo genera una buena predicción?**\n",
        "---\n",
        "\n",
        "Los resultados de la visualización del punto anterior nos indican que, en algunos casos, el modelo es bastante acertado para clasificar flores de alguna de las dos especies. Vamos a evaluar la **exactitud (*accuracy*)** del modelo de regresión logística. Esta es una métrica de desempeño típica que se utiliza para evaluar los clasificadores. Se calcula de la siguiente manera:\n",
        "\n",
        "$$Accuracy = \\frac{número\\ de\\ aciertos}{total}$$"
      ]
    },
    {
      "cell_type": "code",
      "execution_count": null,
      "metadata": {},
      "outputs": [],
      "source": [
        "#Aplicación del modelo en los datos\n",
        "dfc=df.copy()\n",
        "Intercept,x1,x2,x3=result.params\n",
        "dfc['Prediction_model']=1/(1+np.exp(-(Intercept + dfc['ejection_fraction']*x1 + dfc['serum_creatinine']*x2 + dfc['age']*x3)))\n",
        "dfc['Prediction_result']=dfc['Prediction_model'].apply(lambda x: 0.0 if x<=0.5 else 1.0)\n",
        "#Aciertos del modelo\n",
        "dfc['Acierto_modelo']= dfc['DEATH_EVENT'] == dfc['Prediction_result']\n",
        "#Stats\n",
        "porcentaje_acierto=dfc['Acierto_modelo'].sum()*100/len(dfc['Acierto_modelo'])\n",
        "total=dfc['Acierto_modelo'].sum()\n",
        "print(f'La exactitud del modelo en el dataset es de {porcentaje_acierto}%\\nCon un total de {total} aciertos de 299')"
      ]
    },
    {
      "cell_type": "markdown",
      "metadata": {},
      "source": [
        "## **2. Resultados y visualizaciones**\n",
        "\n",
        "### **2.1. Visualizaciones Estáticas**\n",
        "---\n",
        "\n",
        "* Incluya gráficos y visualizaciones estáticas que sean relevantes para los datos analizados.\n",
        "* Explique cada visualización y cómo contribuye a la comprensión de los resultados."
      ]
    },
    {
      "cell_type": "code",
      "execution_count": null,
      "metadata": {},
      "outputs": [],
      "source": [
        "# 1. Histograma de la distribución de la edad de los pacientes\n",
        "plt.figure(figsize=(8, 6))\n",
        "sns.histplot(df['age'], bins=20, kde=True, color='skyblue')\n",
        "plt.title('Distribución de la Edad de los Pacientes')\n",
        "plt.xlabel('Edad')\n",
        "plt.ylabel('Frecuencia')\n",
        "plt.grid(True)\n",
        "plt.show()\n",
        "\n",
        "# 2. Gráfico de barras para contar la cantidad de pacientes con y sin diabetes\n",
        "plt.figure(figsize=(8, 6))\n",
        "sns.countplot(x='diabetes', data=df, palette='Set2')\n",
        "plt.title('Cantidad de Pacientes con y sin Diabetes')\n",
        "plt.xlabel('Diabetes')\n",
        "plt.ylabel('Cantidad de Pacientes')\n",
        "plt.xticks(ticks=[0, 1], labels=['Sin Diabetes', 'Con Diabetes'])\n",
        "plt.show()"
      ]
    },
    {
      "cell_type": "code",
      "execution_count": null,
      "metadata": {},
      "outputs": [],
      "source": [
        "# 3. Gráfico de dispersión para mostrar la relación entre la edad y el nivel de creatinina sérica\n",
        "plt.figure(figsize=(8, 6))\n",
        "sns.scatterplot(x='age', y='serum_creatinine', data=df, color='green')\n",
        "plt.title('Relación entre Edad y Nivel de Creatinina Sérica')\n",
        "plt.xlabel('Edad')\n",
        "plt.ylabel('Nivel de Creatinina Sérica')\n",
        "plt.grid(True)\n",
        "plt.show()"
      ]
    },
    {
      "cell_type": "markdown",
      "metadata": {},
      "source": [
        "### **2.2. Visualizaciones Interactivas**\n",
        "---\n",
        "\n",
        "* Cree visualizaciones interactivas, como gráficos dinámicos o tableros interactivos y proporcione instrucciones claras sobre cómo interactuar con ellos.\n",
        "* Explore cómo estas visualizaciones ayudan en la exploración de datos y documente su análisis."
      ]
    },
    {
      "cell_type": "code",
      "execution_count": null,
      "metadata": {},
      "outputs": [],
      "source": []
    },
    {
      "cell_type": "markdown",
      "metadata": {},
      "source": [
        "### **2.3. Visualización de Mapas Coropléticos (Opcional)**\n",
        "---\n",
        "\n",
        "* Si aplica mapas coropléticos para representar datos geoespaciales, incluya estas visualizaciones.\n",
        "* Explique la elección de este tipo de visualización y cómo ésta contribuye a la comprensión de patrones geográficos y a la solución planteada."
      ]
    },
    {
      "cell_type": "markdown",
      "metadata": {},
      "source": [
        "### **2.4. Interpretación de Resultados**\n",
        "---\n",
        "* ¿Existen patrones o tendencias significativas en los datos?\n",
        "\n",
        "Sí, los gráficos y las pruebas estadísticas revelan relaciones y asociaciones entre las variables cuantitativas, así como distribuciones de frecuencia para variables categóricas, lo que sugiere la presencia de patrones o tendencias en los datos.\n",
        "\n",
        "* ¿Qué significan los resultados en términos prácticos?\n",
        "\n",
        "Los resultados proporcionan información sobre la naturaleza de las relaciones entre las variables y la distribución de los datos, lo que puede ayudar a tomar decisiones informadas en función de la comprensión de los patrones en los datos.\n",
        "\n",
        "* ¿Existen patrones o tendencias inesperadas en los datos que requieran una consideración especial o una investigación adicional?\n",
        "\n",
        "Se debe prestar atención a las variables que no siguen una distribución normal y a las correlaciones significativas entre variables, ya que pueden indicar áreas de interés que requieren una investigación adicional para comprender mejor su naturaleza y sus implicaciones.\n",
        "\n",
        "* ¿Cuáles fueron los hallazgos principales que contribuirán al proceso de toma de decisiones?\n",
        "\n",
        "Los hallazgos principales incluyen las relaciones identificadas entre variables, la presencia de variables no normales y las tendencias observadas en la distribución de las variables. Estos hallazgos pueden proporcionar información valiosa para la toma de decisiones en función de la comprensión de los patrones y asociaciones en los datos.\n",
        "\n",
        "Recuerde que la interpretación de resultados es una fase clave para extraer el significado de los datos y proporcionar respuestas o soluciones al problema inicial."
      ]
    },
    {
      "cell_type": "code",
      "execution_count": null,
      "metadata": {},
      "outputs": [],
      "source": []
    },
    {
      "cell_type": "markdown",
      "metadata": {},
      "source": []
    },
    {
      "cell_type": "markdown",
      "metadata": {},
      "source": [
        "## **3. Conclusiones**\n",
        "---\n",
        "Asegúrese de incluir al menos una conclusión de cada unidad tratada en los *notebooks*. Estas conclusiones actúan como resúmenes breves que destacan los puntos clave y los aprendizajes esenciales de cada sección.\n",
        "\n",
        "\n",
        "1.   \n",
        "2.   \n",
        "3.   \n",
        "4.   En conclusión, el análisis estadístico realizado proporciona una comprensión profunda de los datos y revela varias tendencias y relaciones importantes entre las variables. Se identificaron variables que no siguen una distribución normal y se exploraron las asociaciones entre variables cuantitativas y binarias. Además, se observaron patrones en la distribución de la edad de los pacientes y en la prevalencia de la diabetes en la muestra. \n",
        "\n"
      ]
    }
  ],
  "metadata": {
    "colab": {
      "include_colab_link": true,
      "provenance": []
    },
    "kernelspec": {
      "display_name": "Python 3",
      "name": "python3"
    },
    "language_info": {
      "codemirror_mode": {
        "name": "ipython",
        "version": 3
      },
      "file_extension": ".py",
      "mimetype": "text/x-python",
      "name": "python",
      "nbconvert_exporter": "python",
      "pygments_lexer": "ipython3",
      "version": "3.12.2"
    }
  },
  "nbformat": 4,
  "nbformat_minor": 0
}
