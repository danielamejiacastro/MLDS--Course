{
  "nbformat": 4,
  "nbformat_minor": 0,
  "metadata": {
    "colab": {
      "provenance": [],
      "include_colab_link": true
    },
    "kernelspec": {
      "name": "python3",
      "display_name": "Python 3"
    },
    "language_info": {
      "name": "python"
    }
  },
  "cells": [
    {
      "cell_type": "markdown",
      "metadata": {
        "id": "view-in-github",
        "colab_type": "text"
      },
      "source": [
        "<a href=\"https://colab.research.google.com/github/danielamejiacastro/MLDS--Course/blob/main/Fase_3_Preparaci%C3%B3n_de_los_datos.ipynb\" target=\"_parent\"><img src=\"https://colab.research.google.com/assets/colab-badge.svg\" alt=\"Open In Colab\"/></a>"
      ]
    },
    {
      "cell_type": "markdown",
      "source": [
        "<img src = \"https://drive.google.com/uc?export=view&id=1rSrsZ04aJ_D3BC67Cy2dBUZ6tmguydNf\" alt = \"Encabezado MLDS\" width = \"100%\">  </img>"
      ],
      "metadata": {
        "id": "2qrgS_sCJquS"
      }
    },
    {
      "cell_type": "markdown",
      "metadata": {
        "id": "fb006272"
      },
      "source": [
        "# **Preparación de los datos**\n",
        "---\n",
        "\n",
        "Este notebook es una plantilla que le puede servir como guía para el tercer entregable del proyecto aplicado."
      ]
    },
    {
      "cell_type": "markdown",
      "metadata": {
        "id": "fdb4c33d"
      },
      "source": [
        "## **0. Integrantes del equipo de trabajo**\n",
        "---\n",
        "\n",
        "Por favor incluya los nombres completos y número de identificación de los integrantes del equipo de trabajo:"
      ]
    },
    {
      "cell_type": "markdown",
      "metadata": {
        "id": "ckNDI7ftUrpa"
      },
      "source": [
        "1. ---**INGRESE SU RESPUESTA**---\n",
        "2. ---**INGRESE SU RESPUESTA**---\n",
        "3. ---**INGRESE SU RESPUESTA**---"
      ]
    },
    {
      "cell_type": "markdown",
      "metadata": {
        "id": "56fe78e6"
      },
      "source": [
        "## **1. Limpieza de los Datos**\n",
        "---\n",
        "\n",
        "La elección de las técnicas de preprocesamiento puede diferir en cada conjunto de datos. Recuerde que es posible aplicar, según sea necesario (no necesariamente todas), las técnicas generales que se han explorado en el curso. La elección dependerá del tipo de datos con el que esté trabajando.\n",
        "\n",
        "A lo largo de esta entrega, busque responder las siguientes preguntas:\n",
        "\n",
        "- ¿Cuáles fueron los criterios utilizados para identificar y tratar valores atípicos, datos faltantes o cualquier otra anomalía en el conjunto de datos durante el proceso de limpieza?\n",
        "- ¿Cómo se justificaría la necesidad de cada paso de preprocesamiento en términos de mejora de la calidad de los datos y preparación para el análisis subsiguiente?\n",
        "\n",
        "A continuación encontrará los puntos a tratar a medida que va realizando la preparación de los datos. En cada punto defina el estado en que se encontraba el dataset, ademas de explicar y justificar las acciones y decisiones que se tomaron."
      ]
    },
    {
      "cell_type": "markdown",
      "source": [
        "### **1.1. Valores faltantes**\n",
        "---\n",
        "Al encontrarnos con valores faltantes en el conjunto de datos, es crucial preguntarse:\n",
        "* ¿Cómo afectan estos valores a la integridad y representatividad de la información?\n",
        "* ¿Cómo se identificaron los valores faltantes en el conjunto de datos?\n",
        "* ¿Cuáles fueron los criterios para decidir si rellenar con valores estimados o eliminar los valores faltantes? En caso que aplique, ¿qué método de relleno se utilizó y por qué se consideró apropiado?\n",
        "* ¿Se realizó un análisis de la distribución de los valores faltantes en relación con las variables clave? Por ejemplo, si hay valores faltantes en una variable crítica, ¿cómo podría afectar la interpretación de los resultados?"
      ],
      "metadata": {
        "id": "f4K7dEZKeiit"
      }
    },
    {
      "cell_type": "markdown",
      "source": [
        "---**INGRESE SU RESPUESTA**---"
      ],
      "metadata": {
        "id": "rJ51sNCRgl58"
      }
    },
    {
      "cell_type": "code",
      "execution_count": null,
      "metadata": {
        "id": "b2e644a9"
      },
      "outputs": [],
      "source": [
        "# ---INGRESE SU CÓDIGO---"
      ]
    },
    {
      "cell_type": "markdown",
      "source": [
        "### **1.2. Valores duplicados**\n",
        "----\n",
        "Ante la presencia de valores duplicados, es esencial reflexionar sobre su impacto en los resultados.\n",
        "\n",
        "* ¿Cómo se identificaron y manejaron los valores duplicados en el conjunto de datos?\n",
        "* ¿Hubo alguna consideración especial al tratar duplicados en función de ciertas variables?\n",
        "* ¿Pueden estos duplicados sesgar el análisis, y en qué medida?\n",
        "* ¿Se justifica la eliminación de duplicados para mantener la coherencia y singularidad de los datos?\n",
        "* ¿Cómo se aseguró de que la eliminación de duplicados no afectara negativamente la representación del conjunto de datos?\n",
        "\n",
        "La identificación y eliminación de duplicados busca asegurar que cada registro aporte información única y valiosa."
      ],
      "metadata": {
        "id": "4qKkkYiCeqFg"
      }
    },
    {
      "cell_type": "markdown",
      "source": [
        "---**INGRESE SU RESPUESTA**---"
      ],
      "metadata": {
        "id": "Tj3bKLXJgm2m"
      }
    },
    {
      "cell_type": "code",
      "execution_count": null,
      "metadata": {
        "id": "--J8K7mfgm2m"
      },
      "outputs": [],
      "source": [
        "# ---INGRESE SU CÓDIGO---"
      ]
    },
    {
      "cell_type": "markdown",
      "source": [
        "### **1.3. Valores atípicos**\n",
        "---\n",
        "Al abordar valores atípicos, es relevante cuestionarse sobre la naturaleza de estos puntos extremos.\n",
        "* ¿Son errores de medición o representan información válida pero excepcional?\n",
        "* ¿Qué criterios o técnicas se utilizaron para identificar los valores atípicos?\n",
        "* ¿Se aplicaron métodos estadísticos o visuales para detectar los valores atípicos?\n",
        "* ¿Cuál fue la decisión final sobre cómo tratar los valores atípicos y por qué?\n",
        "\n",
        "La elección entre eliminar o transformar estos valores debe basarse en su influencia en la distribución y la interpretación de los resultados, asegurando que el análisis refleje de manera precisa la realidad del conjunto de datos."
      ],
      "metadata": {
        "id": "4pVqw4XWeuly"
      }
    },
    {
      "cell_type": "markdown",
      "source": [
        "---**INGRESE SU RESPUESTA**---"
      ],
      "metadata": {
        "id": "_nFAW9v5gnjF"
      }
    },
    {
      "cell_type": "code",
      "execution_count": null,
      "metadata": {
        "id": "z_F5tlESgnjG"
      },
      "outputs": [],
      "source": [
        "# ---INGRESE SU CÓDIGO---"
      ]
    },
    {
      "cell_type": "markdown",
      "source": [
        "### **1.4. Datos Inconsistentes**\n",
        "---\n",
        "Frente a inconsistencias en los datos, es importante analizar cómo estas discrepancias podrían afectar la comparabilidad y comprensión de la información.\n",
        "\n",
        "* ¿Cómo se identificaron las inconsistencias en los datos?\n",
        "* ¿Las inconsistencias son lo suficientemente significativas como para justificar una estandarización?\n",
        "* ¿Cómo se pueden homogeneizar unidades y formatos para garantizar coherencia en el análisis?\n",
        "* ¿Qué estrategias se implementaron para abordar las inconsistencias y asegurar la coherencia?\n",
        "* ¿Se establecieron reglas de validación específicas para garantizar la consistencia?"
      ],
      "metadata": {
        "id": "VIsvbU-ueysh"
      }
    },
    {
      "cell_type": "markdown",
      "source": [
        "---**INGRESE SU RESPUESTA**---"
      ],
      "metadata": {
        "id": "nDqIYfpCgn8B"
      }
    },
    {
      "cell_type": "code",
      "execution_count": null,
      "metadata": {
        "id": "V2ikNtJcgn8C"
      },
      "outputs": [],
      "source": [
        "# ---INGRESE SU CÓDIGO---"
      ]
    },
    {
      "cell_type": "markdown",
      "source": [
        "### **1.5. Datos corruptos**\n",
        "---\n",
        "En la detección de datos corruptos, pregunte si hay posibles errores de entrada o problemas de transferencia que podrían haber afectado la integridad de los datos.\n",
        "* ¿Cómo se determinó la presencia de datos corruptos en el conjunto de datos?\n",
        "* ¿Qué medidas se tomaron para corregir o eliminar los datos corruptos?\n",
        "* ¿Hubo casos en los que la corrupción de datos no pudo ser manejada y cómo se justificó esa decisión?"
      ],
      "metadata": {
        "id": "i2HDxOgae2zH"
      }
    },
    {
      "cell_type": "markdown",
      "source": [
        "---**INGRESE SU RESPUESTA**---"
      ],
      "metadata": {
        "id": "uGyRX1eLgoSy"
      }
    },
    {
      "cell_type": "code",
      "execution_count": null,
      "metadata": {
        "id": "tyOGRoKQgoSz"
      },
      "outputs": [],
      "source": [
        "# ---INGRESE SU CÓDIGO---"
      ]
    },
    {
      "cell_type": "markdown",
      "source": [
        "### **1.6. Selección de datos**\n",
        "---\n",
        "En la selección de datos, reflexione sobre las variables que son realmente relevantes para sus objetivos de análisis.\n",
        "* ¿Qué criterios se utilizaron para seleccionar los datos relevantes para el análisis?\n",
        "* ¿Se aplicaron técnicas de muestreo o filtrado para reducir el tamaño del conjunto de datos?\n",
        "* ¿Cómo se justificó la inclusión o exclusión de ciertas variables en la selección de datos?"
      ],
      "metadata": {
        "id": "ciaXdOS5fY6a"
      }
    },
    {
      "cell_type": "markdown",
      "source": [
        "---**INGRESE SU RESPUESTA**---"
      ],
      "metadata": {
        "id": "_Sj0ntaagooI"
      }
    },
    {
      "cell_type": "code",
      "execution_count": null,
      "metadata": {
        "id": "aKwsi2fmgooI"
      },
      "outputs": [],
      "source": [
        "# ---INGRESE SU CÓDIGO---"
      ]
    },
    {
      "cell_type": "markdown",
      "source": [
        "## **Créditos**\n",
        "* **Profesor:** [Felipe Restrepo Calle](https://dis.unal.edu.co/~ferestrepoca/)\n",
        "* **Asistentes docentes:**\n",
        "    - [Juan Sebastián Lara Ramírez](https://www.linkedin.com/in/juan-sebastian-lara-ramirez-43570a214/).\n",
        "* **Diseño de imágenes:**\n",
        "    - [Rosa Alejandra Superlano Esquibel](mailto:rsuperlano@unal.edu.co).\n",
        "* **Coordinador de virtualización:**\n",
        "    - [Edder Hernández Forero](https://www.linkedin.com/in/edder-hernandez-forero-28aa8b207/).\n",
        "    \n",
        "**Universidad Nacional de Colombia** - *Facultad de Ingeniería*"
      ],
      "metadata": {
        "id": "ceibuW1dNH9a"
      }
    }
  ]
}