{
  "nbformat": 4,
  "nbformat_minor": 0,
  "metadata": {
    "colab": {
      "provenance": [],
      "include_colab_link": true
    },
    "kernelspec": {
      "name": "python3",
      "display_name": "Python 3"
    },
    "language_info": {
      "name": "python"
    }
  },
  "cells": [
    {
      "cell_type": "markdown",
      "metadata": {
        "id": "view-in-github",
        "colab_type": "text"
      },
      "source": [
        "<a href=\"https://colab.research.google.com/github/danielamejiacastro/MLDS--Course/blob/main/Fase_2_Entendimiento_de_los_datos.ipynb\" target=\"_parent\"><img src=\"https://colab.research.google.com/assets/colab-badge.svg\" alt=\"Open In Colab\"/></a>"
      ]
    },
    {
      "cell_type": "markdown",
      "source": [
        "<img src = \"https://drive.google.com/uc?export=view&id=1vU_Lg5LD6Dn521znF_9E6OsJgwptOT9E\" alt = \"Encabezado MLDS\" width = \"100%\">  </img>"
      ],
      "metadata": {
        "id": "2qrgS_sCJquS"
      }
    },
    {
      "cell_type": "markdown",
      "metadata": {
        "id": "a9669dfd"
      },
      "source": [
        "# **Entendimiento de los Datos**\n",
        "---\n",
        "\n",
        "Este notebook es una plantilla que le puede servir como guía para el segundo entregable del proyecto aplicado."
      ]
    },
    {
      "cell_type": "markdown",
      "metadata": {
        "id": "fdb4c33d"
      },
      "source": [
        "## **0. Integrantes del equipo de trabajo**\n",
        "---\n",
        "\n",
        "Por favor incluya los nombres completos y número de identificación de los integrantes del equipo de trabajo:"
      ]
    },
    {
      "cell_type": "markdown",
      "metadata": {
        "id": "ckNDI7ftUrpa"
      },
      "source": [
        "1. ---**INGRESE SU RESPUESTA**---\n",
        "2. ---**INGRESE SU RESPUESTA**---\n",
        "3. ---**INGRESE SU RESPUESTA**---"
      ]
    },
    {
      "cell_type": "markdown",
      "source": [
        "## **1. Carga de datos**\n",
        "---\n",
        "Proporcione únicamente el código de Python necesario para descargar el conjunto de datos que será utilizado en el proyecto. Si es necesario, realice operaciones de adquisición e integración del conjunto de datos."
      ],
      "metadata": {
        "id": "qG-gA0MvzMTA"
      }
    },
    {
      "cell_type": "code",
      "source": [
        "# ---INGRESE SU CÓDIGO---"
      ],
      "metadata": {
        "id": "FxykiJtCzQl2"
      },
      "execution_count": null,
      "outputs": []
    },
    {
      "cell_type": "markdown",
      "metadata": {
        "id": "f6de2158"
      },
      "source": [
        "## **2. Análisis Exploratorio de los Datos**\n",
        "---\n",
        "\n",
        "Normalmente en el análisis exploratorio, se trata de dar respuesta a los siguientes elementos:"
      ]
    },
    {
      "cell_type": "markdown",
      "metadata": {
        "id": "20031c7b"
      },
      "source": [
        "### **2.1. Resumen General**\n",
        "---\n",
        "\n",
        "- ¿Cuántos registros contiene el *dataset*?\n",
        "- ¿En qué formato están guardados los datos?\n",
        "- ¿Qué tamaño en MB tiene el conjunto de datos?"
      ]
    },
    {
      "cell_type": "code",
      "source": [
        "# ---INGRESE SU CÓDIGO---"
      ],
      "metadata": {
        "id": "bCmgIRrcX3XC"
      },
      "execution_count": null,
      "outputs": []
    },
    {
      "cell_type": "markdown",
      "metadata": {
        "id": "8b0f9910"
      },
      "source": [
        "---**INGRESE SU RESPUESTA**---"
      ]
    },
    {
      "cell_type": "markdown",
      "metadata": {
        "id": "vz2WlImOY7wl"
      },
      "source": [
        "### **2.2. Análisis estadístico descriptivo**\n",
        "---\n",
        "\n",
        "Describa el conjunto de datos por medio de estadística descriptiva, aportando interpretaciones precisas que ayuden a entender los datos."
      ]
    },
    {
      "cell_type": "code",
      "source": [
        "# ---INGRESE SU CÓDIGO---"
      ],
      "metadata": {
        "id": "OxNu8JnAY7wm"
      },
      "execution_count": null,
      "outputs": []
    },
    {
      "cell_type": "markdown",
      "metadata": {
        "id": "YeXpGOfyY7wn"
      },
      "source": [
        "---**INGRESE SU RESPUESTA**---"
      ]
    },
    {
      "cell_type": "markdown",
      "metadata": {
        "id": "447ad6f5"
      },
      "source": [
        "### **2.3. Resumen de la Calidad de los datos**\n",
        "---\n",
        "\n",
        "- ¿Se detecta la ausencia de datos, la presencia de datos erróneos o la existencia de datos de baja calidad en el conjunto?\n",
        "- ¿Se identifican registros con datos ilegibles o con dificultades de codificación durante la revisión del conjunto de datos?\n",
        "- ¿Se observa una diversidad de formatos en el conjunto de datos que pueda dificultar su consistencia o comprensión?\n",
        "- ¿Se identificaron y abordaron posibles problemas, como valores atípicos, duplicados o datos faltantes?"
      ]
    },
    {
      "cell_type": "code",
      "source": [
        "# ---INGRESE SU CÓDIGO---"
      ],
      "metadata": {
        "id": "L7u_cP_tX5G7"
      },
      "execution_count": null,
      "outputs": []
    },
    {
      "cell_type": "markdown",
      "metadata": {
        "id": "74f59e76"
      },
      "source": [
        "---**INGRESE SU RESPUESTA**---"
      ]
    },
    {
      "cell_type": "markdown",
      "metadata": {
        "id": "e90ec109"
      },
      "source": [
        "### **2.4. Tipos de variables**\n",
        "---\n",
        "\n",
        "- ¿El conjunto de datos tiene una variable objetivo a estimar?, de ser así, ¿es una variable continúa o categórica?\n",
        "- Analice la distribución de las etiquetas, identifique si hay desbalanceo de datos."
      ]
    },
    {
      "cell_type": "code",
      "source": [
        "# ---INGRESE SU CÓDIGO---"
      ],
      "metadata": {
        "id": "W8wdQuGMX50Q"
      },
      "execution_count": null,
      "outputs": []
    },
    {
      "cell_type": "markdown",
      "metadata": {
        "id": "d0c26982"
      },
      "source": [
        "---**INGRESE SU RESPUESTA**---"
      ]
    },
    {
      "cell_type": "markdown",
      "source": [
        "## **Créditos**\n",
        "* **Profesor:** [Felipe Restrepo Calle](https://dis.unal.edu.co/~ferestrepoca/)\n",
        "* **Asistentes docentes:**\n",
        "    - [Juan Sebastián Lara Ramírez](https://www.linkedin.com/in/juan-sebastian-lara-ramirez-43570a214/).\n",
        "* **Diseño de imágenes:**\n",
        "    - [Rosa Alejandra Superlano Esquibel](mailto:rsuperlano@unal.edu.co).\n",
        "* **Coordinador de virtualización:**\n",
        "    - [Edder Hernández Forero](https://www.linkedin.com/in/edder-hernandez-forero-28aa8b207/).\n",
        "    \n",
        "**Universidad Nacional de Colombia** - *Facultad de Ingeniería*"
      ],
      "metadata": {
        "id": "ceibuW1dNH9a"
      }
    }
  ]
}