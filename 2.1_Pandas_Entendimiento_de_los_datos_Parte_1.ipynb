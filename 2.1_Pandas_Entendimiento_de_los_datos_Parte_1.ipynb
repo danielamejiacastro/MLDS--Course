{
  "cells": [
    {
      "cell_type": "markdown",
      "metadata": {
        "colab_type": "text",
        "id": "view-in-github"
      },
      "source": [
        "<a href=\"https://colab.research.google.com/github/danielamejiacastro/MLDS--Course/blob/main/Pandas%20Entendimiento%20de%20los%20datos%20Parte%201.ipynb\" target=\"_parent\"><img src=\"https://colab.research.google.com/assets/colab-badge.svg\" alt=\"Open In Colab\"/></a>"
      ]
    },
    {
      "cell_type": "markdown",
      "metadata": {
        "id": "22zXjFMRkUkJ"
      },
      "source": [
        "<img src = \"https://drive.google.com/uc?export=view&id=1ljiY7gV0TKs3nnTMPA5UBdED8KGzzZnX\" alt = \"Encabezado MLDS\" width = \"100%\">  </img>\n",
        "\n"
      ]
    },
    {
      "cell_type": "markdown",
      "metadata": {
        "id": "kyyYqzShjxwL"
      },
      "source": [
        "# **Entendimiento de los datos con *pandas* I**\n",
        "---\n",
        "<img src = \"https://pandas.pydata.org/static/img/pandas.svg\" alt = \"pandas Logo\" width = \"70%\">  </img>\n",
        "\n",
        "\n",
        "\n",
        "***Pandas*** es una librería de código abierto de *Python* muy popular diseñada para tareas de análisis y manipulación de datos. Es, junto a *NumPy* y *SciPy*, un módulo fundamental del ecosistema de computación científica en *Python* que es usado en proyectos de análisis de datos.\n",
        "\n",
        "En este material se discutirán las funcionalidades que *pandas* ofrece para el proceso de entendimiento de los datos, desde sus estructuras de datos fundamentales, sus atributos y métodos principales, además de herramientas de escritura y lectura de datos."
      ]
    },
    {
      "cell_type": "markdown",
      "metadata": {
        "id": "eRKerH0JtAoP"
      },
      "source": [
        "## **1. Importar *pandas***\n",
        "---\n",
        "\n",
        "*pandas*, al igual que *NumPy*, viene instalado por defecto en la mayoría de distribuciones de *Python*. En este material, y en muchos recursos que encontrará en la web, se utilizará el alias **`pd`** como abreviatura de *pandas*. Si lo desea, puede trabajar sin alias o con módulos específicos, tal como se discutió en la guía de *NumPy*.\n",
        "\n",
        "*pandas* está construido encima de *NumPy* y depende de este para muchas de sus funcionalidades principales. Se recomienda instalar en conjunto estas librerías, pues juntas proveen una herramienta poderosa para la manipulación de conjuntos de datos. Se usará el alias **`np`** como abreviatura de *NumPy* y **`pd`** como abreviatura de *Pandas*.\n"
      ]
    },
    {
      "cell_type": "code",
      "execution_count": 25,
      "metadata": {
        "id": "If9LYvdhSImI"
      },
      "outputs": [],
      "source": [
        "import numpy as np\n",
        "import pandas as pd"
      ]
    },
    {
      "cell_type": "code",
      "execution_count": 26,
      "metadata": {
        "id": "5fyqcKuKQfcN"
      },
      "outputs": [
        {
          "name": "stdout",
          "output_type": "stream",
          "text": [
            "Python 3.12.2\n",
            "NumPy 1.26.4\n",
            "pandas 2.2.1\n"
          ]
        }
      ],
      "source": [
        "!python --version\n",
        "print('NumPy', np.__version__)\n",
        "print('pandas', pd.__version__)"
      ]
    },
    {
      "cell_type": "markdown",
      "metadata": {
        "id": "9XBOPST5sDhp"
      },
      "source": [
        "Este material fue realizado con las siguientes versiones:\n",
        "\n",
        "- Python 3.10.6\n",
        "- NumPy 1.22.4\n",
        "- pandas 1.5.3\n"
      ]
    },
    {
      "cell_type": "markdown",
      "metadata": {
        "id": "-W6-WrbATfqg"
      },
      "source": [
        "## **2. pd.Series y pd.DataFrame**\n",
        "---\n",
        "\n",
        "*Pandas* está orientado al manejo de datos de carácter tabular, como las tablas de hojas de cálculo o de bases de datos relacionales. Su funcionalidad gira en torno a dos estructuras de datos fundamentales:\n",
        "* **`Series`**\n",
        "* **`Dataframes`**\n",
        "\n"
      ]
    },
    {
      "cell_type": "markdown",
      "metadata": {
        "id": "P0UWE3c9Tr1D"
      },
      "source": [
        "### **2.1. *Series***\n",
        "---\n",
        "\n",
        "El primer objeto a considerar es el objeto *Series*. Una serie es un arreglo unidimensional de datos, cuyos elementos son identificados por un índice (no necesariamente uno único como en los diccionarios de *Python*). Se puede considerar como dos arreglos de *NumPy* asociados. Uno, el *índice* o **index** de la serie, cuyos valores corresponden a los valores usados para identificar cada entrada de la serie. El otro es el contenido de la serie, del mismo tamaño de su índice. Esta relación permite obtener los elementos en una serie de la forma en que se haría con un diccionario, permitiendo a su vez un espectro mayor de funcionalidad y utilidad para el análisis de datos.\n",
        "\n",
        "La forma principal de crear *Series* en *pandas* es mediante el constructor **`pd.Series`**. Esta función admite como argumento distintos tipos de dato y argumentos adicionales para la definición de series. Los tipos de dato permitidos son:"
      ]
    },
    {
      "cell_type": "markdown",
      "metadata": {
        "id": "WnfjeFL6D6OE"
      },
      "source": [
        "**1.  Listas o tuplas de Python**: Al usar listas de *Python* como entrada, su contenido se convierte en el contenido del nuevo objeto *Series*. El argumento **`index`** permite definir el índice de la lista. Si no se pasa este argumento el índice son los números enteros desde 0 hasta el tamaño de la serie, como en un arreglo o una lista."
      ]
    },
    {
      "cell_type": "code",
      "execution_count": 27,
      "metadata": {
        "id": "8RT78HCnDiVf"
      },
      "outputs": [
        {
          "data": {
            "text/plain": [
              "0    a\n",
              "1    b\n",
              "2    c\n",
              "dtype: object"
            ]
          },
          "execution_count": 27,
          "metadata": {},
          "output_type": "execute_result"
        }
      ],
      "source": [
        "#Listas y tuplas de Python (Variables, listas/tuplas literales, comprensión de listas...)\n",
        "pd.Series(['a', 'b', 'c'])"
      ]
    },
    {
      "cell_type": "code",
      "execution_count": 28,
      "metadata": {
        "id": "347X-qLzTSpV"
      },
      "outputs": [
        {
          "data": {
            "text/plain": [
              "0    a\n",
              "1    b\n",
              "2    c\n",
              "dtype: object"
            ]
          },
          "execution_count": 28,
          "metadata": {},
          "output_type": "execute_result"
        }
      ],
      "source": [
        "pd.Series(('a', 'b', 'c'))"
      ]
    },
    {
      "cell_type": "code",
      "execution_count": 29,
      "metadata": {
        "id": "q0wSEM4_EhiH"
      },
      "outputs": [
        {
          "name": "stdout",
          "output_type": "stream",
          "text": [
            "<class 'pandas.core.series.Series'>\n"
          ]
        },
        {
          "data": {
            "text/plain": [
              "Index: 0    Value: 0\n",
              "Index: 1    Value: 1\n",
              "Index: 2    Value: 2\n",
              "Index: 3    Value: 3\n",
              "Index: 4    Value: 4\n",
              "Index: 5    Value: 5\n",
              "Index: 6    Value: 6\n",
              "Index: 7    Value: 7\n",
              "Index: 8    Value: 8\n",
              "Index: 9    Value: 9\n",
              "dtype: object"
            ]
          },
          "execution_count": 29,
          "metadata": {},
          "output_type": "execute_result"
        }
      ],
      "source": [
        "values = [f'Value: {i}' for i in range(10)]\n",
        "index  = [f'Index: {i}' for i in range(10)] # Índices con cadenas de caracteres\n",
        "\n",
        "serie = pd.Series(values,          # Valores de la serie\n",
        "                  index = index )  # Índice de la serie\n",
        "\n",
        "print(type(serie)) # Imprime el tipo de dato: Series\n",
        "serie"
      ]
    },
    {
      "cell_type": "markdown",
      "metadata": {
        "id": "2Okdk1ZDGlHO"
      },
      "source": [
        "**2.  Arreglos de *NumPy***: Tanto el argumento de contenido como el argumento de índice **`index`** aceptan arreglos de *NumPy* en su definición. Como *pandas* y sus objetos están diseñados utilizando arreglos de *NumPy*, también se consideran los tipos de dato de *NumPy* para sus objetos. Estos pueden inferirse si provienen de una lista o un arreglo, o pueden especificarse con el argumento **`dtype`**."
      ]
    },
    {
      "cell_type": "code",
      "execution_count": 30,
      "metadata": {
        "id": "kRP__PZHC_hn"
      },
      "outputs": [
        {
          "data": {
            "text/plain": [
              "0         1.000000\n",
              "10        2.782559\n",
              "20        7.742637\n",
              "30       21.544347\n",
              "40       59.948425\n",
              "50      166.810054\n",
              "60      464.158883\n",
              "70     1291.549665\n",
              "80     3593.813664\n",
              "90    10000.000000\n",
              "dtype: float64"
            ]
          },
          "execution_count": 30,
          "metadata": {},
          "output_type": "execute_result"
        }
      ],
      "source": [
        "#Arreglos de NumPy (Tanto para los valores como para el índice)\n",
        "pd.Series(np.logspace(0, 4, 10), index = np.linspace(0, 90, 10, dtype = 'int'))"
      ]
    },
    {
      "cell_type": "code",
      "execution_count": 31,
      "metadata": {
        "id": "--iLtnaTHrAu"
      },
      "outputs": [
        {
          "data": {
            "text/plain": [
              "0      0.0000\n",
              "1     55.5625\n",
              "2    111.1250\n",
              "3    166.6250\n",
              "4    222.2500\n",
              "5    277.7500\n",
              "6    333.2500\n",
              "7    389.0000\n",
              "8    444.5000\n",
              "9    500.0000\n",
              "dtype: float16"
            ]
          },
          "execution_count": 31,
          "metadata": {},
          "output_type": "execute_result"
        }
      ],
      "source": [
        "pd.Series(np.linspace(0, 500, 10), dtype = 'float16')"
      ]
    },
    {
      "cell_type": "markdown",
      "metadata": {
        "id": "vJIu584lHE3A"
      },
      "source": [
        "**3.  Diccionarios de *Python***: El constructor también admite diccionarios de *Python* como argumento para su definición. Al recibir este tipo de dato, las llaves del diccionario se interpretan como el índice y sus valores asociados como el contenido de la serie."
      ]
    },
    {
      "cell_type": "code",
      "execution_count": 32,
      "metadata": {
        "id": "qwcSu-V2Fgju"
      },
      "outputs": [
        {
          "data": {
            "text/plain": [
              "a    1\n",
              "b    2\n",
              "c    3\n",
              "dtype: int64"
            ]
          },
          "execution_count": 32,
          "metadata": {},
          "output_type": "execute_result"
        }
      ],
      "source": [
        "#Diccionarios\n",
        "data = {\n",
        "    'a' : 1,\n",
        "    'b' : 2,\n",
        "    'c' : 3\n",
        "    }\n",
        "pd.Series(data)"
      ]
    },
    {
      "cell_type": "markdown",
      "metadata": {
        "id": "i_PVO6E0NjlR"
      },
      "source": [
        "Además, se le puede añadir un nombre con el argumento **`name`**. Esto será de utilidad cuando se use de la mano con objetos **`pd.DataFrame`**, que se presentarán a continuación."
      ]
    },
    {
      "cell_type": "markdown",
      "metadata": {
        "id": "KAICLvYHTr92"
      },
      "source": [
        "### **2.2. DataFrame**\n",
        "---\n",
        "\n",
        "Los objetos **`pd.DataFrame`** son el objeto principal de *pandas*. Representan una tabla, un tipo de conjunto de datos con un índice asignado a sus filas y uno asignado a sus columnas. Cada fila o columna representa un objeto **`pd.Series`**.\n",
        "\n",
        "En el análisis de datos, se tiene una convención para distinguir entre filas y columnas. Las filas se suelen considerar observaciones, repeticiones de un experimento, o individuos de algo en particular. Por su parte, las columnas representan variables asociadas a cada observación (características), por lo que pueden tener distintos tipos de dato o semántica independiente. La intersección entre una fila y una columna se conoce como celda, y representa el valor de una variable de una instancia específica.\n",
        "\n",
        "Para crear un objeto *DataFrame* se puede utilizar el constructor **`pd.DataFrame`**. Al igual que las *Series*, este constructor admite distintos tipos de dato:"
      ]
    },
    {
      "cell_type": "markdown",
      "metadata": {
        "id": "uWMOxtqXQJOB"
      },
      "source": [
        "**1.  Arreglo de *NumPy*:**  Los datos de entrada se pueden especificar como un arreglo de *NumPy* de dos dimensiones. Al hacer esto, los valores de la primera dimensión (axis = 0) son organizados por filas, y los arreglos de la segunda dimensión (axis = 1) son organizados por columnas. Añadir un arreglo de 1 dimensión construye un *DataFrame* de 1 sola columna en lugar de una serie. Arreglos con otras dimensiones generarán un error.\n",
        "\n",
        "Esta vez, para distinguir entre filas y columnas se definen dos argumentos para la definición de los arreglos usados para representar sus índices. Estos son:\n",
        "\n",
        "*  **`index`**: Este argumento (igual al recibido por el constructor **`pd.Series`**) define el valor de los índices de las filas de la tabla.\n",
        "*  **`columns`**: Este argumento define el valor de los índices de las columnas de la tabla.\n",
        "\n",
        "No es necesario que estos argumentos contengan valores únicos, aunque es recomendable si se desea manejar cada elemento de forma aislada. También es válido usar combinaciones de tuplas y listas para esta definición."
      ]
    },
    {
      "cell_type": "code",
      "execution_count": 33,
      "metadata": {
        "id": "SH2ioTpLQfOv"
      },
      "outputs": [
        {
          "data": {
            "text/html": [
              "<div>\n",
              "<style scoped>\n",
              "    .dataframe tbody tr th:only-of-type {\n",
              "        vertical-align: middle;\n",
              "    }\n",
              "\n",
              "    .dataframe tbody tr th {\n",
              "        vertical-align: top;\n",
              "    }\n",
              "\n",
              "    .dataframe thead th {\n",
              "        text-align: right;\n",
              "    }\n",
              "</style>\n",
              "<table border=\"1\" class=\"dataframe\">\n",
              "  <thead>\n",
              "    <tr style=\"text-align: right;\">\n",
              "      <th></th>\n",
              "      <th>0</th>\n",
              "      <th>1</th>\n",
              "      <th>2</th>\n",
              "      <th>3</th>\n",
              "      <th>4</th>\n",
              "      <th>5</th>\n",
              "      <th>6</th>\n",
              "    </tr>\n",
              "  </thead>\n",
              "  <tbody>\n",
              "    <tr>\n",
              "      <th>a</th>\n",
              "      <td>10</td>\n",
              "      <td>10</td>\n",
              "      <td>10</td>\n",
              "      <td>10</td>\n",
              "      <td>10</td>\n",
              "      <td>10</td>\n",
              "      <td>10</td>\n",
              "    </tr>\n",
              "    <tr>\n",
              "      <th>b</th>\n",
              "      <td>10</td>\n",
              "      <td>10</td>\n",
              "      <td>10</td>\n",
              "      <td>10</td>\n",
              "      <td>10</td>\n",
              "      <td>10</td>\n",
              "      <td>10</td>\n",
              "    </tr>\n",
              "    <tr>\n",
              "      <th>a</th>\n",
              "      <td>10</td>\n",
              "      <td>10</td>\n",
              "      <td>10</td>\n",
              "      <td>10</td>\n",
              "      <td>10</td>\n",
              "      <td>10</td>\n",
              "      <td>10</td>\n",
              "    </tr>\n",
              "  </tbody>\n",
              "</table>\n",
              "</div>"
            ],
            "text/plain": [
              "    0   1   2   3   4   5   6\n",
              "a  10  10  10  10  10  10  10\n",
              "b  10  10  10  10  10  10  10\n",
              "a  10  10  10  10  10  10  10"
            ]
          },
          "execution_count": 33,
          "metadata": {},
          "output_type": "execute_result"
        }
      ],
      "source": [
        "#Arreglo de NumPy\n",
        "pd.DataFrame(np.full((3,7), 10), index = list('aba'))"
      ]
    },
    {
      "cell_type": "code",
      "execution_count": 34,
      "metadata": {
        "id": "IGSAUJ5_S4P0"
      },
      "outputs": [
        {
          "data": {
            "text/html": [
              "<div>\n",
              "<style scoped>\n",
              "    .dataframe tbody tr th:only-of-type {\n",
              "        vertical-align: middle;\n",
              "    }\n",
              "\n",
              "    .dataframe tbody tr th {\n",
              "        vertical-align: top;\n",
              "    }\n",
              "\n",
              "    .dataframe thead th {\n",
              "        text-align: right;\n",
              "    }\n",
              "</style>\n",
              "<table border=\"1\" class=\"dataframe\">\n",
              "  <thead>\n",
              "    <tr style=\"text-align: right;\">\n",
              "      <th></th>\n",
              "      <th>0</th>\n",
              "      <th>1</th>\n",
              "    </tr>\n",
              "  </thead>\n",
              "  <tbody>\n",
              "    <tr>\n",
              "      <th>0</th>\n",
              "      <td>10</td>\n",
              "      <td>20</td>\n",
              "    </tr>\n",
              "    <tr>\n",
              "      <th>1</th>\n",
              "      <td>30</td>\n",
              "      <td>40</td>\n",
              "    </tr>\n",
              "  </tbody>\n",
              "</table>\n",
              "</div>"
            ],
            "text/plain": [
              "    0   1\n",
              "0  10  20\n",
              "1  30  40"
            ]
          },
          "execution_count": 34,
          "metadata": {},
          "output_type": "execute_result"
        }
      ],
      "source": [
        "#Combinación de tuplas y listas\n",
        "#Los índices de filas y columnas por defecto son números enteros empezando desde 0.\n",
        "pd.DataFrame([(10, 20), (30, 40)] )"
      ]
    },
    {
      "cell_type": "markdown",
      "metadata": {
        "id": "eF2CkMPXTr3e"
      },
      "source": [
        "**3.  Diccionarios de *Python***: El constructor también admite diccionarios de *Python* como argumento para su definición. Al recibir este tipo de dato, las llaves del diccionario se interpretan como el índice de las *columnas* y sus valores asociados como el contenido de cada columna, en forma de estructuras de 1 dimensión como arreglos o listas. Es importante que estas tengan la misma longitud, o se producirá un error."
      ]
    },
    {
      "cell_type": "code",
      "execution_count": 35,
      "metadata": {
        "id": "r_OPQ3ChT0Ej"
      },
      "outputs": [
        {
          "data": {
            "text/html": [
              "<div>\n",
              "<style scoped>\n",
              "    .dataframe tbody tr th:only-of-type {\n",
              "        vertical-align: middle;\n",
              "    }\n",
              "\n",
              "    .dataframe tbody tr th {\n",
              "        vertical-align: top;\n",
              "    }\n",
              "\n",
              "    .dataframe thead th {\n",
              "        text-align: right;\n",
              "    }\n",
              "</style>\n",
              "<table border=\"1\" class=\"dataframe\">\n",
              "  <thead>\n",
              "    <tr style=\"text-align: right;\">\n",
              "      <th></th>\n",
              "      <th>a</th>\n",
              "      <th>b</th>\n",
              "    </tr>\n",
              "  </thead>\n",
              "  <tbody>\n",
              "    <tr>\n",
              "      <th>0</th>\n",
              "      <td>1</td>\n",
              "      <td>10</td>\n",
              "    </tr>\n",
              "    <tr>\n",
              "      <th>1</th>\n",
              "      <td>2</td>\n",
              "      <td>20</td>\n",
              "    </tr>\n",
              "    <tr>\n",
              "      <th>2</th>\n",
              "      <td>3</td>\n",
              "      <td>30</td>\n",
              "    </tr>\n",
              "  </tbody>\n",
              "</table>\n",
              "</div>"
            ],
            "text/plain": [
              "   a   b\n",
              "0  1  10\n",
              "1  2  20\n",
              "2  3  30"
            ]
          },
          "execution_count": 35,
          "metadata": {},
          "output_type": "execute_result"
        }
      ],
      "source": [
        "data = {\n",
        "   'a' : [1,2,3],\n",
        "   'b' : [10,20,30]\n",
        "}\n",
        "\n",
        "pd.DataFrame(data)"
      ]
    },
    {
      "cell_type": "markdown",
      "metadata": {
        "id": "SHGgcqzvUM9n"
      },
      "source": [
        "### **2.3. Atributos**\n",
        "---\n",
        "\n",
        "\n",
        "Los objetos *Series* y *DataFrame* tienen algunos atributos a los que se puede acceder con el símbolo **`.`**. Algunos de estos son heredados de sus objetos internos de *NumPy*. A continuación se muestran algunos de ellos:"
      ]
    },
    {
      "cell_type": "code",
      "execution_count": 36,
      "metadata": {
        "id": "vbq_vGlOUszi"
      },
      "outputs": [],
      "source": [
        "s  = pd.Series(np.random.randn(10),\n",
        "               name = 'mi serie'\n",
        "               )\n",
        "\n",
        "df = pd.DataFrame(np.eye(6,3),\n",
        "                  index = list('abcdef'),\n",
        "                  columns = list('XYZ')\n",
        "                  )"
      ]
    },
    {
      "cell_type": "code",
      "execution_count": 37,
      "metadata": {
        "id": "RG8ziANaVqHs"
      },
      "outputs": [
        {
          "data": {
            "text/plain": [
              "0   -1.595307\n",
              "1    0.954081\n",
              "2    1.457864\n",
              "3    0.585011\n",
              "4   -2.263215\n",
              "5   -0.707154\n",
              "6   -0.268692\n",
              "7    2.989034\n",
              "8   -0.772840\n",
              "9    0.057468\n",
              "Name: mi serie, dtype: float64"
            ]
          },
          "execution_count": 37,
          "metadata": {},
          "output_type": "execute_result"
        }
      ],
      "source": [
        "s"
      ]
    },
    {
      "cell_type": "code",
      "execution_count": 38,
      "metadata": {
        "id": "mbmfmmQ1Vrwx"
      },
      "outputs": [
        {
          "data": {
            "text/html": [
              "<div>\n",
              "<style scoped>\n",
              "    .dataframe tbody tr th:only-of-type {\n",
              "        vertical-align: middle;\n",
              "    }\n",
              "\n",
              "    .dataframe tbody tr th {\n",
              "        vertical-align: top;\n",
              "    }\n",
              "\n",
              "    .dataframe thead th {\n",
              "        text-align: right;\n",
              "    }\n",
              "</style>\n",
              "<table border=\"1\" class=\"dataframe\">\n",
              "  <thead>\n",
              "    <tr style=\"text-align: right;\">\n",
              "      <th></th>\n",
              "      <th>X</th>\n",
              "      <th>Y</th>\n",
              "      <th>Z</th>\n",
              "    </tr>\n",
              "  </thead>\n",
              "  <tbody>\n",
              "    <tr>\n",
              "      <th>a</th>\n",
              "      <td>1.0</td>\n",
              "      <td>0.0</td>\n",
              "      <td>0.0</td>\n",
              "    </tr>\n",
              "    <tr>\n",
              "      <th>b</th>\n",
              "      <td>0.0</td>\n",
              "      <td>1.0</td>\n",
              "      <td>0.0</td>\n",
              "    </tr>\n",
              "    <tr>\n",
              "      <th>c</th>\n",
              "      <td>0.0</td>\n",
              "      <td>0.0</td>\n",
              "      <td>1.0</td>\n",
              "    </tr>\n",
              "    <tr>\n",
              "      <th>d</th>\n",
              "      <td>0.0</td>\n",
              "      <td>0.0</td>\n",
              "      <td>0.0</td>\n",
              "    </tr>\n",
              "    <tr>\n",
              "      <th>e</th>\n",
              "      <td>0.0</td>\n",
              "      <td>0.0</td>\n",
              "      <td>0.0</td>\n",
              "    </tr>\n",
              "    <tr>\n",
              "      <th>f</th>\n",
              "      <td>0.0</td>\n",
              "      <td>0.0</td>\n",
              "      <td>0.0</td>\n",
              "    </tr>\n",
              "  </tbody>\n",
              "</table>\n",
              "</div>"
            ],
            "text/plain": [
              "     X    Y    Z\n",
              "a  1.0  0.0  0.0\n",
              "b  0.0  1.0  0.0\n",
              "c  0.0  0.0  1.0\n",
              "d  0.0  0.0  0.0\n",
              "e  0.0  0.0  0.0\n",
              "f  0.0  0.0  0.0"
            ]
          },
          "execution_count": 38,
          "metadata": {},
          "output_type": "execute_result"
        }
      ],
      "source": [
        "df"
      ]
    },
    {
      "cell_type": "markdown",
      "metadata": {
        "id": "gXo69cBhU5CC"
      },
      "source": [
        "* **`values:`** El arreglo de *NumPy* con el contenido del objeto."
      ]
    },
    {
      "cell_type": "code",
      "execution_count": 39,
      "metadata": {
        "id": "RXmgsRdhVKr8"
      },
      "outputs": [
        {
          "data": {
            "text/plain": [
              "array([-1.59530696,  0.9540808 ,  1.45786359,  0.58501071, -2.26321524,\n",
              "       -0.70715382, -0.26869197,  2.98903351, -0.77284014,  0.0574678 ])"
            ]
          },
          "execution_count": 39,
          "metadata": {},
          "output_type": "execute_result"
        }
      ],
      "source": [
        "s.values"
      ]
    },
    {
      "cell_type": "code",
      "execution_count": 40,
      "metadata": {
        "id": "uwwVwCYxVLzv"
      },
      "outputs": [
        {
          "data": {
            "text/plain": [
              "array([[1., 0., 0.],\n",
              "       [0., 1., 0.],\n",
              "       [0., 0., 1.],\n",
              "       [0., 0., 0.],\n",
              "       [0., 0., 0.],\n",
              "       [0., 0., 0.]])"
            ]
          },
          "execution_count": 40,
          "metadata": {},
          "output_type": "execute_result"
        }
      ],
      "source": [
        "df.values"
      ]
    },
    {
      "cell_type": "markdown",
      "metadata": {
        "id": "fMJK7GqdU8XD"
      },
      "source": [
        "* **`index`**: El objeto de tipo **`pd.Index`** con el índice de la serie, o el índice de las filas del *DataFrame*."
      ]
    },
    {
      "cell_type": "code",
      "execution_count": 41,
      "metadata": {
        "id": "8x4ORcXsVcsh"
      },
      "outputs": [
        {
          "data": {
            "text/plain": [
              "RangeIndex(start=0, stop=10, step=1)"
            ]
          },
          "execution_count": 41,
          "metadata": {},
          "output_type": "execute_result"
        }
      ],
      "source": [
        "s.index"
      ]
    },
    {
      "cell_type": "code",
      "execution_count": 42,
      "metadata": {
        "id": "tUJ4SXPyVfjD"
      },
      "outputs": [
        {
          "data": {
            "text/plain": [
              "Index(['a', 'b', 'c', 'd', 'e', 'f'], dtype='object')"
            ]
          },
          "execution_count": 42,
          "metadata": {},
          "output_type": "execute_result"
        }
      ],
      "source": [
        "df.index"
      ]
    },
    {
      "cell_type": "markdown",
      "metadata": {
        "id": "8qVZLZssU8dO"
      },
      "source": [
        "* **`columns` (solo *DataFrame*)**: El objeto de tipo **`pd.Index`** con el índice de las columnas del *DataFrame*."
      ]
    },
    {
      "cell_type": "code",
      "execution_count": 43,
      "metadata": {
        "id": "D193uAzmWP9-"
      },
      "outputs": [
        {
          "data": {
            "text/plain": [
              "Index(['X', 'Y', 'Z'], dtype='object')"
            ]
          },
          "execution_count": 43,
          "metadata": {},
          "output_type": "execute_result"
        }
      ],
      "source": [
        "df.columns"
      ]
    },
    {
      "cell_type": "markdown",
      "metadata": {
        "id": "dPuk_xipWyuv"
      },
      "source": [
        "* **`name` (solo *Series*)**: Cadena de texto con el nombre que recibe la serie."
      ]
    },
    {
      "cell_type": "code",
      "execution_count": 44,
      "metadata": {
        "id": "PZ_iPvKLWyuw"
      },
      "outputs": [
        {
          "data": {
            "text/plain": [
              "'mi serie'"
            ]
          },
          "execution_count": 44,
          "metadata": {},
          "output_type": "execute_result"
        }
      ],
      "source": [
        "s.name"
      ]
    },
    {
      "cell_type": "markdown",
      "metadata": {
        "id": "7YCMxGxLXEZz"
      },
      "source": [
        "Cada fila y cada columna en un *DataFrame* son objetos *Series*. El indexado en *pandas* se verá en detalle en el próximo material. Ahora mismo, para algunas de las funcionalidades presentadas puede ser útil dar un vistazo a la indexación básica de columnas de *pandas*. Esta se realiza como el indexado de diccionarios de *Python*, de la siguiente forma:"
      ]
    },
    {
      "cell_type": "code",
      "execution_count": 45,
      "metadata": {
        "id": "dJCgrtsbXgpt"
      },
      "outputs": [
        {
          "data": {
            "text/plain": [
              "a    1.0\n",
              "b    0.0\n",
              "c    0.0\n",
              "d    0.0\n",
              "e    0.0\n",
              "f    0.0\n",
              "Name: X, dtype: float64"
            ]
          },
          "execution_count": 45,
          "metadata": {},
          "output_type": "execute_result"
        }
      ],
      "source": [
        "df['X'] # Esto retorna la serie correspondiente a la columna X del DataFrame."
      ]
    },
    {
      "cell_type": "code",
      "execution_count": 46,
      "metadata": {
        "id": "7MkT5zzgXD58"
      },
      "outputs": [
        {
          "data": {
            "text/plain": [
              "pandas.core.series.Series"
            ]
          },
          "execution_count": 46,
          "metadata": {},
          "output_type": "execute_result"
        }
      ],
      "source": [
        "type(df['X']) # Una única columna es de tipo Series."
      ]
    },
    {
      "cell_type": "markdown",
      "metadata": {
        "id": "8M1l3Xs4WbxO"
      },
      "source": [
        "#### **2.3.1. Atributos heredados de *NumPy***\n",
        "---"
      ]
    },
    {
      "cell_type": "markdown",
      "metadata": {
        "id": "3Uc7CJaJXKWX"
      },
      "source": [
        "* **`size`**: Tamaño (número de elementos) del arreglo de *NumPy* del contenido del objeto."
      ]
    },
    {
      "cell_type": "code",
      "execution_count": 47,
      "metadata": {
        "id": "b1l0jpvQXKWc"
      },
      "outputs": [
        {
          "data": {
            "text/plain": [
              "10"
            ]
          },
          "execution_count": 47,
          "metadata": {},
          "output_type": "execute_result"
        }
      ],
      "source": [
        "s.size"
      ]
    },
    {
      "cell_type": "code",
      "execution_count": 48,
      "metadata": {
        "id": "oWp0lEGtXRai"
      },
      "outputs": [
        {
          "data": {
            "text/plain": [
              "18"
            ]
          },
          "execution_count": 48,
          "metadata": {},
          "output_type": "execute_result"
        }
      ],
      "source": [
        "df.size"
      ]
    },
    {
      "cell_type": "markdown",
      "metadata": {
        "id": "h07syyaEXWBi"
      },
      "source": [
        "* **`shape`**: Tupla con el tamaño de las dimensiones del arreglo de *NumPy* del contenido del objeto."
      ]
    },
    {
      "cell_type": "code",
      "execution_count": 49,
      "metadata": {
        "id": "8Vqr4CBIXWBl"
      },
      "outputs": [
        {
          "data": {
            "text/plain": [
              "(10,)"
            ]
          },
          "execution_count": 49,
          "metadata": {},
          "output_type": "execute_result"
        }
      ],
      "source": [
        "s.shape"
      ]
    },
    {
      "cell_type": "code",
      "execution_count": 50,
      "metadata": {
        "id": "aEMgz_GvXWB0"
      },
      "outputs": [
        {
          "data": {
            "text/plain": [
              "(6, 3)"
            ]
          },
          "execution_count": 50,
          "metadata": {},
          "output_type": "execute_result"
        }
      ],
      "source": [
        "df.shape"
      ]
    },
    {
      "cell_type": "markdown",
      "metadata": {
        "id": "de8Ov0EJXeU9"
      },
      "source": [
        "* **`dtype | dtypes`**: Tipo del arreglo que representa el contenido del objeto. En DataFrames se usa el atributo **`dtypes`**, que retorna una serie con el tipo de dato de cada columna."
      ]
    },
    {
      "cell_type": "code",
      "execution_count": 51,
      "metadata": {
        "id": "s7iwII75XeU-"
      },
      "outputs": [
        {
          "data": {
            "text/plain": [
              "dtype('float64')"
            ]
          },
          "execution_count": 51,
          "metadata": {},
          "output_type": "execute_result"
        }
      ],
      "source": [
        "s.dtype"
      ]
    },
    {
      "cell_type": "code",
      "execution_count": 52,
      "metadata": {
        "id": "pHhd7XUZXeVA"
      },
      "outputs": [
        {
          "data": {
            "text/plain": [
              "X    float64\n",
              "Y    float64\n",
              "Z    float64\n",
              "dtype: object"
            ]
          },
          "execution_count": 52,
          "metadata": {},
          "output_type": "execute_result"
        }
      ],
      "source": [
        "df.dtypes"
      ]
    },
    {
      "cell_type": "markdown",
      "metadata": {
        "id": "-aevK_YgaY9f"
      },
      "source": [
        "* **`ndim`**: Retorna el número de dimensiones. Por definición siempre va a retornar $1$ si se llama en *Series* y $2$ si se llama en *DataFrame*. En el caso de arreglos n-dimensionales en *NumPy* es muy útil."
      ]
    },
    {
      "cell_type": "code",
      "execution_count": 53,
      "metadata": {
        "id": "T3aAtoHnaY9g"
      },
      "outputs": [
        {
          "data": {
            "text/plain": [
              "1"
            ]
          },
          "execution_count": 53,
          "metadata": {},
          "output_type": "execute_result"
        }
      ],
      "source": [
        "s.ndim"
      ]
    },
    {
      "cell_type": "code",
      "execution_count": 54,
      "metadata": {
        "id": "b4ZvSzVDaY9j"
      },
      "outputs": [
        {
          "data": {
            "text/plain": [
              "2"
            ]
          },
          "execution_count": 54,
          "metadata": {},
          "output_type": "execute_result"
        }
      ],
      "source": [
        "df.ndim"
      ]
    },
    {
      "cell_type": "markdown",
      "metadata": {
        "id": "ivSHxh27avYi"
      },
      "source": [
        "* **`T`**: Retorna el *DataFrame* transpuesto. Las filas se convierten en columnas y las columnas en filas. En las *Series*, retorna el mismo objeto. El objeto transpuesto de un *DataFrame* puede ser usado como cualquier objeto *DataFrame*, añadiendo flexibilidad en el tratamiento de los datos."
      ]
    },
    {
      "cell_type": "code",
      "execution_count": 55,
      "metadata": {
        "id": "YOeG2gy5avYn"
      },
      "outputs": [
        {
          "data": {
            "text/plain": [
              "0   -1.595307\n",
              "1    0.954081\n",
              "2    1.457864\n",
              "3    0.585011\n",
              "4   -2.263215\n",
              "5   -0.707154\n",
              "6   -0.268692\n",
              "7    2.989034\n",
              "8   -0.772840\n",
              "9    0.057468\n",
              "Name: mi serie, dtype: float64"
            ]
          },
          "execution_count": 55,
          "metadata": {},
          "output_type": "execute_result"
        }
      ],
      "source": [
        "s.T"
      ]
    },
    {
      "cell_type": "code",
      "execution_count": 56,
      "metadata": {
        "id": "edHMo-_favYw"
      },
      "outputs": [
        {
          "data": {
            "text/html": [
              "<div>\n",
              "<style scoped>\n",
              "    .dataframe tbody tr th:only-of-type {\n",
              "        vertical-align: middle;\n",
              "    }\n",
              "\n",
              "    .dataframe tbody tr th {\n",
              "        vertical-align: top;\n",
              "    }\n",
              "\n",
              "    .dataframe thead th {\n",
              "        text-align: right;\n",
              "    }\n",
              "</style>\n",
              "<table border=\"1\" class=\"dataframe\">\n",
              "  <thead>\n",
              "    <tr style=\"text-align: right;\">\n",
              "      <th></th>\n",
              "      <th>a</th>\n",
              "      <th>b</th>\n",
              "      <th>c</th>\n",
              "      <th>d</th>\n",
              "      <th>e</th>\n",
              "      <th>f</th>\n",
              "    </tr>\n",
              "  </thead>\n",
              "  <tbody>\n",
              "    <tr>\n",
              "      <th>X</th>\n",
              "      <td>1.0</td>\n",
              "      <td>0.0</td>\n",
              "      <td>0.0</td>\n",
              "      <td>0.0</td>\n",
              "      <td>0.0</td>\n",
              "      <td>0.0</td>\n",
              "    </tr>\n",
              "    <tr>\n",
              "      <th>Y</th>\n",
              "      <td>0.0</td>\n",
              "      <td>1.0</td>\n",
              "      <td>0.0</td>\n",
              "      <td>0.0</td>\n",
              "      <td>0.0</td>\n",
              "      <td>0.0</td>\n",
              "    </tr>\n",
              "    <tr>\n",
              "      <th>Z</th>\n",
              "      <td>0.0</td>\n",
              "      <td>0.0</td>\n",
              "      <td>1.0</td>\n",
              "      <td>0.0</td>\n",
              "      <td>0.0</td>\n",
              "      <td>0.0</td>\n",
              "    </tr>\n",
              "  </tbody>\n",
              "</table>\n",
              "</div>"
            ],
            "text/plain": [
              "     a    b    c    d    e    f\n",
              "X  1.0  0.0  0.0  0.0  0.0  0.0\n",
              "Y  0.0  1.0  0.0  0.0  0.0  0.0\n",
              "Z  0.0  0.0  1.0  0.0  0.0  0.0"
            ]
          },
          "execution_count": 56,
          "metadata": {},
          "output_type": "execute_result"
        }
      ],
      "source": [
        "df.T"
      ]
    },
    {
      "cell_type": "code",
      "execution_count": 57,
      "metadata": {
        "id": "QCSb08nBc2ra"
      },
      "outputs": [
        {
          "data": {
            "text/plain": [
              "Index(['X', 'Y', 'Z'], dtype='object')"
            ]
          },
          "execution_count": 57,
          "metadata": {},
          "output_type": "execute_result"
        }
      ],
      "source": [
        "df.T.index #El índice de la tabla transpuesta es el índice de las columnas."
      ]
    },
    {
      "cell_type": "markdown",
      "metadata": {
        "id": "K3EY-ofITsDE"
      },
      "source": [
        "## **3. Importar y exportar datos**\n",
        "---\n",
        "*Pandas* permite generar y cargar distintos orígenes de datos para su procesamiento o almacenamiento. Uno de los primeros pasos en un proceso de análisis de datos es la adquisición e integración de dichos datos para su posterior procesamiento."
      ]
    },
    {
      "cell_type": "markdown",
      "metadata": {
        "id": "x6NU5aH2l85n"
      },
      "source": [
        "### **3.1. Exportar datos**\n",
        "---\n",
        "\n",
        "En esta guía empezaremos por el proceso de exportación de datos por conveniencia, ya que usaremos los datos generados para explicar el cómo importarlos posteriormente.\n",
        "\n",
        "Los objetos *Series* y *DataFrame* tienen métodos de conveniencia para generar como salida archivos de varios formatos importantes. Estos métodos tienen la estructura **`.to_<>`**, en donde **`<>`** corresponde al nombre del formato deseado. A continuación se presentan los más importantes. Se recomienda consultar la [documentación oficial](https://pandas.pydata.org/docs/user_guide/io.html#io-store-in-csv) si necesita un formato en particular.\n",
        "\n",
        "La mayoría de los métodos expuestos, salvo algunas excepciones, funcionan tanto para *DataFrame* como para *Series*. En este tutorial se enseñarán ejemplos del funcionamiento con *DataFrame*, dado que es el escenario más común en el manejo de tablas externas."
      ]
    },
    {
      "cell_type": "code",
      "execution_count": 58,
      "metadata": {
        "id": "BoGP8PcgvBx5"
      },
      "outputs": [
        {
          "data": {
            "text/html": [
              "<div>\n",
              "<style scoped>\n",
              "    .dataframe tbody tr th:only-of-type {\n",
              "        vertical-align: middle;\n",
              "    }\n",
              "\n",
              "    .dataframe tbody tr th {\n",
              "        vertical-align: top;\n",
              "    }\n",
              "\n",
              "    .dataframe thead th {\n",
              "        text-align: right;\n",
              "    }\n",
              "</style>\n",
              "<table border=\"1\" class=\"dataframe\">\n",
              "  <thead>\n",
              "    <tr style=\"text-align: right;\">\n",
              "      <th></th>\n",
              "      <th>x</th>\n",
              "      <th>y</th>\n",
              "      <th>z</th>\n",
              "    </tr>\n",
              "  </thead>\n",
              "  <tbody>\n",
              "    <tr>\n",
              "      <th>a</th>\n",
              "      <td>64</td>\n",
              "      <td>41</td>\n",
              "      <td>28</td>\n",
              "    </tr>\n",
              "    <tr>\n",
              "      <th>b</th>\n",
              "      <td>61</td>\n",
              "      <td>95</td>\n",
              "      <td>92</td>\n",
              "    </tr>\n",
              "    <tr>\n",
              "      <th>c</th>\n",
              "      <td>49</td>\n",
              "      <td>62</td>\n",
              "      <td>63</td>\n",
              "    </tr>\n",
              "    <tr>\n",
              "      <th>d</th>\n",
              "      <td>73</td>\n",
              "      <td>18</td>\n",
              "      <td>12</td>\n",
              "    </tr>\n",
              "  </tbody>\n",
              "</table>\n",
              "</div>"
            ],
            "text/plain": [
              "    x   y   z\n",
              "a  64  41  28\n",
              "b  61  95  92\n",
              "c  49  62  63\n",
              "d  73  18  12"
            ]
          },
          "execution_count": 58,
          "metadata": {},
          "output_type": "execute_result"
        }
      ],
      "source": [
        "#Este ejemplo será usado en el resto de explicaciones.\n",
        "\n",
        "index = list('abcd')\n",
        "columns = list('xyz')\n",
        "\n",
        "data = np.random.randint(10, 99, (4,3))\n",
        "df = pd.DataFrame(data, index = index, columns = columns)\n",
        "\n",
        "df"
      ]
    },
    {
      "cell_type": "markdown",
      "metadata": {
        "id": "XzZRqp5SoU3B"
      },
      "source": [
        "####  **3.1.1. CSV | `.to_csv`**\n",
        "---\n",
        "Del inglés *Comma-separated values*, *csv* es uno de los formatos de archivos de texto más comunes para el almacenamiento de datos tabulares. Como su nombre lo indica, los elementos son almacenados celda a celda separados por comas (u otros delimitadores, si así se desea) y separando las filas con saltos de líneas. Este método acepta muchos argumentos, que permiten personalizar un formato particular. Estos permiten definir, entre otras cosas:\n",
        "\n",
        "  * El nombre y extensión del archivo generado. (**`path`**)\n",
        "  * Un delimitador distinto a la coma. (**`sep`**)\n",
        "  * La representación para datos faltantes. (**`na_rep`**)\n",
        "  * El formato de los decimales. (**`float_format`**)\n",
        "  * El formato de las fechas. (**`date_format`**)\n",
        "  * Imprimir o no el encabezado y el nombre del indice. (**`header`** | **`index`**)\n",
        "  * Filas y columnas a escribir. (**`columns`** | **`chunksize`**)\n",
        "\n",
        "Lo invitamos a consultar la [especificación](https://pandas.pydata.org/pandas-docs/stable/reference/api/pandas.DataFrame.to_csv.html) de la función en la documentación oficial para más detalles sobre cómo usar estos argumentos.\n",
        "\n",
        "Todos los argumentos son opcionales, y en caso de faltar *pandas* define un comportamiento por defecto con el formato más común y el recomendado en la mayoría de los casos.\n"
      ]
    },
    {
      "cell_type": "code",
      "execution_count": 59,
      "metadata": {
        "id": "MIi9jpSDvVmj"
      },
      "outputs": [
        {
          "data": {
            "text/plain": [
              "',x,y,z\\r\\na,64,41,28\\r\\nb,61,95,92\\r\\nc,49,62,63\\r\\nd,73,18,12\\r\\n'"
            ]
          },
          "execution_count": 59,
          "metadata": {},
          "output_type": "execute_result"
        }
      ],
      "source": [
        "#Si no se define una ruta, se escribe en una cadena de texto.\n",
        "df.to_csv()"
      ]
    },
    {
      "cell_type": "code",
      "execution_count": 60,
      "metadata": {
        "id": "96_cvsrOvc80"
      },
      "outputs": [],
      "source": [
        "#La extensión no tiene que ser csv (aunque se recomienda)\n",
        "df.to_csv('df_to_csv.txt')"
      ]
    },
    {
      "cell_type": "code",
      "execution_count": 61,
      "metadata": {
        "id": "P4P6ddgBvjWw"
      },
      "outputs": [
        {
          "name": "stderr",
          "output_type": "stream",
          "text": [
            "'ls' is not recognized as an internal or external command,\n",
            "operable program or batch file.\n"
          ]
        }
      ],
      "source": [
        "#Se muestran los archivos en el directorio actual con el comando del sistema \"ls\".\n",
        "!ls"
      ]
    },
    {
      "cell_type": "code",
      "execution_count": 62,
      "metadata": {
        "id": "VxRni1x5vqYI"
      },
      "outputs": [
        {
          "name": "stderr",
          "output_type": "stream",
          "text": [
            "'cat' is not recognized as an internal or external command,\n",
            "operable program or batch file.\n"
          ]
        }
      ],
      "source": [
        "#Miramos el contenido del archivo generado con el comando del sistema \"cat\".\n",
        "!cat df_to_csv.txt"
      ]
    },
    {
      "cell_type": "markdown",
      "metadata": {
        "id": "P5TKZZbZwps7"
      },
      "source": [
        "####  **3.1.2. Hojas de cálculo | `.to_excel`**\n",
        "---\n",
        "Otro de los formatos más comunes es el formato del software *Microsoft Office Excel* (o su alternativa abierta *LibreOffice* con documentos en formato .*odf*), que permite disponer de datos tabulares en hojas de cálculo. Existen muchos datos almacenados en este formato, y suele ser requisito del proceso utilizarlo. *Pandas* permite generar y cargar archivos en este formato, ofreciendo opciones de personalización específicas. Algunas de estas son:\n",
        "\n",
        "  * El nombre y extensión del archivo generado. (**`excel_writer`**)\n",
        "  * El nombre de la hoja de cálculo. (**`sheet_name`**)\n",
        "  * Fila y columna en donde empezar a escribir los datos. (**`startrow`** | **`startcol`**)\n",
        "  *  Combinar celdas de índices múltiples. (**`merge_cells`**)\n",
        "\n",
        "Además, comparte argumentos de detalles de formato con otras funciones, como se mencionó previamente.\n",
        "\n",
        "  Lo invitamos a consultar la [especificación](https://pandas.pydata.org/pandas-docs/stable/reference/api/pandas.DataFrame.to_excel.html) de la función en la documentación oficial para más detalles sobre cómo usar estos argumentos."
      ]
    },
    {
      "cell_type": "code",
      "execution_count": 65,
      "metadata": {
        "id": "lZyAuWjQjwKL"
      },
      "outputs": [
        {
          "name": "stderr",
          "output_type": "stream",
          "text": [
            "C:\\Users\\Daniela\\AppData\\Local\\Temp\\ipykernel_22180\\1052204019.py:1: FutureWarning: Starting with pandas version 3.0 all arguments of to_excel except for the argument 'excel_writer' will be keyword-only.\n",
            "  df.to_excel('df_to_excel.xlsx', 'hoja_ejemplo')\n"
          ]
        }
      ],
      "source": [
        "df.to_excel('df_to_excel.xlsx', 'hoja_ejemplo')"
      ]
    },
    {
      "cell_type": "code",
      "execution_count": 66,
      "metadata": {
        "cellView": "both",
        "id": "f8OAjtc4j-hh"
      },
      "outputs": [
        {
          "ename": "ModuleNotFoundError",
          "evalue": "No module named 'google'",
          "output_type": "error",
          "traceback": [
            "\u001b[1;31m---------------------------------------------------------------------------\u001b[0m",
            "\u001b[1;31mModuleNotFoundError\u001b[0m                       Traceback (most recent call last)",
            "Cell \u001b[1;32mIn[66], line 2\u001b[0m\n\u001b[0;32m      1\u001b[0m \u001b[38;5;66;03m#(SOLO PARA COLAB) Función para descargar el archivo generado.\u001b[39;00m\n\u001b[1;32m----> 2\u001b[0m \u001b[38;5;28;01mfrom\u001b[39;00m \u001b[38;5;21;01mgoogle\u001b[39;00m\u001b[38;5;21;01m.\u001b[39;00m\u001b[38;5;21;01mcolab\u001b[39;00m \u001b[38;5;28;01mimport\u001b[39;00m files\n\u001b[0;32m      3\u001b[0m files\u001b[38;5;241m.\u001b[39mdownload(\u001b[38;5;124m'\u001b[39m\u001b[38;5;124mdf_to_excel.xlsx\u001b[39m\u001b[38;5;124m'\u001b[39m)\n",
            "\u001b[1;31mModuleNotFoundError\u001b[0m: No module named 'google'"
          ]
        }
      ],
      "source": [
        "#(SOLO PARA COLAB) Función para descargar el archivo generado.\n",
        "from google.colab import files\n",
        "files.download('df_to_excel.xlsx')"
      ]
    },
    {
      "cell_type": "markdown",
      "metadata": {
        "id": "2VCkd1xezcZh"
      },
      "source": [
        "También, puede consultar y descargar los archivos que tiene disponibles en el sistema de archivos de *Google Colab* haciendo clic en el icono de directorio que aparece en la parte izquierda de esta ventana."
      ]
    },
    {
      "cell_type": "markdown",
      "metadata": {
        "id": "CgMraioXlar4"
      },
      "source": [
        "####  **3.1.3. JSON | `.to_json`**\n",
        "---\n",
        "Otro formato común es el *.json* (*JavaScript Object Notation*). Este estándar proviene del lenguaje de programación [*JavaScript*](https://developer.mozilla.org/en-US/docs/Web/JavaScript) y es muy similar a la notación usada en los diccionarios de *Python*, pues usa una combinación entre objetos compuestos por parejas de llaves y valores y listas. *JavaScript* es el lenguaje principal en el desarrollo de páginas web. El estándar *JSON* es independiente del lenguaje, y es muy común usarlo para el intercambio de datos.\n",
        "\n",
        "El principal argumento específico de este formato es **`orient`**, que define los detalles del formato de JSON a generar.\n",
        "\n",
        "Al igual que antes, comparte argumentos de detalles de formato con otras funciones.\n",
        "\n",
        "Lo invitamos a consultar la [especificación](https://pandas.pydata.org/pandas-docs/stable/reference/api/pandas.DataFrame.to_json.html) de la función en la documentación oficial para más detalles sobre cómo usar estos argumentos."
      ]
    },
    {
      "cell_type": "code",
      "execution_count": 67,
      "metadata": {
        "id": "TeX6Upt3raAz"
      },
      "outputs": [],
      "source": [
        "#Python tiene soporte para este formato con el módulo json\n",
        "import json\n",
        "\n",
        "def print_json(raw_json):\n",
        "  parsed = json.loads(raw_json)\n",
        "  print(json.dumps(parsed, indent = 2))"
      ]
    },
    {
      "cell_type": "code",
      "execution_count": 68,
      "metadata": {
        "id": "Dcfv9oonpwiM"
      },
      "outputs": [
        {
          "name": "stdout",
          "output_type": "stream",
          "text": [
            "{\n",
            "  \"x\": {\n",
            "    \"a\": 64,\n",
            "    \"b\": 61,\n",
            "    \"c\": 49,\n",
            "    \"d\": 73\n",
            "  },\n",
            "  \"y\": {\n",
            "    \"a\": 41,\n",
            "    \"b\": 95,\n",
            "    \"c\": 62,\n",
            "    \"d\": 18\n",
            "  },\n",
            "  \"z\": {\n",
            "    \"a\": 28,\n",
            "    \"b\": 92,\n",
            "    \"c\": 63,\n",
            "    \"d\": 12\n",
            "  }\n",
            "}\n"
          ]
        }
      ],
      "source": [
        "# columns - Retorna un objeto con las columnas como llave y las filas en forma de objeto.\n",
        "\n",
        "s = df.to_json(orient = 'columns')\n",
        "print_json(s)"
      ]
    },
    {
      "cell_type": "code",
      "execution_count": 69,
      "metadata": {
        "id": "qfuUezc2orSy"
      },
      "outputs": [
        {
          "name": "stdout",
          "output_type": "stream",
          "text": [
            "{\n",
            "  \"columns\": [\n",
            "    \"x\",\n",
            "    \"y\",\n",
            "    \"z\"\n",
            "  ],\n",
            "  \"index\": [\n",
            "    \"a\",\n",
            "    \"b\",\n",
            "    \"c\",\n",
            "    \"d\"\n",
            "  ],\n",
            "  \"data\": [\n",
            "    [\n",
            "      64,\n",
            "      41,\n",
            "      28\n",
            "    ],\n",
            "    [\n",
            "      61,\n",
            "      95,\n",
            "      92\n",
            "    ],\n",
            "    [\n",
            "      49,\n",
            "      62,\n",
            "      63\n",
            "    ],\n",
            "    [\n",
            "      73,\n",
            "      18,\n",
            "      12\n",
            "    ]\n",
            "  ]\n",
            "}\n"
          ]
        }
      ],
      "source": [
        "# split - Retorna las columnas, índice y valores por separado\n",
        "\n",
        "s = df.to_json(orient = 'split')\n",
        "print_json(s)"
      ]
    },
    {
      "cell_type": "code",
      "execution_count": 70,
      "metadata": {
        "id": "aaVirdFBoysG"
      },
      "outputs": [
        {
          "name": "stdout",
          "output_type": "stream",
          "text": [
            "[\n",
            "  {\n",
            "    \"x\": 64,\n",
            "    \"y\": 41,\n",
            "    \"z\": 28\n",
            "  },\n",
            "  {\n",
            "    \"x\": 61,\n",
            "    \"y\": 95,\n",
            "    \"z\": 92\n",
            "  },\n",
            "  {\n",
            "    \"x\": 49,\n",
            "    \"y\": 62,\n",
            "    \"z\": 63\n",
            "  },\n",
            "  {\n",
            "    \"x\": 73,\n",
            "    \"y\": 18,\n",
            "    \"z\": 12\n",
            "  }\n",
            "]\n"
          ]
        }
      ],
      "source": [
        "# records - Retorna una lista de los registros (filas) en forma de objeto\n",
        "\n",
        "s = df.to_json(orient = 'records')\n",
        "print_json(s)"
      ]
    },
    {
      "cell_type": "code",
      "execution_count": 71,
      "metadata": {
        "id": "lbnE1nPIqe7q"
      },
      "outputs": [
        {
          "name": "stdout",
          "output_type": "stream",
          "text": [
            "{\n",
            "  \"a\": {\n",
            "    \"x\": 64,\n",
            "    \"y\": 41,\n",
            "    \"z\": 28\n",
            "  },\n",
            "  \"b\": {\n",
            "    \"x\": 61,\n",
            "    \"y\": 95,\n",
            "    \"z\": 92\n",
            "  },\n",
            "  \"c\": {\n",
            "    \"x\": 49,\n",
            "    \"y\": 62,\n",
            "    \"z\": 63\n",
            "  },\n",
            "  \"d\": {\n",
            "    \"x\": 73,\n",
            "    \"y\": 18,\n",
            "    \"z\": 12\n",
            "  }\n",
            "}\n"
          ]
        }
      ],
      "source": [
        "# index - Retorna un objeto con los índices como llave y las columnas en forma de objeto.\n",
        "\n",
        "s = df.to_json(orient = 'index')\n",
        "print_json(s)"
      ]
    },
    {
      "cell_type": "code",
      "execution_count": 72,
      "metadata": {
        "id": "uO2qBLBSqwue"
      },
      "outputs": [
        {
          "name": "stdout",
          "output_type": "stream",
          "text": [
            "[[64,41,28],[61,95,92],[49,62,63],[73,18,12]]\n"
          ]
        }
      ],
      "source": [
        "# values - Retorna únicamente el arreglo de valores.\n",
        "\n",
        "s = df.to_json(orient = 'values')\n",
        "print(s)"
      ]
    },
    {
      "cell_type": "code",
      "execution_count": 73,
      "metadata": {
        "id": "Ycg2toP3q9M-"
      },
      "outputs": [
        {
          "name": "stdout",
          "output_type": "stream",
          "text": [
            "{\n",
            "  \"schema\": {\n",
            "    \"fields\": [\n",
            "      {\n",
            "        \"name\": \"index\",\n",
            "        \"type\": \"string\"\n",
            "      },\n",
            "      {\n",
            "        \"name\": \"x\",\n",
            "        \"type\": \"integer\"\n",
            "      },\n",
            "      {\n",
            "        \"name\": \"y\",\n",
            "        \"type\": \"integer\"\n",
            "      },\n",
            "      {\n",
            "        \"name\": \"z\",\n",
            "        \"type\": \"integer\"\n",
            "      }\n",
            "    ],\n",
            "    \"primaryKey\": [\n",
            "      \"index\"\n",
            "    ],\n",
            "    \"pandas_version\": \"1.4.0\"\n",
            "  },\n",
            "  \"data\": [\n",
            "    {\n",
            "      \"index\": \"a\",\n",
            "      \"x\": 64,\n",
            "      \"y\": 41,\n",
            "      \"z\": 28\n",
            "    },\n",
            "    {\n",
            "      \"index\": \"b\",\n",
            "      \"x\": 61,\n",
            "      \"y\": 95,\n",
            "      \"z\": 92\n",
            "    },\n",
            "    {\n",
            "      \"index\": \"c\",\n",
            "      \"x\": 49,\n",
            "      \"y\": 62,\n",
            "      \"z\": 63\n",
            "    },\n",
            "    {\n",
            "      \"index\": \"d\",\n",
            "      \"x\": 73,\n",
            "      \"y\": 18,\n",
            "      \"z\": 12\n",
            "    }\n",
            "  ]\n",
            "}\n"
          ]
        }
      ],
      "source": [
        "# table - Formato de tabla con datos descriptivos de su estructura.\n",
        "\n",
        "s = df.to_json(orient = 'table')\n",
        "print_json(s)"
      ]
    },
    {
      "cell_type": "code",
      "execution_count": 74,
      "metadata": {
        "id": "jdsxtL5Wq8D5"
      },
      "outputs": [],
      "source": [
        "df.to_json('df_to_json.json') # El orient por defecto es \"columns\""
      ]
    },
    {
      "cell_type": "code",
      "execution_count": null,
      "metadata": {
        "id": "39x_mfURpumd"
      },
      "outputs": [],
      "source": [
        "!cat df_to_json.json"
      ]
    },
    {
      "cell_type": "markdown",
      "metadata": {
        "id": "PqqOM7R6tgAQ"
      },
      "source": [
        "####  **3.1.4. HTML | `.to_html`**\n",
        "---\n",
        "*Pandas* también permite generar tablas **HTML** (*Hyper Text Markup Language*), el formato usado en páginas web, perfecto para presentar los resultados de un análisis o exponer un conjunto de datos.\n",
        "Este formato tiene muchas opciones de personalización definidas en sus argumentos, que corresponden principalmente al estilo generado, además de los argumentos de detalles de formato comunes.\n",
        "\n",
        "Lo invitamos a consultar la [especificación](https://pandas.pydata.org/pandas-docs/stable/reference/api/pandas.DataFrame.to_html.html) de la función en la documentación oficial para más detalles sobre cómo usar estos argumentos."
      ]
    },
    {
      "cell_type": "code",
      "execution_count": 75,
      "metadata": {
        "id": "9JxS1QCsv1kM"
      },
      "outputs": [],
      "source": [
        "import IPython\n",
        "\n",
        "#Función para renderizar HTML en el notebook.\n",
        "\n",
        "def print_HTML(str):\n",
        "  display(IPython.display.HTML(df.to_html()))"
      ]
    },
    {
      "cell_type": "code",
      "execution_count": 76,
      "metadata": {
        "id": "p9Wcmam9vsRb"
      },
      "outputs": [
        {
          "data": {
            "text/html": [
              "<table border=\"1\" class=\"dataframe\">\n",
              "  <thead>\n",
              "    <tr style=\"text-align: right;\">\n",
              "      <th></th>\n",
              "      <th>x</th>\n",
              "      <th>y</th>\n",
              "      <th>z</th>\n",
              "    </tr>\n",
              "  </thead>\n",
              "  <tbody>\n",
              "    <tr>\n",
              "      <th>a</th>\n",
              "      <td>64</td>\n",
              "      <td>41</td>\n",
              "      <td>28</td>\n",
              "    </tr>\n",
              "    <tr>\n",
              "      <th>b</th>\n",
              "      <td>61</td>\n",
              "      <td>95</td>\n",
              "      <td>92</td>\n",
              "    </tr>\n",
              "    <tr>\n",
              "      <th>c</th>\n",
              "      <td>49</td>\n",
              "      <td>62</td>\n",
              "      <td>63</td>\n",
              "    </tr>\n",
              "    <tr>\n",
              "      <th>d</th>\n",
              "      <td>73</td>\n",
              "      <td>18</td>\n",
              "      <td>12</td>\n",
              "    </tr>\n",
              "  </tbody>\n",
              "</table>"
            ],
            "text/plain": [
              "<IPython.core.display.HTML object>"
            ]
          },
          "metadata": {},
          "output_type": "display_data"
        }
      ],
      "source": [
        "s = df.to_html('df_to_html.html')\n",
        "\n",
        "print_HTML(s)"
      ]
    },
    {
      "cell_type": "markdown",
      "metadata": {
        "id": "1lBw6iiZw3zk"
      },
      "source": [
        "####  **3.1.5. LaTeX | `.to_latex`**\n",
        "---\n",
        "En algunas ocasiones, se puede requerir de formatos más específicos que no sean usados posteriormente en otras aplicaciones. Es el caso de *LaTeX*, estándar para la generación de documentos científicos, con notación especial para ecuaciones y personalización de formatos. *Pandas* también permite generar tablas en este formato, listas para añadirse al código fuente del documento para su renderizado.\n",
        "Este método tiene también múltiples opciones de personalización específicas del formato por medio de argumentos.\n",
        "\n",
        "Lo invitamos a consultar la [especificación](https://pandas.pydata.org/pandas-docs/stable/reference/api/pandas.DataFrame.to_latex.html) de la función en la documentación oficial para más detalles sobre cómo usar estos argumentos."
      ]
    },
    {
      "cell_type": "code",
      "execution_count": 77,
      "metadata": {
        "id": "XchRPwhzwfcU"
      },
      "outputs": [
        {
          "ename": "ImportError",
          "evalue": "Missing optional dependency 'Jinja2'. DataFrame.style requires jinja2. Use pip or conda to install Jinja2.",
          "output_type": "error",
          "traceback": [
            "\u001b[1;31m---------------------------------------------------------------------------\u001b[0m",
            "\u001b[1;31mModuleNotFoundError\u001b[0m                       Traceback (most recent call last)",
            "File \u001b[1;32mc:\\Users\\Daniela\\AppData\\Local\\Programs\\Python\\Python312\\Lib\\site-packages\\pandas\\compat\\_optional.py:135\u001b[0m, in \u001b[0;36mimport_optional_dependency\u001b[1;34m(name, extra, errors, min_version)\u001b[0m\n\u001b[0;32m    134\u001b[0m \u001b[38;5;28;01mtry\u001b[39;00m:\n\u001b[1;32m--> 135\u001b[0m     module \u001b[38;5;241m=\u001b[39m \u001b[43mimportlib\u001b[49m\u001b[38;5;241;43m.\u001b[39;49m\u001b[43mimport_module\u001b[49m\u001b[43m(\u001b[49m\u001b[43mname\u001b[49m\u001b[43m)\u001b[49m\n\u001b[0;32m    136\u001b[0m \u001b[38;5;28;01mexcept\u001b[39;00m \u001b[38;5;167;01mImportError\u001b[39;00m:\n",
            "File \u001b[1;32mc:\\Users\\Daniela\\AppData\\Local\\Programs\\Python\\Python312\\Lib\\importlib\\__init__.py:90\u001b[0m, in \u001b[0;36mimport_module\u001b[1;34m(name, package)\u001b[0m\n\u001b[0;32m     89\u001b[0m         level \u001b[38;5;241m+\u001b[39m\u001b[38;5;241m=\u001b[39m \u001b[38;5;241m1\u001b[39m\n\u001b[1;32m---> 90\u001b[0m \u001b[38;5;28;01mreturn\u001b[39;00m \u001b[43m_bootstrap\u001b[49m\u001b[38;5;241;43m.\u001b[39;49m\u001b[43m_gcd_import\u001b[49m\u001b[43m(\u001b[49m\u001b[43mname\u001b[49m\u001b[43m[\u001b[49m\u001b[43mlevel\u001b[49m\u001b[43m:\u001b[49m\u001b[43m]\u001b[49m\u001b[43m,\u001b[49m\u001b[43m \u001b[49m\u001b[43mpackage\u001b[49m\u001b[43m,\u001b[49m\u001b[43m \u001b[49m\u001b[43mlevel\u001b[49m\u001b[43m)\u001b[49m\n",
            "File \u001b[1;32m<frozen importlib._bootstrap>:1387\u001b[0m, in \u001b[0;36m_gcd_import\u001b[1;34m(name, package, level)\u001b[0m\n",
            "File \u001b[1;32m<frozen importlib._bootstrap>:1360\u001b[0m, in \u001b[0;36m_find_and_load\u001b[1;34m(name, import_)\u001b[0m\n",
            "File \u001b[1;32m<frozen importlib._bootstrap>:1324\u001b[0m, in \u001b[0;36m_find_and_load_unlocked\u001b[1;34m(name, import_)\u001b[0m\n",
            "\u001b[1;31mModuleNotFoundError\u001b[0m: No module named 'jinja2'",
            "\nDuring handling of the above exception, another exception occurred:\n",
            "\u001b[1;31mImportError\u001b[0m                               Traceback (most recent call last)",
            "Cell \u001b[1;32mIn[77], line 1\u001b[0m\n\u001b[1;32m----> 1\u001b[0m \u001b[43mdf\u001b[49m\u001b[38;5;241;43m.\u001b[39;49m\u001b[43mstyle\u001b[49m\u001b[38;5;241m.\u001b[39mto_latex(\u001b[38;5;124m'\u001b[39m\u001b[38;5;124mdf_to_latex.tex\u001b[39m\u001b[38;5;124m'\u001b[39m)\n",
            "File \u001b[1;32mc:\\Users\\Daniela\\AppData\\Local\\Programs\\Python\\Python312\\Lib\\site-packages\\pandas\\core\\frame.py:1430\u001b[0m, in \u001b[0;36mDataFrame.style\u001b[1;34m(self)\u001b[0m\n\u001b[0;32m   1410\u001b[0m \u001b[38;5;129m@property\u001b[39m\n\u001b[0;32m   1411\u001b[0m \u001b[38;5;28;01mdef\u001b[39;00m \u001b[38;5;21mstyle\u001b[39m(\u001b[38;5;28mself\u001b[39m) \u001b[38;5;241m-\u001b[39m\u001b[38;5;241m>\u001b[39m Styler:\n\u001b[0;32m   1412\u001b[0m \u001b[38;5;250m    \u001b[39m\u001b[38;5;124;03m\"\"\"\u001b[39;00m\n\u001b[0;32m   1413\u001b[0m \u001b[38;5;124;03m    Returns a Styler object.\u001b[39;00m\n\u001b[0;32m   1414\u001b[0m \n\u001b[1;32m   (...)\u001b[0m\n\u001b[0;32m   1428\u001b[0m \u001b[38;5;124;03m    `Table Visualization <../../user_guide/style.ipynb>`_ for more examples.\u001b[39;00m\n\u001b[0;32m   1429\u001b[0m \u001b[38;5;124;03m    \"\"\"\u001b[39;00m\n\u001b[1;32m-> 1430\u001b[0m     \u001b[38;5;28;01mfrom\u001b[39;00m \u001b[38;5;21;01mpandas\u001b[39;00m\u001b[38;5;21;01m.\u001b[39;00m\u001b[38;5;21;01mio\u001b[39;00m\u001b[38;5;21;01m.\u001b[39;00m\u001b[38;5;21;01mformats\u001b[39;00m\u001b[38;5;21;01m.\u001b[39;00m\u001b[38;5;21;01mstyle\u001b[39;00m \u001b[38;5;28;01mimport\u001b[39;00m Styler\n\u001b[0;32m   1432\u001b[0m     \u001b[38;5;28;01mreturn\u001b[39;00m Styler(\u001b[38;5;28mself\u001b[39m)\n",
            "File \u001b[1;32mc:\\Users\\Daniela\\AppData\\Local\\Programs\\Python\\Python312\\Lib\\site-packages\\pandas\\io\\formats\\style.py:44\u001b[0m\n\u001b[0;32m     40\u001b[0m \u001b[38;5;28;01mfrom\u001b[39;00m \u001b[38;5;21;01mpandas\u001b[39;00m\u001b[38;5;21;01m.\u001b[39;00m\u001b[38;5;21;01mcore\u001b[39;00m\u001b[38;5;21;01m.\u001b[39;00m\u001b[38;5;21;01mshared_docs\u001b[39;00m \u001b[38;5;28;01mimport\u001b[39;00m _shared_docs\n\u001b[0;32m     42\u001b[0m \u001b[38;5;28;01mfrom\u001b[39;00m \u001b[38;5;21;01mpandas\u001b[39;00m\u001b[38;5;21;01m.\u001b[39;00m\u001b[38;5;21;01mio\u001b[39;00m\u001b[38;5;21;01m.\u001b[39;00m\u001b[38;5;21;01mformats\u001b[39;00m\u001b[38;5;21;01m.\u001b[39;00m\u001b[38;5;21;01mformat\u001b[39;00m \u001b[38;5;28;01mimport\u001b[39;00m save_to_buffer\n\u001b[1;32m---> 44\u001b[0m jinja2 \u001b[38;5;241m=\u001b[39m \u001b[43mimport_optional_dependency\u001b[49m\u001b[43m(\u001b[49m\u001b[38;5;124;43m\"\u001b[39;49m\u001b[38;5;124;43mjinja2\u001b[39;49m\u001b[38;5;124;43m\"\u001b[39;49m\u001b[43m,\u001b[49m\u001b[43m \u001b[49m\u001b[43mextra\u001b[49m\u001b[38;5;241;43m=\u001b[39;49m\u001b[38;5;124;43m\"\u001b[39;49m\u001b[38;5;124;43mDataFrame.style requires jinja2.\u001b[39;49m\u001b[38;5;124;43m\"\u001b[39;49m\u001b[43m)\u001b[49m\n\u001b[0;32m     46\u001b[0m \u001b[38;5;28;01mfrom\u001b[39;00m \u001b[38;5;21;01mpandas\u001b[39;00m\u001b[38;5;21;01m.\u001b[39;00m\u001b[38;5;21;01mio\u001b[39;00m\u001b[38;5;21;01m.\u001b[39;00m\u001b[38;5;21;01mformats\u001b[39;00m\u001b[38;5;21;01m.\u001b[39;00m\u001b[38;5;21;01mstyle_render\u001b[39;00m \u001b[38;5;28;01mimport\u001b[39;00m (\n\u001b[0;32m     47\u001b[0m     CSSProperties,\n\u001b[0;32m     48\u001b[0m     CSSStyles,\n\u001b[1;32m   (...)\u001b[0m\n\u001b[0;32m     56\u001b[0m     refactor_levels,\n\u001b[0;32m     57\u001b[0m )\n\u001b[0;32m     59\u001b[0m \u001b[38;5;28;01mif\u001b[39;00m TYPE_CHECKING:\n",
            "File \u001b[1;32mc:\\Users\\Daniela\\AppData\\Local\\Programs\\Python\\Python312\\Lib\\site-packages\\pandas\\compat\\_optional.py:138\u001b[0m, in \u001b[0;36mimport_optional_dependency\u001b[1;34m(name, extra, errors, min_version)\u001b[0m\n\u001b[0;32m    136\u001b[0m \u001b[38;5;28;01mexcept\u001b[39;00m \u001b[38;5;167;01mImportError\u001b[39;00m:\n\u001b[0;32m    137\u001b[0m     \u001b[38;5;28;01mif\u001b[39;00m errors \u001b[38;5;241m==\u001b[39m \u001b[38;5;124m\"\u001b[39m\u001b[38;5;124mraise\u001b[39m\u001b[38;5;124m\"\u001b[39m:\n\u001b[1;32m--> 138\u001b[0m         \u001b[38;5;28;01mraise\u001b[39;00m \u001b[38;5;167;01mImportError\u001b[39;00m(msg)\n\u001b[0;32m    139\u001b[0m     \u001b[38;5;28;01mreturn\u001b[39;00m \u001b[38;5;28;01mNone\u001b[39;00m\n\u001b[0;32m    141\u001b[0m \u001b[38;5;66;03m# Handle submodules: if we have submodule, grab parent module from sys.modules\u001b[39;00m\n",
            "\u001b[1;31mImportError\u001b[0m: Missing optional dependency 'Jinja2'. DataFrame.style requires jinja2. Use pip or conda to install Jinja2."
          ]
        }
      ],
      "source": [
        "df.style.to_latex('df_to_latex.tex')"
      ]
    },
    {
      "cell_type": "code",
      "execution_count": 79,
      "metadata": {
        "id": "idK0c351ssCw"
      },
      "outputs": [
        {
          "name": "stderr",
          "output_type": "stream",
          "text": [
            "'cat' is not recognized as an internal or external command,\n",
            "operable program or batch file.\n"
          ]
        }
      ],
      "source": [
        "!cat df_to_latex.tex"
      ]
    },
    {
      "cell_type": "markdown",
      "metadata": {
        "id": "yZbAdExxzFJ0"
      },
      "source": [
        "####  **3.1.6. Markdown | `.to_markdown`**\n",
        "---\n",
        "Al hablar de formatos de presentación, no podía faltar *Markdown*, formato usado, entre otras cosas, en el renderizado de las celdas de texto de los *Notebook*. *Pandas* permite generar texto que representa el formato de tablas usado en este lenguaje. Es ideal para generar tablas para sus proyectos con *Notebooks* de *Python*, o para plataformas como *GitHub*.\n",
        "La mayoría de sus argumentos corresponde a la especificación de la librería [*tabulate*](https://pypi.org/project/tabulate/), sobre la cual *pandas* define la personalización de las tablas de *Markdown* generadas.\n",
        "\n",
        "Lo invitamos a consultar la [especificación](https://pandas.pydata.org/pandas-docs/stable/reference/api/pandas.DataFrame.to_markdown.html) de la función en la documentación oficial para más detalles sobre cómo usar estos argumentos."
      ]
    },
    {
      "cell_type": "code",
      "execution_count": 80,
      "metadata": {
        "id": "YBacGmg7z2Kk"
      },
      "outputs": [
        {
          "data": {
            "text/plain": [
              "'|    |   x |   y |   z |\\n|:---|----:|----:|----:|\\n| a  |  64 |  41 |  28 |\\n| b  |  61 |  95 |  92 |\\n| c  |  49 |  62 |  63 |\\n| d  |  73 |  18 |  12 |'"
            ]
          },
          "execution_count": 80,
          "metadata": {},
          "output_type": "execute_result"
        }
      ],
      "source": [
        "s = df.to_markdown()\n",
        "\n",
        "s"
      ]
    },
    {
      "cell_type": "code",
      "execution_count": 81,
      "metadata": {
        "id": "N4zU-mqE0Z3R"
      },
      "outputs": [
        {
          "data": {
            "text/markdown": [
              "|    |   x |   y |   z |\n",
              "|:---|----:|----:|----:|\n",
              "| a  |  64 |  41 |  28 |\n",
              "| b  |  61 |  95 |  92 |\n",
              "| c  |  49 |  62 |  63 |\n",
              "| d  |  73 |  18 |  12 |"
            ]
          },
          "metadata": {},
          "output_type": "display_data"
        }
      ],
      "source": [
        "from IPython.display import display_markdown, Markdown\n",
        "\n",
        "#Módulo de IPython para imprimir código fuente de markdown.\n",
        "display_markdown(Markdown(s))"
      ]
    },
    {
      "cell_type": "markdown",
      "metadata": {
        "id": "1UGMKvW90s8A"
      },
      "source": [
        "*Pandas* ha dado soporte a una gran variedad de formatos, pero esta guía sería muy extensa si se presentaran en detalle. A continuación, presentamos una lista de los formatos soportados por *pandas* para la generación de tablas a partir de *DataFrames* y *Series*, o de utilidades específicas que le podrían interesar.\n",
        "\n",
        "*  [*Python* Pickle](https://docs.python.org/3/library/pickle.html): [**`.to_pickle`**](https://pandas.pydata.org/pandas-docs/stable/reference/api/pandas.DataFrame.to_pickle.html)\n",
        "*  [*Apache Parquet*](https://parquet.apache.org/): [**`.to_parquet`**](https://pandas.pydata.org/pandas-docs/stable/reference/api/pandas.DataFrame.to_parquet.html)\n",
        "*  [*Hierarchical Data Format*](https://www.hdfgroup.org/solutions/hdf5/): [**`.to_hdf`**](https://pandas.pydata.org/pandas-docs/stable/reference/api/pandas.DataFrame.to_hdf.html)\n",
        "*  [*SQL (Structured Query Language)*](https://docs.sqlalchemy.org/en/13/): [**`.to_sql`**](https://pandas.pydata.org/pandas-docs/stable/reference/api/pandas.DataFrame.to_sql.html)\n",
        "*  [*Feather File Format*](https://arrow.apache.org/docs/python/feather.html): [**`.to_feather`**](https://pandas.pydata.org/pandas-docs/stable/reference/api/pandas.DataFrame.to_feather.html)\n",
        "*  [*Stata dta*](https://www.stata.com/): [**`.to_stata`**](https://pandas.pydata.org/pandas-docs/stable/reference/api/pandas.DataFrame.to_stata.html)\n",
        "*  [*Google Big Query*](https://cloud.google.com/bigquery): [**`.to_gbq`**](https://pandas.pydata.org/pandas-docs/stable/reference/api/pandas.DataFrame.to_gbq.html)\n",
        "*  [Diccionario de *Python*](https://docs.python.org/3/tutorial/datastructures.html#dictionaries): [**`.to_dict`**](https://pandas.pydata.org/pandas-docs/stable/reference/api/pandas.DataFrame.to_dict.html)\n",
        "*  [*NumPy* record](https://numpy.org/devdocs/reference/generated/numpy.recarray.html#numpy.recarray): [**`.to_records`**](https://pandas.pydata.org/pandas-docs/stable/reference/api/pandas.DataFrame.to_records.html)\n",
        "*  Cadena de texto de *Python*: [**`.to_string`**](https://pandas.pydata.org/pandas-docs/stable/reference/api/pandas.DataFrame.to_string.html)\n",
        "*  Copiar al portapapeles: [**`.to_clipboard`**](https://pandas.pydata.org/pandas-docs/stable/reference/api/pandas.DataFrame.to_clipboard.html)\n",
        "\n"
      ]
    },
    {
      "cell_type": "markdown",
      "metadata": {
        "id": "10H3kc449jfG"
      },
      "source": [
        "### **3.2. Importar datos**\n",
        "---\n",
        "\n",
        "*Pandas*, además de generar, brinda soporte para cargar y dar formato a diversos orígenes de datos. Inicialmente, se requiere reunir y entender los datos de interés y, posteriormente, integrarlos en un conjunto sobre el cual hacer actividades propias del análisis de datos.\n",
        "\n",
        "Para esto, *pandas* dispone de la familia de métodos **`pd.read_*`** que, a diferencia de la familia de métodos **`.to_x`**, son llamados desde el módulo **`pd`** en vez que desde un objeto *DataFrame* o *Series*. Existen aún más métodos para la carga de orígenes de datos que aquellos usados en la generación. Se consideran también orígenes remotos, como conjuntos de datos alojados en la web, bases de datos remotas o de APIs específicas para la consulta de datos.\n",
        "\n",
        "Al llamar estos métodos, *pandas* puede retornar objetos de tipo *Series* o de tipo *DataFrame*, dependiendo de las dimensiones del objeto cargado. Le recomendamos que consulte los detalles específicos de cada método de la documentación oficial."
      ]
    },
    {
      "cell_type": "markdown",
      "metadata": {
        "id": "thiiheS6_txM"
      },
      "source": [
        "####  **3.2.1. CSV | `pd.read_csv`**\n",
        "\n",
        "---\n",
        "De la misma forma en que generamos un archivo en este formato, *pandas* permite cargarlo en forma de *DataFrame* o *Series*.\n",
        "En este punto, los argumentos de la función se vuelven fundamentales, dados los posibles problemas que se pueden generar al cargar de forma inadecuada un archivo. *Pandas* permite realizar tareas de limpieza de datos, que se verá en detalle en la segunda parte de este material.\n",
        "Algunos de los argumentos más importantes a tener en cuenta a la hora de cargar archivos en formato .csv son:\n",
        "\n",
        "*  **`path`**: Ruta del archivo a cargar. Este argumento es el primero en posición y es obligatorio. Esta ruta no se limita a archivos locales, también se consideran URLs remotas.\n",
        "*  **`sep`**: Separador de los elementos del archivo.\n",
        "*  **`header`**: Posición del header. La fila indicada será interpretada como los nombres de las columnas y se cargarán las filas que le precedan.\n",
        "*  **`names`**: Nombres a usar para las columnas cargadas. La longitud de esta lista/arreglo debe coincidir con el número de columnas.\n",
        "*  **`index_col`**: Posición o posiciones de las etiquetas usadas como índice. Si es una lista se crea un índice múltiple. Si se pasa el valor **`False`** se puede indicar a *pandas* que no use la primera columna como el índice del *DataFrame*.\n",
        "*  **`usecols`**: Subconjunto de las columnas cargadas a usar en la generación del *DataFrame*.  \n",
        "*  **`true_values` | `true_values`**: Caracteres que serán interpretados como valores de verdad **`True`** y **`False`**.\n",
        "\n",
        "*  **`skip_rows` | `skip_footer`**: Filas a saltar desde el inicio y desde el final.\n",
        "*  **`nrows`**: Total de filas a cargar. Especialmente útil para conjuntos de datos grandes en donde no nos interese toda la información.\n",
        "*  **`na_values` | `keep_default_na` | `na_filter`**: Herramientas para el tratamiento de datos faltantes. Muy importante en el proceso de limpieza de datos.\n",
        "\n",
        "Además de estos, existen muchos argumentos usados para la definición del formato de origen como la fecha o los números decimales, ofreciendo una gran variedad de opciones en la lectura de conjuntos de datos.\n",
        "\n",
        "\n",
        "  Lo invitamos a consultar la [especificación](https://pandas.pydata.org/pandas-docs/stable/reference/api/pandas.read_csv.html#pandas.read_csv) de la función en la documentación oficial para más detalles sobre cómo usar estos argumentos."
      ]
    },
    {
      "cell_type": "markdown",
      "metadata": {
        "id": "1uXzSQHDb_Hk"
      },
      "source": [
        "> **Nota:** El siguiente ejemplo solo funciona en *Google Colab*, que trae por defecto algunos *datasets* generales. Para hacerlo en local, ubique el archivo a cargar en la misma ruta."
      ]
    },
    {
      "cell_type": "code",
      "execution_count": 82,
      "metadata": {
        "id": "BPWU-TbHEV2G"
      },
      "outputs": [
        {
          "ename": "FileNotFoundError",
          "evalue": "[Errno 2] No such file or directory: 'sample_data/california_housing_test.csv'",
          "output_type": "error",
          "traceback": [
            "\u001b[1;31m---------------------------------------------------------------------------\u001b[0m",
            "\u001b[1;31mFileNotFoundError\u001b[0m                         Traceback (most recent call last)",
            "Cell \u001b[1;32mIn[82], line 4\u001b[0m\n\u001b[0;32m      1\u001b[0m \u001b[38;5;66;03m# Carga de archivo ubicado en el sistema de archivos de Google Colab.\u001b[39;00m\n\u001b[0;32m      2\u001b[0m \u001b[38;5;66;03m# En este caso se trata del dataset de prueba de alojamientos en el estado de California.\u001b[39;00m\n\u001b[1;32m----> 4\u001b[0m df \u001b[38;5;241m=\u001b[39m \u001b[43mpd\u001b[49m\u001b[38;5;241;43m.\u001b[39;49m\u001b[43mread_csv\u001b[49m\u001b[43m(\u001b[49m\u001b[38;5;124;43m'\u001b[39;49m\u001b[38;5;124;43msample_data/california_housing_test.csv\u001b[39;49m\u001b[38;5;124;43m'\u001b[39;49m\u001b[43m)\u001b[49m\n\u001b[0;32m      6\u001b[0m df\n",
            "File \u001b[1;32mc:\\Users\\Daniela\\AppData\\Local\\Programs\\Python\\Python312\\Lib\\site-packages\\pandas\\io\\parsers\\readers.py:1026\u001b[0m, in \u001b[0;36mread_csv\u001b[1;34m(filepath_or_buffer, sep, delimiter, header, names, index_col, usecols, dtype, engine, converters, true_values, false_values, skipinitialspace, skiprows, skipfooter, nrows, na_values, keep_default_na, na_filter, verbose, skip_blank_lines, parse_dates, infer_datetime_format, keep_date_col, date_parser, date_format, dayfirst, cache_dates, iterator, chunksize, compression, thousands, decimal, lineterminator, quotechar, quoting, doublequote, escapechar, comment, encoding, encoding_errors, dialect, on_bad_lines, delim_whitespace, low_memory, memory_map, float_precision, storage_options, dtype_backend)\u001b[0m\n\u001b[0;32m   1013\u001b[0m kwds_defaults \u001b[38;5;241m=\u001b[39m _refine_defaults_read(\n\u001b[0;32m   1014\u001b[0m     dialect,\n\u001b[0;32m   1015\u001b[0m     delimiter,\n\u001b[1;32m   (...)\u001b[0m\n\u001b[0;32m   1022\u001b[0m     dtype_backend\u001b[38;5;241m=\u001b[39mdtype_backend,\n\u001b[0;32m   1023\u001b[0m )\n\u001b[0;32m   1024\u001b[0m kwds\u001b[38;5;241m.\u001b[39mupdate(kwds_defaults)\n\u001b[1;32m-> 1026\u001b[0m \u001b[38;5;28;01mreturn\u001b[39;00m \u001b[43m_read\u001b[49m\u001b[43m(\u001b[49m\u001b[43mfilepath_or_buffer\u001b[49m\u001b[43m,\u001b[49m\u001b[43m \u001b[49m\u001b[43mkwds\u001b[49m\u001b[43m)\u001b[49m\n",
            "File \u001b[1;32mc:\\Users\\Daniela\\AppData\\Local\\Programs\\Python\\Python312\\Lib\\site-packages\\pandas\\io\\parsers\\readers.py:620\u001b[0m, in \u001b[0;36m_read\u001b[1;34m(filepath_or_buffer, kwds)\u001b[0m\n\u001b[0;32m    617\u001b[0m _validate_names(kwds\u001b[38;5;241m.\u001b[39mget(\u001b[38;5;124m\"\u001b[39m\u001b[38;5;124mnames\u001b[39m\u001b[38;5;124m\"\u001b[39m, \u001b[38;5;28;01mNone\u001b[39;00m))\n\u001b[0;32m    619\u001b[0m \u001b[38;5;66;03m# Create the parser.\u001b[39;00m\n\u001b[1;32m--> 620\u001b[0m parser \u001b[38;5;241m=\u001b[39m \u001b[43mTextFileReader\u001b[49m\u001b[43m(\u001b[49m\u001b[43mfilepath_or_buffer\u001b[49m\u001b[43m,\u001b[49m\u001b[43m \u001b[49m\u001b[38;5;241;43m*\u001b[39;49m\u001b[38;5;241;43m*\u001b[39;49m\u001b[43mkwds\u001b[49m\u001b[43m)\u001b[49m\n\u001b[0;32m    622\u001b[0m \u001b[38;5;28;01mif\u001b[39;00m chunksize \u001b[38;5;129;01mor\u001b[39;00m iterator:\n\u001b[0;32m    623\u001b[0m     \u001b[38;5;28;01mreturn\u001b[39;00m parser\n",
            "File \u001b[1;32mc:\\Users\\Daniela\\AppData\\Local\\Programs\\Python\\Python312\\Lib\\site-packages\\pandas\\io\\parsers\\readers.py:1620\u001b[0m, in \u001b[0;36mTextFileReader.__init__\u001b[1;34m(self, f, engine, **kwds)\u001b[0m\n\u001b[0;32m   1617\u001b[0m     \u001b[38;5;28mself\u001b[39m\u001b[38;5;241m.\u001b[39moptions[\u001b[38;5;124m\"\u001b[39m\u001b[38;5;124mhas_index_names\u001b[39m\u001b[38;5;124m\"\u001b[39m] \u001b[38;5;241m=\u001b[39m kwds[\u001b[38;5;124m\"\u001b[39m\u001b[38;5;124mhas_index_names\u001b[39m\u001b[38;5;124m\"\u001b[39m]\n\u001b[0;32m   1619\u001b[0m \u001b[38;5;28mself\u001b[39m\u001b[38;5;241m.\u001b[39mhandles: IOHandles \u001b[38;5;241m|\u001b[39m \u001b[38;5;28;01mNone\u001b[39;00m \u001b[38;5;241m=\u001b[39m \u001b[38;5;28;01mNone\u001b[39;00m\n\u001b[1;32m-> 1620\u001b[0m \u001b[38;5;28mself\u001b[39m\u001b[38;5;241m.\u001b[39m_engine \u001b[38;5;241m=\u001b[39m \u001b[38;5;28;43mself\u001b[39;49m\u001b[38;5;241;43m.\u001b[39;49m\u001b[43m_make_engine\u001b[49m\u001b[43m(\u001b[49m\u001b[43mf\u001b[49m\u001b[43m,\u001b[49m\u001b[43m \u001b[49m\u001b[38;5;28;43mself\u001b[39;49m\u001b[38;5;241;43m.\u001b[39;49m\u001b[43mengine\u001b[49m\u001b[43m)\u001b[49m\n",
            "File \u001b[1;32mc:\\Users\\Daniela\\AppData\\Local\\Programs\\Python\\Python312\\Lib\\site-packages\\pandas\\io\\parsers\\readers.py:1880\u001b[0m, in \u001b[0;36mTextFileReader._make_engine\u001b[1;34m(self, f, engine)\u001b[0m\n\u001b[0;32m   1878\u001b[0m     \u001b[38;5;28;01mif\u001b[39;00m \u001b[38;5;124m\"\u001b[39m\u001b[38;5;124mb\u001b[39m\u001b[38;5;124m\"\u001b[39m \u001b[38;5;129;01mnot\u001b[39;00m \u001b[38;5;129;01min\u001b[39;00m mode:\n\u001b[0;32m   1879\u001b[0m         mode \u001b[38;5;241m+\u001b[39m\u001b[38;5;241m=\u001b[39m \u001b[38;5;124m\"\u001b[39m\u001b[38;5;124mb\u001b[39m\u001b[38;5;124m\"\u001b[39m\n\u001b[1;32m-> 1880\u001b[0m \u001b[38;5;28mself\u001b[39m\u001b[38;5;241m.\u001b[39mhandles \u001b[38;5;241m=\u001b[39m \u001b[43mget_handle\u001b[49m\u001b[43m(\u001b[49m\n\u001b[0;32m   1881\u001b[0m \u001b[43m    \u001b[49m\u001b[43mf\u001b[49m\u001b[43m,\u001b[49m\n\u001b[0;32m   1882\u001b[0m \u001b[43m    \u001b[49m\u001b[43mmode\u001b[49m\u001b[43m,\u001b[49m\n\u001b[0;32m   1883\u001b[0m \u001b[43m    \u001b[49m\u001b[43mencoding\u001b[49m\u001b[38;5;241;43m=\u001b[39;49m\u001b[38;5;28;43mself\u001b[39;49m\u001b[38;5;241;43m.\u001b[39;49m\u001b[43moptions\u001b[49m\u001b[38;5;241;43m.\u001b[39;49m\u001b[43mget\u001b[49m\u001b[43m(\u001b[49m\u001b[38;5;124;43m\"\u001b[39;49m\u001b[38;5;124;43mencoding\u001b[39;49m\u001b[38;5;124;43m\"\u001b[39;49m\u001b[43m,\u001b[49m\u001b[43m \u001b[49m\u001b[38;5;28;43;01mNone\u001b[39;49;00m\u001b[43m)\u001b[49m\u001b[43m,\u001b[49m\n\u001b[0;32m   1884\u001b[0m \u001b[43m    \u001b[49m\u001b[43mcompression\u001b[49m\u001b[38;5;241;43m=\u001b[39;49m\u001b[38;5;28;43mself\u001b[39;49m\u001b[38;5;241;43m.\u001b[39;49m\u001b[43moptions\u001b[49m\u001b[38;5;241;43m.\u001b[39;49m\u001b[43mget\u001b[49m\u001b[43m(\u001b[49m\u001b[38;5;124;43m\"\u001b[39;49m\u001b[38;5;124;43mcompression\u001b[39;49m\u001b[38;5;124;43m\"\u001b[39;49m\u001b[43m,\u001b[49m\u001b[43m \u001b[49m\u001b[38;5;28;43;01mNone\u001b[39;49;00m\u001b[43m)\u001b[49m\u001b[43m,\u001b[49m\n\u001b[0;32m   1885\u001b[0m \u001b[43m    \u001b[49m\u001b[43mmemory_map\u001b[49m\u001b[38;5;241;43m=\u001b[39;49m\u001b[38;5;28;43mself\u001b[39;49m\u001b[38;5;241;43m.\u001b[39;49m\u001b[43moptions\u001b[49m\u001b[38;5;241;43m.\u001b[39;49m\u001b[43mget\u001b[49m\u001b[43m(\u001b[49m\u001b[38;5;124;43m\"\u001b[39;49m\u001b[38;5;124;43mmemory_map\u001b[39;49m\u001b[38;5;124;43m\"\u001b[39;49m\u001b[43m,\u001b[49m\u001b[43m \u001b[49m\u001b[38;5;28;43;01mFalse\u001b[39;49;00m\u001b[43m)\u001b[49m\u001b[43m,\u001b[49m\n\u001b[0;32m   1886\u001b[0m \u001b[43m    \u001b[49m\u001b[43mis_text\u001b[49m\u001b[38;5;241;43m=\u001b[39;49m\u001b[43mis_text\u001b[49m\u001b[43m,\u001b[49m\n\u001b[0;32m   1887\u001b[0m \u001b[43m    \u001b[49m\u001b[43merrors\u001b[49m\u001b[38;5;241;43m=\u001b[39;49m\u001b[38;5;28;43mself\u001b[39;49m\u001b[38;5;241;43m.\u001b[39;49m\u001b[43moptions\u001b[49m\u001b[38;5;241;43m.\u001b[39;49m\u001b[43mget\u001b[49m\u001b[43m(\u001b[49m\u001b[38;5;124;43m\"\u001b[39;49m\u001b[38;5;124;43mencoding_errors\u001b[39;49m\u001b[38;5;124;43m\"\u001b[39;49m\u001b[43m,\u001b[49m\u001b[43m \u001b[49m\u001b[38;5;124;43m\"\u001b[39;49m\u001b[38;5;124;43mstrict\u001b[39;49m\u001b[38;5;124;43m\"\u001b[39;49m\u001b[43m)\u001b[49m\u001b[43m,\u001b[49m\n\u001b[0;32m   1888\u001b[0m \u001b[43m    \u001b[49m\u001b[43mstorage_options\u001b[49m\u001b[38;5;241;43m=\u001b[39;49m\u001b[38;5;28;43mself\u001b[39;49m\u001b[38;5;241;43m.\u001b[39;49m\u001b[43moptions\u001b[49m\u001b[38;5;241;43m.\u001b[39;49m\u001b[43mget\u001b[49m\u001b[43m(\u001b[49m\u001b[38;5;124;43m\"\u001b[39;49m\u001b[38;5;124;43mstorage_options\u001b[39;49m\u001b[38;5;124;43m\"\u001b[39;49m\u001b[43m,\u001b[49m\u001b[43m \u001b[49m\u001b[38;5;28;43;01mNone\u001b[39;49;00m\u001b[43m)\u001b[49m\u001b[43m,\u001b[49m\n\u001b[0;32m   1889\u001b[0m \u001b[43m\u001b[49m\u001b[43m)\u001b[49m\n\u001b[0;32m   1890\u001b[0m \u001b[38;5;28;01massert\u001b[39;00m \u001b[38;5;28mself\u001b[39m\u001b[38;5;241m.\u001b[39mhandles \u001b[38;5;129;01mis\u001b[39;00m \u001b[38;5;129;01mnot\u001b[39;00m \u001b[38;5;28;01mNone\u001b[39;00m\n\u001b[0;32m   1891\u001b[0m f \u001b[38;5;241m=\u001b[39m \u001b[38;5;28mself\u001b[39m\u001b[38;5;241m.\u001b[39mhandles\u001b[38;5;241m.\u001b[39mhandle\n",
            "File \u001b[1;32mc:\\Users\\Daniela\\AppData\\Local\\Programs\\Python\\Python312\\Lib\\site-packages\\pandas\\io\\common.py:873\u001b[0m, in \u001b[0;36mget_handle\u001b[1;34m(path_or_buf, mode, encoding, compression, memory_map, is_text, errors, storage_options)\u001b[0m\n\u001b[0;32m    868\u001b[0m \u001b[38;5;28;01melif\u001b[39;00m \u001b[38;5;28misinstance\u001b[39m(handle, \u001b[38;5;28mstr\u001b[39m):\n\u001b[0;32m    869\u001b[0m     \u001b[38;5;66;03m# Check whether the filename is to be opened in binary mode.\u001b[39;00m\n\u001b[0;32m    870\u001b[0m     \u001b[38;5;66;03m# Binary mode does not support 'encoding' and 'newline'.\u001b[39;00m\n\u001b[0;32m    871\u001b[0m     \u001b[38;5;28;01mif\u001b[39;00m ioargs\u001b[38;5;241m.\u001b[39mencoding \u001b[38;5;129;01mand\u001b[39;00m \u001b[38;5;124m\"\u001b[39m\u001b[38;5;124mb\u001b[39m\u001b[38;5;124m\"\u001b[39m \u001b[38;5;129;01mnot\u001b[39;00m \u001b[38;5;129;01min\u001b[39;00m ioargs\u001b[38;5;241m.\u001b[39mmode:\n\u001b[0;32m    872\u001b[0m         \u001b[38;5;66;03m# Encoding\u001b[39;00m\n\u001b[1;32m--> 873\u001b[0m         handle \u001b[38;5;241m=\u001b[39m \u001b[38;5;28;43mopen\u001b[39;49m\u001b[43m(\u001b[49m\n\u001b[0;32m    874\u001b[0m \u001b[43m            \u001b[49m\u001b[43mhandle\u001b[49m\u001b[43m,\u001b[49m\n\u001b[0;32m    875\u001b[0m \u001b[43m            \u001b[49m\u001b[43mioargs\u001b[49m\u001b[38;5;241;43m.\u001b[39;49m\u001b[43mmode\u001b[49m\u001b[43m,\u001b[49m\n\u001b[0;32m    876\u001b[0m \u001b[43m            \u001b[49m\u001b[43mencoding\u001b[49m\u001b[38;5;241;43m=\u001b[39;49m\u001b[43mioargs\u001b[49m\u001b[38;5;241;43m.\u001b[39;49m\u001b[43mencoding\u001b[49m\u001b[43m,\u001b[49m\n\u001b[0;32m    877\u001b[0m \u001b[43m            \u001b[49m\u001b[43merrors\u001b[49m\u001b[38;5;241;43m=\u001b[39;49m\u001b[43merrors\u001b[49m\u001b[43m,\u001b[49m\n\u001b[0;32m    878\u001b[0m \u001b[43m            \u001b[49m\u001b[43mnewline\u001b[49m\u001b[38;5;241;43m=\u001b[39;49m\u001b[38;5;124;43m\"\u001b[39;49m\u001b[38;5;124;43m\"\u001b[39;49m\u001b[43m,\u001b[49m\n\u001b[0;32m    879\u001b[0m \u001b[43m        \u001b[49m\u001b[43m)\u001b[49m\n\u001b[0;32m    880\u001b[0m     \u001b[38;5;28;01melse\u001b[39;00m:\n\u001b[0;32m    881\u001b[0m         \u001b[38;5;66;03m# Binary mode\u001b[39;00m\n\u001b[0;32m    882\u001b[0m         handle \u001b[38;5;241m=\u001b[39m \u001b[38;5;28mopen\u001b[39m(handle, ioargs\u001b[38;5;241m.\u001b[39mmode)\n",
            "\u001b[1;31mFileNotFoundError\u001b[0m: [Errno 2] No such file or directory: 'sample_data/california_housing_test.csv'"
          ]
        }
      ],
      "source": [
        "# Carga de archivo ubicado en el sistema de archivos de Google Colab.\n",
        "# En este caso se trata del dataset de prueba de alojamientos en el estado de California.\n",
        "\n",
        "df = pd.read_csv('sample_data/california_housing_test.csv')\n",
        "\n",
        "df"
      ]
    },
    {
      "cell_type": "code",
      "execution_count": null,
      "metadata": {
        "id": "63YaCpsbgUpA"
      },
      "outputs": [],
      "source": [
        "# Podemos cargar el archivo generado anteriormente.\n",
        "# Recuerde que tiene que haber ejecutado la celda donde se genera o se producirá un error.\n",
        "\n",
        "df = pd.read_csv('df_to_csv.txt', index_col=0)\n",
        "df"
      ]
    },
    {
      "cell_type": "code",
      "execution_count": null,
      "metadata": {
        "id": "hzpNsLaIdO81"
      },
      "outputs": [],
      "source": [
        "# La ruta también puede ser remota, como la de una URL.\n",
        "url = 'https://drive.google.com/uc?export=download&id=1o9hbJkGHtCegsiNyX588gEIPsYetPLMz'\n",
        "df = pd.read_csv(url)\n",
        "df"
      ]
    },
    {
      "cell_type": "markdown",
      "metadata": {
        "id": "0mjrCk62gqIN"
      },
      "source": [
        "####  **3.2.2. Hojas de cálculo | `pd.read_excel`**\n",
        "---\n",
        "*Pandas* permite cargar hojas de cálculo de los formatos *xls*, *xlsx*, *xlsm*, *xlsb*, *odf*, *ods* y *odt*. Al igual que antes, la ruta especificada puede ser local o remota en forma de URL. Algunos argumentos a considerar son:\n",
        "\n",
        "  * El nombre de la hoja a cargar. (**`sheet_name`**)\n",
        "  * Posición del encabezado. (**`header`**)\n",
        "  * Columnas de la hoja de cálculo a usar. Se pueden definir en formato de letras o rangos de letras, notación usada para etiquetar columnas. Expresiones de la forma 'A', 'A,C:E', entre otros. (**`usecols`**)\n",
        "  *  Tipo de dato interpretado por columna. (**`dtype`**)\n",
        "  *  Número de filas a cargar. (**`nrows`**)\n",
        "\n",
        "Además, comparte argumentos de detalles de formato con otras funciones, como se mencionó previamente.\n",
        "\n",
        "  Lo invitamos a consultar la [especificación](https://pandas.pydata.org/pandas-docs/stable/reference/api/pandas.read_excel.html) de la función en la documentación oficial para más detalles sobre cómo usar estos argumentos."
      ]
    },
    {
      "cell_type": "code",
      "execution_count": null,
      "metadata": {
        "id": "Ukh7qQJoj6s2"
      },
      "outputs": [],
      "source": [
        "pd.read_excel('df_to_excel.xlsx', index_col=0)"
      ]
    },
    {
      "cell_type": "markdown",
      "metadata": {
        "id": "MvR6kq-_jhzY"
      },
      "source": [
        "La siguiente es una URL con el *dataset* de datos abiertos de cifras de turismo por mes de la ciudad de Bogotá:"
      ]
    },
    {
      "cell_type": "code",
      "execution_count": null,
      "metadata": {
        "id": "XvGPkISxiRlp"
      },
      "outputs": [],
      "source": [
        "#URL con dataset de datos abiertos de cifras de turismo de la ciudad de Bogotá\n",
        "\n",
        "url = 'https://github.com/JuezUN/datasets/blob/master/cifras_turismobog_2018.xlsx?raw=true'\n",
        "\n",
        "df = pd.read_excel(url,\n",
        "              sheet_name = 'Número de Turistas', #Hoja de cálculo a cargar.\n",
        "              header = 8,  #Posición del encabezado\n",
        "              usecols = 'A:D',  #Usar las primeras 5 columnas\n",
        "              nrows = 48\n",
        "            )\n",
        "\n",
        "df.head()"
      ]
    },
    {
      "cell_type": "markdown",
      "metadata": {
        "id": "kVGdzVw5gqIP"
      },
      "source": [
        "####  **3.2.3. JSON | `pd.read_json`**\n",
        "---\n",
        "En la sección anterior se discutían los métodos para almacenar un objeto mediante el argumento **`orient`**, y se recuerda pues es importante al definir la forma en que se va a cargar un archivo codificado con este estándar en *pandas*. Además de este, otros argumentos a considerar son:\n",
        "\n",
        "\n",
        "  *  Tipo de objeto (*Series* o *DataFrame*) a recuperar. ( **`typ`**)\n",
        "  *  Opciones de formato de fechas específicos de este estándar  (**`convert_dates`** |  **`keep_default_dates`**)\n",
        "\n",
        "Al igual que antes, comparte argumentos de detalles de formato con otras funciones.\n",
        "\n",
        "Lo invitamos a consultar la [especificación](https://pandas.pydata.org/pandas-docs/stable/reference/api/pandas.read_json.html) de la función en la documentación oficial para más detalles sobre cómo usar estos argumentos."
      ]
    },
    {
      "cell_type": "code",
      "execution_count": null,
      "metadata": {
        "id": "KcE_Ghz5wVv-"
      },
      "outputs": [],
      "source": [
        "df = pd.read_json('df_to_json.json')\n",
        "\n",
        "df"
      ]
    },
    {
      "cell_type": "markdown",
      "metadata": {
        "id": "Hc7Rgl10wmg3"
      },
      "source": [
        "El siguiente ejemplo se realizará con el *dataset* del ejemplo del Cuarteto de Anscombe, cargado por defecto en Google Colab y explorado en la **Unidad 4**.\n",
        "\n",
        "> **Nota:** Si está trabajando en local, recuerde descargar y ubicar apropiadamente el *dataset*."
      ]
    },
    {
      "cell_type": "code",
      "execution_count": null,
      "metadata": {
        "id": "2XtalDG9wANZ"
      },
      "outputs": [],
      "source": [
        "#Primero debemos ver en qué formato se encuentra\n",
        "!cat sample_data/anscombe.json"
      ]
    },
    {
      "cell_type": "code",
      "execution_count": null,
      "metadata": {
        "id": "GwkunIStxLQI"
      },
      "outputs": [],
      "source": [
        "df = pd.read_json('sample_data/anscombe.json', orient = 'records')\n",
        "\n",
        "df"
      ]
    },
    {
      "cell_type": "markdown",
      "metadata": {
        "id": "lENI-UDygqIQ"
      },
      "source": [
        "####  **3.2.4. HTML | `pd.read_html`**\n",
        "---\n",
        "Este método permite leer páginas web (usando los protocolos *http*, *ftp* y *file* de URL) en busca de tablas HTML, que son retornadas en una lista de objetos *DataFrame*. Algunos argumentos de interés son:\n",
        "\n",
        "  *  Cadena de texto o expresión regular a buscar en el contenido de las tablas. Si se especifica, solo las tablas que cumplan con esta condición serán cargadas. (**`match`**)\n",
        "\n",
        "  * Etiquetas o atributos HTML usados para identificar una tabla en particular. (**`attrs`**)\n",
        "\n",
        "Lo invitamos a consultar la [especificación](https://pandas.pydata.org/pandas-docs/stable/reference/api/pandas.read_html.html) de la función en la documentación oficial para más detalles sobre cómo usar estos argumentos."
      ]
    },
    {
      "cell_type": "code",
      "execution_count": null,
      "metadata": {
        "id": "kAJCeeFLyB4K"
      },
      "outputs": [],
      "source": [
        "# Conjunto de datos de abanderados de los juegos olímpicos de Río de Janeiro 2016.\n",
        "dfs = pd.read_html('https://es.wikipedia.org/wiki/Anexo:Abanderados_en_la_ceremonia_de_apertura_de_los_Juegos_Ol%C3%ADmpicos_de_R%C3%ADo_de_Janeiro_2016')\n",
        "\n",
        "# Recuerde que la función retorna una lista con todas las tablas, así solo se encuentre una.\n",
        "\n",
        "dfs[0] # Accedemos a la primera posición de la lista de DataFrames."
      ]
    },
    {
      "cell_type": "markdown",
      "metadata": {
        "id": "iIS3PrzaTsGr"
      },
      "source": [
        "## **4. Combinar y agrupar conjuntos de datos**\n",
        "---\n",
        "\n",
        "Cuando se manejan datos que provienen desde múltiples fuentes, es frecuente enfrentar escenarios en los que se requiera combinarlos con el fin de consolidar el conjunto de datos. Esto puede ser necesario para realizar tareas de limpieza, preparación y análisis sobre el conjunto de variables completo.\n",
        "\n",
        "*pandas* permite realizar esta tarea de varias formas, ofreciendo flexibilidad en la manipulación y estructura de datos con sus objetos *DataFrame* y *Series*.\n",
        "\n",
        "A continuación se presentan los métodos principales para la combinación de datos en *pandas*.\n",
        "\n"
      ]
    },
    {
      "cell_type": "markdown",
      "metadata": {
        "id": "xPhGEx9IPEFs"
      },
      "source": [
        "#### **4.1. Combinación de datos**\n",
        "---\n",
        "* **`pd.concat`**: *Pandas* dispone de un método de alto nivel para concatenar objetos *DataFrame* y *Series* de manera secuencial. Similarmente al método **`concatenate`** de *NumPy*, se puede realizar esta concatenación en cualquiera de los dos ejes o *axis* posibles. ($0$ para filas y $1$ para columnas).\n",
        "Al ser de alto nivel, los objetos se pasan como primer argumento en una colección tipo lista o tupla.\n",
        "\n",
        "  Algunos argumentos adicionales a tener en cuenta son:\n",
        "\n",
        "  *  Definir si conservar o no todos los registros, o sólo a aquellos que son producto de la intersección de los índices de todos los objetos. (**`join`**)   \n",
        "  *  Decidir si respetar el índice de los objetos de entrada, o crear un índice de enteros que empiece en 0. (**`ignore_index`**)\n",
        "  *  Decidir si ordenar o no el eje que no es concatenado.   (**`sort`**)\n"
      ]
    },
    {
      "cell_type": "code",
      "execution_count": null,
      "metadata": {
        "id": "U0WEMbwq2ewZ"
      },
      "outputs": [],
      "source": [
        "a = pd.Series([10,11,12], name = 'a')\n",
        "\n",
        "a"
      ]
    },
    {
      "cell_type": "code",
      "execution_count": null,
      "metadata": {
        "id": "6qDAGrC129FY"
      },
      "outputs": [],
      "source": [
        "b = pd.Series([5,4,3], name = 'b')\n",
        "\n",
        "b"
      ]
    },
    {
      "cell_type": "code",
      "execution_count": null,
      "metadata": {
        "id": "QKN2gNUC3Cnm"
      },
      "outputs": [],
      "source": [
        "pd.concat([a, b]) # Por defecto se concatena por filas."
      ]
    },
    {
      "cell_type": "code",
      "execution_count": null,
      "metadata": {
        "id": "ngq8HpFT3o0k"
      },
      "outputs": [],
      "source": [
        "pd.concat([a, b], axis = 1) # Los nombres (atributo name) definen el nombre de la columna."
      ]
    },
    {
      "cell_type": "code",
      "execution_count": null,
      "metadata": {
        "id": "DI4a-lhg3yjC"
      },
      "outputs": [],
      "source": [
        "df_a = pd.DataFrame(np.eye(3))\n",
        "\n",
        "df_a"
      ]
    },
    {
      "cell_type": "code",
      "execution_count": null,
      "metadata": {
        "id": "VoiWSsG44Arv"
      },
      "outputs": [],
      "source": [
        "df_b = pd.DataFrame(np.full((3,2), -1))\n",
        "\n",
        "df_b"
      ]
    },
    {
      "cell_type": "code",
      "execution_count": null,
      "metadata": {
        "id": "EBewO-W64Djd"
      },
      "outputs": [],
      "source": [
        "pd.concat([df_a, df_b], ignore_index= True)"
      ]
    },
    {
      "cell_type": "code",
      "execution_count": null,
      "metadata": {
        "id": "1i3utaZW4KRT"
      },
      "outputs": [],
      "source": [
        "pd.concat([df_a, df_b], axis = 1, ignore_index = True)"
      ]
    },
    {
      "cell_type": "markdown",
      "metadata": {
        "id": "1tb0S-tbF03h"
      },
      "source": [
        " * **`df.assign`**: Otro método para combinar *Series* u otros objetos similares y añadir su contenido a un *DataFrame* existente en forma de columnas. Los datos permitidos para construir columnas con el método **`assign`** son:\n",
        "\n",
        "  * Objetos *Series*.\n",
        "  * Listas y tuplas de *Python*.\n",
        "  * Arreglos de *NumPy*\n",
        "  * Valores escalares.\n",
        "  * Valores invocables como funciones o clases.\n",
        "\n",
        "Todos los argumentos ingresados al método se interpretan como columnas nuevas a ser creadas.\n",
        "  \n"
      ]
    },
    {
      "cell_type": "code",
      "execution_count": null,
      "metadata": {
        "id": "bnKhwC1BBM67"
      },
      "outputs": [],
      "source": [
        "df = pd.DataFrame({'a' : [1, 2, 3],\n",
        "                   'b' : [4, 5, 6],\n",
        "                   'c' : [7, 8, 9]})\n",
        "df"
      ]
    },
    {
      "cell_type": "code",
      "execution_count": null,
      "metadata": {
        "id": "bKwUqj69BhyX"
      },
      "outputs": [],
      "source": [
        "serie = pd.Series(['a', 'b', 'c'])\n",
        "lista = [-1] * 3\n",
        "arreglo = np.linspace(0, 1, 3)\n",
        "escalar = 100\n",
        "función = lambda x : x['a'] + x['b']\n",
        "\n",
        "df.assign(d = serie,\n",
        "          e = lista,\n",
        "          f = arreglo,\n",
        "          g = escalar,\n",
        "          h = función)"
      ]
    },
    {
      "cell_type": "code",
      "execution_count": null,
      "metadata": {
        "id": "E9vtCx9GDbbC"
      },
      "outputs": [],
      "source": [
        "# El objeto original no se modifica. Recuerde reasignar.\n",
        "df"
      ]
    },
    {
      "cell_type": "code",
      "execution_count": null,
      "metadata": {
        "id": "Hy2HT54-DhDJ"
      },
      "outputs": [],
      "source": [
        "df = df.assign(d = serie,\n",
        "          e = lista,\n",
        "          f = arreglo,\n",
        "          g = escalar,\n",
        "          h = función)\n",
        "df"
      ]
    },
    {
      "cell_type": "markdown",
      "metadata": {
        "id": "5okWE72SF0-v"
      },
      "source": [
        "* **`df.merge`**: Este método permite combinar el contenido de dos *DataFrame*. Los valores de la columna indicada, que correspondan en ambos objetos, formarán una nueva fila con los datos de ambos *DataFrame* originales, combinando los valores de las demás columnas en vez de agregarlos secuencialmente. El método es llamado en el primer *DataFrame*, mientras que el segundo es pasado como el primer argumento.\n",
        "\n",
        "  Algunos de sus argumentos son:\n",
        "\n",
        "  * **`how`**: Este argumento define qué valores se van a conservar. Tiene 4 opciones, inspiradas en los *join* de SQL.\n",
        "  * **`outer`**: Se conservan todos los elementos.\n",
        "  * **`inner`**: Se conservan solo los elementos que estén en ambos *DataFrame*.\n",
        "  * **`left`**: Se conservan todos los elementos del *DataFrame* izquierdo.\n",
        "  * **`right`**: Se conservan todos los elementos del *DataFrame* derecho.\n",
        "  * **`on` | `left_on` | `right_on`**: Nombre de la columna a combinar. Se puede definir nombres distintos por cada *DataFrame*.\n",
        "\n",
        "  * **`left_index` | `right_index`**: Utilizar el índice en vez de una columna.\n",
        "  * **`suffixes` | `indicator`**: Generar columnas con información general de la combinación, como el origen de la columna o el método usado.\n"
      ]
    },
    {
      "cell_type": "code",
      "execution_count": null,
      "metadata": {
        "id": "HklBJfMTve_B"
      },
      "outputs": [],
      "source": [
        "df_izq = pd.DataFrame(\n",
        "    {\n",
        "     'a' : ['a0', 'a1', 'a2'],\n",
        "     'b' : ['b0', 'b1', 'b2']\n",
        "    }\n",
        ")\n",
        "\n",
        "df_izq"
      ]
    },
    {
      "cell_type": "code",
      "execution_count": null,
      "metadata": {
        "id": "m5LAX8aO-Vhg"
      },
      "outputs": [],
      "source": [
        "df_der = pd.DataFrame(\n",
        "    {\n",
        "     'a' : ['a1', 'a2', 'a3'],\n",
        "     'c' : ['c1', 'c2', 'c3']\n",
        "    }\n",
        ")\n",
        "df_der"
      ]
    },
    {
      "cell_type": "code",
      "execution_count": null,
      "metadata": {
        "id": "BHbsDYfU-iIN"
      },
      "outputs": [],
      "source": [
        "# Por defecto el método es \"inner\"\n",
        "df_izq.merge(df_der, on = 'a') # Se une con respecto a la columna 'a' en ambas tablas."
      ]
    },
    {
      "cell_type": "code",
      "execution_count": null,
      "metadata": {
        "id": "WaOrnni2AAuv"
      },
      "outputs": [],
      "source": [
        "df_izq.merge(df_der, on = 'a', how = 'outer')"
      ]
    },
    {
      "cell_type": "code",
      "execution_count": null,
      "metadata": {
        "id": "mK02PVtkAKAt"
      },
      "outputs": [],
      "source": [
        "df_izq.merge(df_der, on = 'a', how = 'left')"
      ]
    },
    {
      "cell_type": "code",
      "execution_count": null,
      "metadata": {
        "id": "ZN9PGQ5yAQFE"
      },
      "outputs": [],
      "source": [
        "df_izq.merge(df_der, on = 'a', how = 'right')"
      ]
    },
    {
      "cell_type": "code",
      "execution_count": null,
      "metadata": {
        "id": "AF6Xh93UAfD0"
      },
      "outputs": [],
      "source": [
        "df_der = pd.DataFrame(\n",
        "  {\n",
        "    'col_a' : ['a1', 'a2', 'a3'],\n",
        "    'b' : ['B1', 'B2', 'B3']\n",
        "  }\n",
        ")\n",
        "df_der"
      ]
    },
    {
      "cell_type": "code",
      "execution_count": null,
      "metadata": {
        "id": "V99Zsy8hAys0"
      },
      "outputs": [],
      "source": [
        "#Cuando se encuentran registros solapados se crean columnas aparte con sufijos por cada tabla.\n",
        "df_izq.merge(df_der,\n",
        "              left_on = 'a',      # Columna usada en la tabla izquierda.\n",
        "              right_on = 'col_a', # Columna usada en la tabla derecha.\n",
        "              how = 'outer')"
      ]
    },
    {
      "cell_type": "code",
      "execution_count": null,
      "metadata": {
        "id": "W_vQPkSRBP8J"
      },
      "outputs": [],
      "source": [
        "df_izq.merge(df_der,\n",
        "              left_on = 'a',      # Columna usada en la tabla izquierda.\n",
        "              right_on = 'col_a', # Columna usada en la tabla derecha.\n",
        "              how = 'outer',\n",
        "              suffixes = ('_izq', '_der'), # Sufijos para columnas solapadas.\n",
        "              indicator = True # Indicador (columna \"_merge\") de origen de cada fila.\n",
        "              )"
      ]
    },
    {
      "cell_type": "markdown",
      "metadata": {
        "id": "soOJOASlGCfv"
      },
      "source": [
        "* **`df.join`**: Este método comparte la funcionalidad de **`merge`**, pero acercándose más al estilo de combinación de tablas SQL, que realiza combinaciones en los índices de cada tabla. Si bien se puede obtener el mismo resultado con **`merge`** y los argumentos **`left_index`** y **`right_index`**, se recomienda usar **`join`** para simplificar la tarea."
      ]
    },
    {
      "cell_type": "code",
      "execution_count": null,
      "metadata": {
        "id": "MbYC0B-7C9bZ"
      },
      "outputs": [],
      "source": [
        "df_izq = pd.DataFrame(\n",
        "    {\n",
        "     'a' : ['a0', 'a1', 'a2'],\n",
        "     'b' : ['b0', 'b1', 'b2']\n",
        "    },\n",
        "    index = ['i0', 'i1', 'i2'] #Usamos el mismo ejemplo, pero con índice distinto.\n",
        ")\n",
        "\n",
        "df_izq"
      ]
    },
    {
      "cell_type": "code",
      "execution_count": null,
      "metadata": {
        "id": "3g4d0kShDRUz"
      },
      "outputs": [],
      "source": [
        "df_der = pd.DataFrame(\n",
        "    {\n",
        "     'c' : ['c1', 'c3', 'c4'],\n",
        "     'd' : ['d1', 'd3', 'd4']\n",
        "    },\n",
        "    index = ['i1', 'i3', 'i4']\n",
        ")\n",
        "\n",
        "df_der"
      ]
    },
    {
      "cell_type": "code",
      "execution_count": null,
      "metadata": {
        "id": "89Wt89sWDlSE"
      },
      "outputs": [],
      "source": [
        "# Usando merge\n",
        "df_izq.merge(df_der, left_index = True, right_index = True, how = 'outer')"
      ]
    },
    {
      "cell_type": "code",
      "execution_count": null,
      "metadata": {
        "id": "ajNwb1sgD1Ty"
      },
      "outputs": [],
      "source": [
        "# El mismo resultado con join\n",
        "df_izq.join(df_der, how = 'outer')"
      ]
    },
    {
      "cell_type": "markdown",
      "metadata": {
        "id": "Ib5Jns5zWH2c"
      },
      "source": [
        "El objeto pasado como argumento puede ser un objeto *Series* con nombre. El nombre es necesario pues corresponde al nombre de la columna creada."
      ]
    },
    {
      "cell_type": "code",
      "execution_count": null,
      "metadata": {
        "id": "OEcHu7o3ETUz"
      },
      "outputs": [],
      "source": [
        "sr = pd.Series([0, 1, 0, 0],\n",
        "                 index = ['i0', 'i1', 'i3', 'i4'],\n",
        "                 name = 's')\n",
        "\n",
        "df_der.join(sr) # En join el método por defecto es \"left\""
      ]
    },
    {
      "cell_type": "code",
      "execution_count": null,
      "metadata": {
        "id": "-2kBeUhYU-hK"
      },
      "outputs": [],
      "source": [
        "df_der2 = pd.DataFrame(\n",
        "    {\n",
        "      'b' : ['b1', 'b3', 'b4'],\n",
        "      'c' : ['c1', 'c3', 'c4']\n",
        "    },\n",
        "    index = ['i1', 'i3', 'i4']\n",
        ")\n",
        "\n",
        "df_izq.join(df_der2,\n",
        "             how = 'outer',\n",
        "             lsuffix = '_izq', # Los sufijos se especifican por separado.\n",
        "             rsuffix = '_der'\n",
        "             )"
      ]
    },
    {
      "cell_type": "markdown",
      "metadata": {
        "id": "qiJbQt-sEX3_"
      },
      "source": [
        "El método **`join`** también permite hacer múltiples combinaciones en un solo llamado, pasando como argumento del método una lista de *DataFrames*."
      ]
    },
    {
      "cell_type": "code",
      "execution_count": null,
      "metadata": {
        "id": "_isk84t5Wn1t"
      },
      "outputs": [],
      "source": [
        "df_der2 = pd.DataFrame(\n",
        "    {\n",
        "      'e' : ['e0', 'e3', 'e4'],\n",
        "      'f' : ['f0', 'f3', 'f4']\n",
        "    },\n",
        "    index = ['i0', 'i3', 'i4']\n",
        ")\n",
        "\n",
        "\n",
        "df_izq.join([df_der, df_der2],\n",
        "             how = 'outer')"
      ]
    },
    {
      "cell_type": "markdown",
      "metadata": {
        "id": "ZVmjPDly3Vt-"
      },
      "source": [
        "#### **4.2. Agrupación de datos con `df.groupby`**\n",
        "---\n",
        "\n",
        "*Pandas* ofrece métodos para realizar operaciones de agrupación y combinación de datos dentro de un mismo objeto. Estas operaciones consisten en tres fases:\n",
        "\n",
        "*  **Separar** los datos en grupos basándose en algunos criterios.\n",
        "*  **Aplicar** una función a cada grupo. Estas funciones pueden ser de agregación, transformación o filtrado.\n",
        "*  **Combinar** los resultados de la función en una estructura de datos nueva, como un *DataFrame*.\n",
        "\n",
        "\n",
        "Esto es posible con el método **`groupby`**, que realiza un agrupamiento respecto a los criterios definidos en su argumento."
      ]
    },
    {
      "cell_type": "code",
      "execution_count": null,
      "metadata": {
        "id": "r9tEvveWc9Je"
      },
      "outputs": [],
      "source": [
        "#Usaremos de nuevo el dataset de ejemplo de Anscombe para este ejemplo.\n",
        "df = pd.read_json('sample_data/anscombe.json', orient = 'records')\n",
        "\n",
        "df"
      ]
    },
    {
      "cell_type": "code",
      "execution_count": null,
      "metadata": {
        "id": "sn5jvgo_c8La"
      },
      "outputs": [],
      "source": [
        "# Podemos definir una columna categórica respecto a la cual agrupar.\n",
        "df.groupby('Series')"
      ]
    },
    {
      "cell_type": "markdown",
      "metadata": {
        "id": "1_kSTd2ie1fE"
      },
      "source": [
        "La agrupación genera un objeto de tipo **`groupby`**, que contiene la información y los métodos necesarios para operar con cada grupo obtenido. Cada grupo es técnicamente un *DataFrame*, aunque para esto se tienen que iterar."
      ]
    },
    {
      "cell_type": "code",
      "execution_count": null,
      "metadata": {
        "id": "E7NQxc737QdH"
      },
      "outputs": [],
      "source": [
        "for nombre, grupo in df.groupby('Series'):\n",
        "  print(f'Nombre del grupo: {nombre}')\n",
        "  print(grupo)"
      ]
    },
    {
      "cell_type": "markdown",
      "metadata": {
        "id": "9-4UdJnNC0H5"
      },
      "source": [
        "Si se desea obtener un grupo en particular, puede usar el método **`get_group`**, indicando el nombre del grupo creado."
      ]
    },
    {
      "cell_type": "code",
      "execution_count": null,
      "metadata": {
        "id": "-0k4JX0wCzpN"
      },
      "outputs": [],
      "source": [
        "df.groupby('Series').get_group('I')"
      ]
    },
    {
      "cell_type": "markdown",
      "metadata": {
        "id": "jw2I6XoZ7rP1"
      },
      "source": [
        "También pueden tomarse funciones, que son evaluadas en el índice del objeto. Sin embargo, es más práctico utilizar los métodos propios del objeto para **aplicar** funciones comunes.\n",
        "\n",
        "A continuación se presentan algunos de los métodos más importantes y flexibles definidos para objetos de este tipo."
      ]
    },
    {
      "cell_type": "markdown",
      "metadata": {
        "id": "_P5v7NCR872g"
      },
      "source": [
        "* **`groupby.apply`**: Este método es el más general para la aplicación de funciones en grupos de un objeto **`groupby`**. Permite aplicar una función en un objeto por cada grupo (un objeto *DataFrame*) calculado."
      ]
    },
    {
      "cell_type": "code",
      "execution_count": null,
      "metadata": {
        "id": "3mS-Zv2LAUvp"
      },
      "outputs": [],
      "source": [
        "#Máximo de los elementos en la columna Y de cada grupo.\n",
        "df.groupby('Series').apply(lambda df: df['Y'].max())"
      ]
    },
    {
      "cell_type": "code",
      "execution_count": null,
      "metadata": {
        "id": "DY417MpJEWgG"
      },
      "outputs": [],
      "source": [
        "def apply_func(df):\n",
        "  '''\n",
        "  Función más compleja que define una fila nueva\n",
        "  con los máximos y mínimos en X y Y de cada grupo.\n",
        "  '''\n",
        "  return pd.Series({\n",
        "       'max_x': df['X'].max(),\n",
        "       'min_x': df['X'].min(),\n",
        "       'max_y': df['Y'].min(),\n",
        "       'min_y': df['Y'].min()\n",
        "   })\n",
        "\n",
        "df.groupby('Series').apply(apply_func)"
      ]
    },
    {
      "cell_type": "markdown",
      "metadata": {
        "id": "smIpNmfGFV38"
      },
      "source": [
        "El método **`apply`** está definido también en objetos *DataFrame* y *Series*."
      ]
    },
    {
      "cell_type": "code",
      "execution_count": null,
      "metadata": {
        "id": "UdYMHQkMUiKh"
      },
      "outputs": [],
      "source": [
        "# En Series recibe funciones que toman como parámetros valores escalares.\n",
        "\n",
        "s = pd.Series(np.linspace(0,1,11))\n",
        "\n",
        "s"
      ]
    },
    {
      "cell_type": "code",
      "execution_count": null,
      "metadata": {
        "id": "GXS_GuohVApw"
      },
      "outputs": [],
      "source": [
        "# Función de números negativos.\n",
        "\n",
        "s.apply(lambda x: -x)"
      ]
    },
    {
      "cell_type": "code",
      "execution_count": null,
      "metadata": {
        "id": "4ma5rd1lVHFZ"
      },
      "outputs": [],
      "source": [
        "# En DataFrame, el argumento recibe una fila o columna en forma de Series.\n",
        "\n",
        "df = pd.DataFrame(np.random.rand(7,3), columns = list('abc'))\n",
        "df"
      ]
    },
    {
      "cell_type": "code",
      "execution_count": null,
      "metadata": {
        "id": "tQknLZgpVXkL"
      },
      "outputs": [],
      "source": [
        "df.apply(lambda row: row.sum()) # Por defecto se aplica la función en columnas."
      ]
    },
    {
      "cell_type": "code",
      "execution_count": null,
      "metadata": {
        "id": "FKHBnAzNVlHU"
      },
      "outputs": [],
      "source": [
        "df.apply(lambda row: row.sum(), axis = 1) #El argumento axis = 1 indica que se aplique por filas."
      ]
    },
    {
      "cell_type": "markdown",
      "metadata": {
        "id": "ZZIdW2IjWCyA"
      },
      "source": [
        "* **`groupby.aggregate|agg`**: Uno de los tipos de aplicación de funciones más importante es la **agregación** que consiste en realizar un cálculo en cada grupo que resuma o represente al grupo completo, como la suma o la media. Para esto, se puede usar el método **`.aggregate`** (o su equivalente **`.agg`**), que acepta como argumento una función de agregación a aplicar en los *DataFrame* definidos en cada grupo.\n"
      ]
    },
    {
      "cell_type": "markdown",
      "metadata": {
        "id": "TLVfKhZ2s76b"
      },
      "source": [
        "En el siguiente video presentamos un ejemplo de su aplicación, con una tabla ficticia de datos de una competición deportiva internacional.\n",
        "\n",
        "> **Nota:** Las funciones **`agg`** y **`aggregate`** también están disponibles como métodos de *DataFrame* y *Series*."
      ]
    },
    {
      "cell_type": "code",
      "execution_count": null,
      "metadata": {
        "cellView": "form",
        "id": "bTlEyDXoVxVn"
      },
      "outputs": [],
      "source": [
        "#@title **4.2.1. Agrupación y agregación (animación)**\n",
        "from IPython.display import IFrame\n",
        "\n",
        "IFrame(src=\"https://drive.google.com/file/d/1L1lyhfxCr8FUZxJqRn5WgDR5DIvfzAWL/preview\",\n",
        "       width='768px', height='432px')"
      ]
    },
    {
      "cell_type": "code",
      "execution_count": null,
      "metadata": {
        "id": "6n6SwxolZKog"
      },
      "outputs": [],
      "source": [
        "df = pd.DataFrame({\n",
        "      'País'      : ['COL', 'BRA', 'VEN', 'COL', 'VEN', 'COL'],\n",
        "      'Edad'      : [20, 24, 30, 34, 25, 35],\n",
        "      'Medallas'  : [5, 14, 4, 4, 10, 0]\n",
        "   },\n",
        "   index = ['1001', '1002','1003','1004','1005','1006']\n",
        "   )\n",
        "\n",
        "df"
      ]
    },
    {
      "cell_type": "markdown",
      "metadata": {
        "id": "A4gHLrPPb7sr"
      },
      "source": [
        "El método **`agg`** acepta funciones puntuales como **`apply`**, además de permitir ingresar una o varias funciones de agregación por columna mediante un diccionario."
      ]
    },
    {
      "cell_type": "code",
      "execution_count": null,
      "metadata": {
        "id": "MUUPcao2bIwO"
      },
      "outputs": [],
      "source": [
        "# Tabla que refleja la edad máxima y el total de medallas por país.\n",
        "\n",
        "df.groupby('País').agg({'Edad' : max, 'Medallas' : sum})"
      ]
    },
    {
      "cell_type": "code",
      "execution_count": null,
      "metadata": {
        "id": "vzL7stA4cSNX"
      },
      "outputs": [],
      "source": [
        "# Se pueden agregar varias funciones por columna.\n",
        "\n",
        "df.groupby('País').agg({'Edad' : [min, max], 'Medallas' : sum})"
      ]
    },
    {
      "cell_type": "code",
      "execution_count": null,
      "metadata": {
        "id": "O27A5YxMcchR"
      },
      "outputs": [],
      "source": [
        "# El mismo resultado se puede conseguir con una función y el método apply.\n",
        "\n",
        "def resumen_deportivo(df):\n",
        "  return pd.Series({\n",
        "                      'Edad (max)': df['Edad'].max(),\n",
        "                      'Medallas (sum)': df['Medallas'].sum()\n",
        "                    })\n",
        "\n",
        "df.groupby('País').apply(resumen_deportivo)"
      ]
    },
    {
      "cell_type": "markdown",
      "metadata": {
        "id": "4r5hSQAz6d-g"
      },
      "source": [
        "## **Recursos adicionales**\n",
        "---\n",
        "\n",
        "En este material se consideran algunas de las funciones más comunes, pero quedan muchas otras fuera de alcance. Lo invitamos a que consulte la [documentación oficial](https://pandas.pydata.org/pandas-docs/stable/reference/index.html), y en especial la [Guía de usuario](https://pandas.pydata.org/pandas-docs/stable/user_guide/index.html) de *pandas*.\n",
        "\n",
        "Además, a continuación se presenta una lista de recursos adicionales que le podrán ser de utilidad:\n",
        "\n",
        "*  [University of California San Diego. Coursera - Machine Learning With Big Data](https://www.coursera.org/learn/big-data-machine-learning)\n",
        "*  [Data vedas - Exploración y preparación de los datos](https://www.datavedas.com/data-exploration-and-preparation/)\n",
        "*  [Kaggle - Pandas](https://www.kaggle.com/learn/pandas)\n",
        "*  [CodeCademy - Learn Data Analysis with Pandas](https://www.codecademy.com/learn/data-processing-pandas)\n",
        "*  [University of Michigan. Coursera - Applied Data Science with Python Specialization](https://www.coursera.org/specializations/data-science-python)"
      ]
    },
    {
      "cell_type": "markdown",
      "metadata": {
        "id": "z4VavQ3wgMGo"
      },
      "source": [
        "## **Créditos**\n",
        "---\n",
        "\n",
        "* **Profesor:** [Felipe Restrepo Calle](https://dis.unal.edu.co/~ferestrepoca/)\n",
        "* **Asistentes docentes:**\n",
        "  - Alberto Nicolai Romero Martínez\n",
        "  - Miguel Angel Ortiz Marín\n",
        "\n",
        "**Universidad Nacional de Colombia** - *Facultad de Ingeniería*"
      ]
    }
  ],
  "metadata": {
    "colab": {
      "include_colab_link": true,
      "private_outputs": true,
      "provenance": []
    },
    "kernelspec": {
      "display_name": "Python 3",
      "name": "python3"
    },
    "language_info": {
      "codemirror_mode": {
        "name": "ipython",
        "version": 3
      },
      "file_extension": ".py",
      "mimetype": "text/x-python",
      "name": "python",
      "nbconvert_exporter": "python",
      "pygments_lexer": "ipython3",
      "version": "3.12.2"
    }
  },
  "nbformat": 4,
  "nbformat_minor": 0
}
